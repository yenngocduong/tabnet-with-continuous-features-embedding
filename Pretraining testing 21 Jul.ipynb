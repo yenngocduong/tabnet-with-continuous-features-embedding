{
 "cells": [
  {
   "cell_type": "code",
   "execution_count": 25,
   "metadata": {},
   "outputs": [],
   "source": [
    "%load_ext autoreload\n",
    "%autoreload 2\n"
   ]
  },
  {
   "cell_type": "markdown",
   "metadata": {},
   "source": [
    "# 1. Pre-processing"
   ]
  },
  {
   "cell_type": "code",
   "execution_count": 22,
   "metadata": {},
   "outputs": [
    {
     "name": "stdout",
     "output_type": "stream",
     "text": [
      "File already exists.\n",
      "39 73\n",
      " State-gov 9\n",
      " Bachelors 16\n",
      " 13 16\n",
      " Never-married 7\n",
      " Adm-clerical 15\n",
      " Not-in-family 6\n",
      " White 5\n",
      " Male 2\n",
      " 2174 119\n",
      " 0 92\n",
      " 40 94\n",
      " United-States 42\n",
      " <=50K 2\n",
      "Set 3\n"
     ]
    }
   ],
   "source": [
    "from pytorch_tabnet.tab_model import TabNetClassifier\n",
    "import pytorch_tabnet.tab_model\n",
    "import pytorch_tabnet\n",
    "import pytorch_tabnet.tab_network\n",
    "from pytorch_tabnet.pretraining import TabNetPretrainer\n",
    "import torch\n",
    "from sklearn.preprocessing import LabelEncoder\n",
    "from sklearn.metrics import roc_auc_score, accuracy_score\n",
    "\n",
    "import pandas as pd\n",
    "import numpy as np\n",
    "np.random.seed(0)\n",
    "\n",
    "\n",
    "import os\n",
    "import wget\n",
    "from pathlib import Path\n",
    "\n",
    "from matplotlib import pyplot as plt\n",
    "%matplotlib inline\n",
    "import importlib\n",
    "\n",
    "url = \"https://archive.ics.uci.edu/ml/machine-learning-databases/adult/adult.data\"\n",
    "dataset_name = 'census-income'\n",
    "out = Path(os.getcwd()+'/data/'+dataset_name+'.csv')\n",
    "\n",
    "out.parent.mkdir(parents=True, exist_ok=True)\n",
    "if out.exists():\n",
    "    print(\"File already exists.\")\n",
    "else:\n",
    "    print(\"Downloading file...\")\n",
    "    wget.download(url, out.as_posix())\n",
    "    \n",
    "train = pd.read_csv(out)\n",
    "target = ' <=50K'\n",
    "if \"Set\" not in train.columns:\n",
    "    train[\"Set\"] = np.random.choice([\"train\", \"valid\", \"test\"], p =[.8, .1, .1], size=(train.shape[0],))\n",
    "\n",
    "train_indices = train[train.Set==\"train\"].index\n",
    "valid_indices = train[train.Set==\"valid\"].index\n",
    "test_indices = train[train.Set==\"test\"].index\n",
    "\n",
    "nunique = train.nunique()\n",
    "types = train.dtypes\n",
    "\n",
    "categorical_columns = []\n",
    "categorical_dims =  {}\n",
    "for col in train.columns:\n",
    "    if types[col] == 'object' or nunique[col] < 200:\n",
    "        print(col, train[col].nunique())\n",
    "        l_enc = LabelEncoder()\n",
    "        train[col] = train[col].fillna(\"VV_likely\")\n",
    "        train[col] = l_enc.fit_transform(train[col].values)\n",
    "        categorical_columns.append(col)\n",
    "        categorical_dims[col] = len(l_enc.classes_)\n",
    "    else:\n",
    "        train.fillna(train.loc[train_indices, col].mean(), inplace=True)\n",
    "        \n",
    "        \n",
    "# check that pipeline accepts strings\n",
    "train.loc[train[target]==0, target] = \"wealthy\"\n",
    "train.loc[train[target]==1, target] = \"not_wealthy\"\n",
    "\n",
    "unused_feat = ['Set']\n",
    "\n",
    "features = [ col for col in train.columns if col not in unused_feat+[target]] \n",
    "\n",
    "cat_idxs = [ i for i, f in enumerate(features) if f in categorical_columns]\n",
    "\n",
    "cat_dims = [ categorical_dims[f] for i, f in enumerate(features) if f in categorical_columns]\n",
    "\n",
    "con_idxs = [i for i, f in enumerate(features) if f not in categorical_columns]\n",
    "\n",
    "'''\n",
    "X_train = train[features].values[train_indices]\n",
    "y_train = train[target].values[train_indices]\n",
    "\n",
    "X_valid = train[features].values[valid_indices]\n",
    "y_valid = train[target].values[valid_indices]\n",
    "\n",
    "X_test = train[features].values[test_indices]\n",
    "y_test = train[target].values[test_indices]\n",
    "'''\n",
    "base_auc = 0.9275363726026278\n",
    "base_acc = 0.8677685950413223\n",
    "beat_auc = 0\n",
    "beat_acc = 0\n",
    "\n",
    "base_auc_2 = 0.9313200431309823\n",
    "base_acc_2 = 0.8754208754208754\n",
    "beat_auc_2 = 0\n",
    "beat_acc_2 = 0\n",
    "\n",
    "'''\n",
    "EXPLAIN:\n",
    "    - base_auc: roc auc score of the pretrained version of original model\n",
    "    - base_auc_2: roc auc score of the TabNet modified version with no pretraining\n",
    "    => Now we test the TabNet modified version with pretraining\n",
    "'''\n",
    "\n",
    "#### Customized train, valid, test\n",
    "X_train = np.array(pd.read_csv('X_train.csv'))\n",
    "y_train = np.array(pd.read_csv('y_train.csv')).ravel()\n",
    "\n",
    "X_valid = np.array(pd.read_csv('X_valid.csv'))\n",
    "y_valid = np.array(pd.read_csv('y_valid.csv')).ravel()\n",
    "\n",
    "X_test = np.array(pd.read_csv('X_test.csv'))\n",
    "y_test = np.array(pd.read_csv('y_test.csv')).ravel()"
   ]
  },
  {
   "cell_type": "code",
   "execution_count": null,
   "metadata": {},
   "outputs": [],
   "source": []
  },
  {
   "cell_type": "markdown",
   "metadata": {},
   "source": [
    "# 2. Pretraining"
   ]
  },
  {
   "cell_type": "code",
   "execution_count": 23,
   "metadata": {},
   "outputs": [
    {
     "name": "stdout",
     "output_type": "stream",
     "text": [
      "Device used : cpu\n",
      "In TabNet Pretraining >> before embedder, con_idxs =  [2]\n",
      "In pretraining.py, _set_network, con_idxs =  ([2],)\n",
      "Con idxs =  [2]\n",
      "Cat_idxs= [0, 1, 3, 4, 5, 6, 7, 8, 9, 10, 11, 12, 13]\n",
      "Con_idxs= [2]\n",
      "Input dim = 14\n",
      "Length of embedding_dim = 14\n",
      "epoch 0  | loss: 4.42931 | val_0_unsup_loss: 17.27509|  0:00:02s\n",
      "epoch 1  | loss: 3.42494 | val_0_unsup_loss: 3.48252 |  0:00:06s\n",
      "epoch 2  | loss: 3.38478 | val_0_unsup_loss: 3.39749 |  0:00:09s\n",
      "epoch 3  | loss: 3.36444 | val_0_unsup_loss: 3.38328 |  0:00:12s\n",
      "epoch 4  | loss: 3.36098 | val_0_unsup_loss: 3.38132 |  0:00:15s\n",
      "epoch 5  | loss: 3.35804 | val_0_unsup_loss: 3.36983 |  0:00:19s\n",
      "epoch 6  | loss: 3.36765 | val_0_unsup_loss: 3.3755  |  0:00:22s\n",
      "epoch 7  | loss: 3.36654 | val_0_unsup_loss: 3.37346 |  0:00:25s\n",
      "epoch 8  | loss: 3.35917 | val_0_unsup_loss: 3.37332 |  0:00:29s\n",
      "epoch 9  | loss: 3.36274 | val_0_unsup_loss: 3.37293 |  0:00:32s\n",
      "epoch 10 | loss: 3.36025 | val_0_unsup_loss: 3.37199 |  0:00:36s\n",
      "\n",
      "Early stopping occurred at epoch 10 with best_epoch = 5 and best_val_0_unsup_loss = 3.36983\n",
      "Best weights from best epoch are automatically used!\n",
      "Successfully saved model at ./test_pretrain.zip\n",
      "Device used : cpu\n",
      "Device used : cpu\n",
      "In TabNet Pretraining >> before embedder, con_idxs =  [2]\n",
      "In pretraining.py, _set_network, con_idxs =  ([2],)\n",
      "Con idxs =  [2]\n",
      "Cat_idxs= [0, 1, 3, 4, 5, 6, 7, 8, 9, 10, 11, 12, 13]\n",
      "Con_idxs= [2]\n",
      "Input dim = 14\n",
      "Length of embedding_dim = 14\n"
     ]
    }
   ],
   "source": [
    "'''\n",
    "First, I test with the same model, with con embedding in the TabNet pretrainer, and with con embedding in TabNet classifier.\n",
    "'''\n",
    "\n",
    "# TabNetPretrainer\n",
    "unsupervised_model = TabNetPretrainer(\n",
    "    cat_idxs=cat_idxs,\n",
    "    cat_dims=cat_dims,\n",
    "    cat_emb_dim=1,\n",
    "    con_idxs=con_idxs,\n",
    "    con_emb_dim=35,\n",
    "    optimizer_fn=torch.optim.Adam,\n",
    "    optimizer_params=dict(lr=2e-2),\n",
    "    mask_type='entmax', # \"sparsemax\",\n",
    "    n_shared_decoder=1, # nb shared glu for decoding\n",
    "    n_indep_decoder=1, # nb independent glu for decoding\n",
    ")\n",
    "max_epochs = 1000 if not os.getenv(\"CI\", False) else 2\n",
    "\n",
    "unsupervised_model.fit(\n",
    "    X_train=X_train,\n",
    "    eval_set=[X_valid],\n",
    "    max_epochs=max_epochs , patience=5,\n",
    "    batch_size=2048, virtual_batch_size=128,\n",
    "    num_workers=0,\n",
    "    drop_last=False,\n",
    "    pretraining_ratio=0.8,\n",
    "\n",
    ") \n",
    "\n",
    "\n",
    "\n",
    "\n",
    "unsupervised_model.save_model('./test_pretrain')\n",
    "loaded_pretrain = TabNetPretrainer()\n",
    "loaded_pretrain.load_model('./test_pretrain.zip')"
   ]
  },
  {
   "cell_type": "code",
   "execution_count": 24,
   "metadata": {},
   "outputs": [],
   "source": [
    "# Make reconstruction from a dataset\n",
    "reconstructed_X, embedded_X = unsupervised_model.predict(X_valid)\n",
    "assert(reconstructed_X.shape==embedded_X.shape)"
   ]
  },
  {
   "cell_type": "code",
   "execution_count": 25,
   "metadata": {},
   "outputs": [
    {
     "data": {
      "text/plain": [
       "(3221, 14)"
      ]
     },
     "execution_count": 25,
     "metadata": {},
     "output_type": "execute_result"
    }
   ],
   "source": [
    "X_valid.shape"
   ]
  },
  {
   "cell_type": "code",
   "execution_count": 26,
   "metadata": {},
   "outputs": [
    {
     "data": {
      "text/plain": [
       "(3221, 48)"
      ]
     },
     "execution_count": 26,
     "metadata": {},
     "output_type": "execute_result"
    }
   ],
   "source": [
    "reconstructed_X.shape"
   ]
  },
  {
   "cell_type": "code",
   "execution_count": 27,
   "metadata": {},
   "outputs": [
    {
     "data": {
      "text/plain": [
       "(3221, 48)"
      ]
     },
     "execution_count": 27,
     "metadata": {},
     "output_type": "execute_result"
    }
   ],
   "source": [
    "embedded_X.shape"
   ]
  },
  {
   "cell_type": "code",
   "execution_count": 28,
   "metadata": {},
   "outputs": [
    {
     "data": {
      "text/plain": [
       "array([[ 1.3500384e+00,  1.0216109e+00, -6.7228359e+03, ...,\n",
       "        -5.9349823e-01,  1.8829045e+00,  8.7137467e-01],\n",
       "       [-1.9986119e+00,  1.0216109e+00, -4.2424561e+03, ...,\n",
       "        -5.9349823e-01,  1.8829045e+00,  8.7137467e-01],\n",
       "       [ 1.9383644e+00,  1.0216109e+00, -2.8414488e+04, ...,\n",
       "        -5.9349823e-01,  4.0455222e-01,  8.7137467e-01],\n",
       "       ...,\n",
       "       [ 1.5728759e+00, -1.5267214e+00, -1.7502080e+04, ...,\n",
       "        -5.9349823e-01, -7.7746201e-01,  8.7137467e-01],\n",
       "       [-1.9025394e-01, -3.2146974e+00, -3.7563000e+04, ...,\n",
       "        -5.9349823e-01, -4.3232298e-01,  8.7137467e-01],\n",
       "       [ 1.9383644e+00,  1.0216109e+00, -2.2666479e+04, ...,\n",
       "        -5.9349823e-01, -4.3232298e-01,  8.7137467e-01]], dtype=float32)"
      ]
     },
     "execution_count": 28,
     "metadata": {},
     "output_type": "execute_result"
    }
   ],
   "source": [
    "embedded_X"
   ]
  },
  {
   "cell_type": "code",
   "execution_count": 29,
   "metadata": {},
   "outputs": [],
   "source": [
    "unsupervised_explain_matrix, unsupervised_masks = unsupervised_model.explain(X_valid)"
   ]
  },
  {
   "cell_type": "code",
   "execution_count": 30,
   "metadata": {},
   "outputs": [
    {
     "data": {
      "image/png": "[encoded data removed]",
      "text/plain": [
       "<Figure size 1440x1440 with 3 Axes>"
      ]
     },
     "metadata": {
      "needs_background": "light"
     },
     "output_type": "display_data"
    }
   ],
   "source": [
    "fig, axs = plt.subplots(1, 3, figsize=(20,20))\n",
    "\n",
    "for i in range(3):\n",
    "    axs[i].imshow(unsupervised_masks[i][:50])\n",
    "    axs[i].set_title(f\"mask {i}\")\n"
   ]
  },
  {
   "cell_type": "code",
   "execution_count": 31,
   "metadata": {},
   "outputs": [
    {
     "name": "stdout",
     "output_type": "stream",
     "text": [
      "Successfully saved model at ./test_pretrain.zip\n",
      "Device used : cpu\n",
      "Device used : cpu\n",
      "In TabNet Pretraining >> before embedder, con_idxs =  [2]\n",
      "In pretraining.py, _set_network, con_idxs =  ([2],)\n",
      "Con idxs =  [2]\n",
      "Cat_idxs= [0, 1, 3, 4, 5, 6, 7, 8, 9, 10, 11, 12, 13]\n",
      "Con_idxs= [2]\n",
      "Input dim = 14\n",
      "Length of embedding_dim = 14\n"
     ]
    }
   ],
   "source": [
    "unsupervised_model.save_model('./test_pretrain')\n",
    "loaded_pretrain = TabNetPretrainer()\n",
    "loaded_pretrain.load_model('./test_pretrain.zip')"
   ]
  },
  {
   "cell_type": "code",
   "execution_count": 32,
   "metadata": {},
   "outputs": [
    {
     "data": {
      "text/plain": [
       "{'cat_dims': [73, 9, 16, 16, 7, 15, 6, 5, 2, 119, 92, 94, 42],\n",
       " 'cat_emb_dim': 1,\n",
       " 'cat_idxs': [0, 1, 3, 4, 5, 6, 7, 8, 9, 10, 11, 12, 13],\n",
       " 'clip_value': 1,\n",
       " 'con_emb_dim': 35,\n",
       " 'con_idxs': [2],\n",
       " 'device_name': 'auto',\n",
       " 'dropout': 1,\n",
       " 'embed_dim': 512,\n",
       " 'epsilon': 1e-15,\n",
       " 'forward_expansion': 1,\n",
       " 'gamma': 1.3,\n",
       " 'heads': 1,\n",
       " 'input_dim': 14,\n",
       " 'lambda_sparse': 0.001,\n",
       " 'mask_type': 'entmax',\n",
       " 'momentum': 0.02,\n",
       " 'n_a': 8,\n",
       " 'n_d': 8,\n",
       " 'n_indep_decoder': 1,\n",
       " 'n_independent': 2,\n",
       " 'n_shared': 2,\n",
       " 'n_shared_decoder': 1,\n",
       " 'n_steps': 3,\n",
       " 'optimizer_fn': torch.optim.adam.Adam,\n",
       " 'optimizer_params': {'lr': 0.02},\n",
       " 'output_dim': None,\n",
       " 'scheduler_fn': None,\n",
       " 'scheduler_params': {},\n",
       " 'seed': 0,\n",
       " 'verbose': 1}"
      ]
     },
     "execution_count": 32,
     "metadata": {},
     "output_type": "execute_result"
    }
   ],
   "source": [
    "unsupervised_model.get_params()"
   ]
  },
  {
   "cell_type": "code",
   "execution_count": 33,
   "metadata": {},
   "outputs": [
    {
     "data": {
      "text/plain": [
       "TabNetPretrainer(n_d=8, n_a=8, n_steps=3, gamma=1.3, cat_idxs=[0, 1, 3, 4, 5, 6, 7, 8, 9, 10, 11, 12, 13], cat_dims=[73, 9, 16, 16, 7, 15, 6, 5, 2, 119, 92, 94, 42], cat_emb_dim=1, con_idxs=[2], con_emb_dim=35, n_independent=2, n_shared=2, epsilon=1e-15, momentum=0.02, lambda_sparse=0.001, seed=0, clip_value=1, verbose=1, optimizer_fn=<class 'torch.optim.adam.Adam'>, optimizer_params={'lr': 0.02}, scheduler_fn=None, scheduler_params={}, mask_type='entmax', input_dim=14, output_dim=None, embed_dim=512, dropout=1, forward_expansion=1, heads=1, device_name='auto', n_shared_decoder=1, n_indep_decoder=1)"
      ]
     },
     "execution_count": 33,
     "metadata": {},
     "output_type": "execute_result"
    }
   ],
   "source": [
    "loaded_pretrain"
   ]
  },
  {
   "cell_type": "code",
   "execution_count": 34,
   "metadata": {},
   "outputs": [
    {
     "data": {
      "text/plain": [
       "TabNetPretrainer(n_d=8, n_a=8, n_steps=3, gamma=1.3, cat_idxs=[0, 1, 3, 4, 5, 6, 7, 8, 9, 10, 11, 12, 13], cat_dims=[73, 9, 16, 16, 7, 15, 6, 5, 2, 119, 92, 94, 42], cat_emb_dim=1, con_idxs=[2], con_emb_dim=35, n_independent=2, n_shared=2, epsilon=1e-15, momentum=0.02, lambda_sparse=0.001, seed=0, clip_value=1, verbose=1, optimizer_fn=<class 'torch.optim.adam.Adam'>, optimizer_params={'lr': 0.02}, scheduler_fn=None, scheduler_params={}, mask_type='entmax', input_dim=14, output_dim=None, embed_dim=512, dropout=1, forward_expansion=1, heads=1, device_name='auto', n_shared_decoder=1, n_indep_decoder=1)"
      ]
     },
     "execution_count": 34,
     "metadata": {},
     "output_type": "execute_result"
    }
   ],
   "source": [
    "unsupervised_model"
   ]
  },
  {
   "cell_type": "markdown",
   "metadata": {},
   "source": [
    "# 3. Classifier"
   ]
  },
  {
   "cell_type": "code",
   "execution_count": 35,
   "metadata": {},
   "outputs": [
    {
     "name": "stdout",
     "output_type": "stream",
     "text": [
      "Device used : cpu\n",
      "In abstract_model.py, _set_network, con_idxs =  [2]\n",
      "Con idxs =  [2]\n",
      "Cat_idxs= [0, 1, 3, 4, 5, 6, 7, 8, 9, 10, 11, 12, 13]\n",
      "Con_idxs= [2]\n",
      "Input dim = 14\n",
      "Length of embedding_dim = 14\n",
      "Loading weights from unsupervised pretraining\n",
      "\n"
     ]
    },
    {
     "name": "stderr",
     "output_type": "stream",
     "text": [
      "D:\\Intern\\ASTAR\\Topic 1\\Script\\tabnet - v2\\pytorch_tabnet\\abstract_model.py:109: UserWarning: Pretraining: cat_dims changed from [] to [73, 9, 16, 16, 7, 15, 6, 5, 2, 119, 92, 94, 42]\n",
      "  warnings.warn(wrn_msg)\n",
      "D:\\Intern\\ASTAR\\Topic 1\\Script\\tabnet - v2\\pytorch_tabnet\\abstract_model.py:109: UserWarning: Pretraining: cat_idxs changed from [] to [0, 1, 3, 4, 5, 6, 7, 8, 9, 10, 11, 12, 13]\n",
      "  warnings.warn(wrn_msg)\n",
      "D:\\Intern\\ASTAR\\Topic 1\\Script\\tabnet - v2\\pytorch_tabnet\\abstract_model.py:109: UserWarning: Pretraining: con_emb_dim changed from 1 to 35\n",
      "  warnings.warn(wrn_msg)\n",
      "D:\\Intern\\ASTAR\\Topic 1\\Script\\tabnet - v2\\pytorch_tabnet\\abstract_model.py:109: UserWarning: Pretraining: con_idxs changed from [] to [2]\n",
      "  warnings.warn(wrn_msg)\n"
     ]
    },
    {
     "name": "stdout",
     "output_type": "stream",
     "text": [
      "epoch 0  | loss: 0.69546 | train_auc: 0.60583 | valid_auc: 0.61842 |  0:00:04s\n",
      "epoch 1  | loss: 0.58377 | train_auc: 0.77838 | valid_auc: 0.78961 |  0:00:08s\n",
      "epoch 2  | loss: 0.50047 | train_auc: 0.83679 | valid_auc: 0.854   |  0:00:12s\n",
      "epoch 3  | loss: 0.45362 | train_auc: 0.86865 | valid_auc: 0.88007 |  0:00:17s\n",
      "epoch 4  | loss: 0.42371 | train_auc: 0.8861  | valid_auc: 0.89017 |  0:00:21s\n",
      "epoch 5  | loss: 0.40672 | train_auc: 0.89792 | valid_auc: 0.89936 |  0:00:25s\n",
      "epoch 6  | loss: 0.38559 | train_auc: 0.90513 | valid_auc: 0.90781 |  0:00:29s\n",
      "epoch 7  | loss: 0.37616 | train_auc: 0.9089  | valid_auc: 0.90706 |  0:00:33s\n",
      "epoch 8  | loss: 0.36481 | train_auc: 0.91055 | valid_auc: 0.90773 |  0:00:38s\n",
      "epoch 9  | loss: 0.35733 | train_auc: 0.91738 | valid_auc: 0.9165  |  0:00:43s\n",
      "epoch 10 | loss: 0.35061 | train_auc: 0.91973 | valid_auc: 0.91791 |  0:00:47s\n",
      "epoch 11 | loss: 0.34506 | train_auc: 0.91677 | valid_auc: 0.91316 |  0:00:52s\n",
      "epoch 12 | loss: 0.34911 | train_auc: 0.92361 | valid_auc: 0.92057 |  0:00:56s\n",
      "epoch 13 | loss: 0.33547 | train_auc: 0.92771 | valid_auc: 0.92327 |  0:01:00s\n",
      "epoch 14 | loss: 0.33795 | train_auc: 0.92766 | valid_auc: 0.92541 |  0:01:04s\n",
      "epoch 15 | loss: 0.336   | train_auc: 0.9299  | valid_auc: 0.9269  |  0:01:08s\n",
      "epoch 16 | loss: 0.33404 | train_auc: 0.92717 | valid_auc: 0.92024 |  0:01:12s\n",
      "epoch 17 | loss: 0.32841 | train_auc: 0.9228  | valid_auc: 0.91457 |  0:01:23s\n",
      "epoch 18 | loss: 0.33883 | train_auc: 0.93068 | valid_auc: 0.9257  |  0:01:35s\n",
      "epoch 19 | loss: 0.33655 | train_auc: 0.93323 | valid_auc: 0.9297  |  0:01:45s\n",
      "epoch 20 | loss: 0.32464 | train_auc: 0.9341  | valid_auc: 0.9294  |  0:01:55s\n",
      "epoch 21 | loss: 0.32498 | train_auc: 0.93261 | valid_auc: 0.92756 |  0:02:05s\n",
      "epoch 22 | loss: 0.32538 | train_auc: 0.93347 | valid_auc: 0.92976 |  0:02:15s\n",
      "epoch 23 | loss: 0.32737 | train_auc: 0.93312 | valid_auc: 0.93005 |  0:02:25s\n",
      "epoch 24 | loss: 0.32965 | train_auc: 0.93384 | valid_auc: 0.93033 |  0:02:35s\n",
      "epoch 25 | loss: 0.32629 | train_auc: 0.93259 | valid_auc: 0.93197 |  0:02:44s\n",
      "epoch 26 | loss: 0.32606 | train_auc: 0.93298 | valid_auc: 0.92984 |  0:02:55s\n",
      "epoch 27 | loss: 0.32307 | train_auc: 0.93174 | valid_auc: 0.93023 |  0:03:06s\n",
      "epoch 28 | loss: 0.32446 | train_auc: 0.93435 | valid_auc: 0.93005 |  0:03:16s\n",
      "epoch 29 | loss: 0.32024 | train_auc: 0.93473 | valid_auc: 0.93086 |  0:03:26s\n",
      "epoch 30 | loss: 0.32043 | train_auc: 0.93569 | valid_auc: 0.93214 |  0:03:37s\n",
      "epoch 31 | loss: 0.31818 | train_auc: 0.93582 | valid_auc: 0.93091 |  0:03:48s\n",
      "epoch 32 | loss: 0.32042 | train_auc: 0.93393 | valid_auc: 0.92817 |  0:03:58s\n",
      "epoch 33 | loss: 0.32408 | train_auc: 0.93436 | valid_auc: 0.92914 |  0:04:09s\n",
      "epoch 34 | loss: 0.31896 | train_auc: 0.93472 | valid_auc: 0.93081 |  0:04:19s\n",
      "epoch 35 | loss: 0.31879 | train_auc: 0.93648 | valid_auc: 0.9323  |  0:04:30s\n",
      "epoch 36 | loss: 0.31553 | train_auc: 0.9369  | valid_auc: 0.93163 |  0:04:40s\n",
      "epoch 37 | loss: 0.31331 | train_auc: 0.93741 | valid_auc: 0.93081 |  0:04:50s\n",
      "epoch 38 | loss: 0.31892 | train_auc: 0.93728 | valid_auc: 0.93187 |  0:05:00s\n",
      "epoch 39 | loss: 0.31801 | train_auc: 0.93745 | valid_auc: 0.93144 |  0:05:10s\n",
      "epoch 40 | loss: 0.31169 | train_auc: 0.93636 | valid_auc: 0.92977 |  0:05:20s\n",
      "epoch 41 | loss: 0.32476 | train_auc: 0.93644 | valid_auc: 0.93112 |  0:05:30s\n",
      "epoch 42 | loss: 0.31511 | train_auc: 0.93632 | valid_auc: 0.93097 |  0:05:40s\n",
      "epoch 43 | loss: 0.3176  | train_auc: 0.93752 | valid_auc: 0.93147 |  0:05:50s\n",
      "epoch 44 | loss: 0.31309 | train_auc: 0.93765 | valid_auc: 0.9305  |  0:06:01s\n",
      "epoch 45 | loss: 0.3099  | train_auc: 0.93643 | valid_auc: 0.92849 |  0:06:10s\n",
      "epoch 46 | loss: 0.31559 | train_auc: 0.93675 | valid_auc: 0.92973 |  0:06:20s\n",
      "epoch 47 | loss: 0.3121  | train_auc: 0.93703 | valid_auc: 0.92997 |  0:06:30s\n",
      "epoch 48 | loss: 0.31285 | train_auc: 0.93851 | valid_auc: 0.92901 |  0:06:41s\n",
      "epoch 49 | loss: 0.3151  | train_auc: 0.9383  | valid_auc: 0.93138 |  0:06:51s\n",
      "epoch 50 | loss: 0.31513 | train_auc: 0.93928 | valid_auc: 0.93189 |  0:07:01s\n",
      "epoch 51 | loss: 0.31072 | train_auc: 0.93924 | valid_auc: 0.93211 |  0:07:11s\n",
      "epoch 52 | loss: 0.30552 | train_auc: 0.93912 | valid_auc: 0.93126 |  0:07:21s\n",
      "epoch 53 | loss: 0.31108 | train_auc: 0.93879 | valid_auc: 0.93109 |  0:07:31s\n",
      "epoch 54 | loss: 0.30944 | train_auc: 0.93964 | valid_auc: 0.93082 |  0:07:41s\n",
      "epoch 55 | loss: 0.30632 | train_auc: 0.9395  | valid_auc: 0.92984 |  0:07:51s\n",
      "\n",
      "Early stopping occurred at epoch 55 with best_epoch = 35 and best_valid_auc = 0.9323\n",
      "Best weights from best epoch are automatically used!\n"
     ]
    }
   ],
   "source": [
    "max_epochs = 7700 if not os.getenv(\"CI\", False) else 2\n",
    "\n",
    "\n",
    "clf = TabNetClassifier(optimizer_fn=torch.optim.Adam,\n",
    "                       optimizer_params=dict(lr=2e-2),\n",
    "                       scheduler_params={\"step_size\":50, # how to use learning rate scheduler\n",
    "                                         \"gamma\":0.9},\n",
    "                       scheduler_fn=torch.optim.lr_scheduler.StepLR,\n",
    "                       mask_type='entmax' # \"sparsemax\"\n",
    "                      )\n",
    "\n",
    "clf.fit(\n",
    "        X_train=X_train, y_train=y_train,\n",
    "        eval_set=[(X_train, y_train), (X_valid, y_valid)],\n",
    "        eval_name=['train', 'valid'],\n",
    "        eval_metric=['auc'],\n",
    "        max_epochs=max_epochs , patience=20,\n",
    "        batch_size=1024, virtual_batch_size=128,\n",
    "        num_workers=0,\n",
    "        weights=1,\n",
    "        drop_last=False,\n",
    "        from_unsupervised=loaded_pretrain\n",
    "        )\n"
   ]
  },
  {
   "cell_type": "code",
   "execution_count": 36,
   "metadata": {},
   "outputs": [
    {
     "data": {
      "text/plain": [
       "[<matplotlib.lines.Line2D at 0x151d8b9fbe0>]"
      ]
     },
     "execution_count": 36,
     "metadata": {},
     "output_type": "execute_result"
    },
    {
     "data": {
      "image/png": "[encoded data removed]",
      "text/plain": [
       "<Figure size 432x288 with 1 Axes>"
      ]
     },
     "metadata": {
      "needs_background": "light"
     },
     "output_type": "display_data"
    }
   ],
   "source": [
    "# plot losses\n",
    "plt.plot(clf.history['loss'])"
   ]
  },
  {
   "cell_type": "code",
   "execution_count": 37,
   "metadata": {},
   "outputs": [
    {
     "data": {
      "text/plain": [
       "[<matplotlib.lines.Line2D at 0x151d940ab20>]"
      ]
     },
     "execution_count": 37,
     "metadata": {},
     "output_type": "execute_result"
    },
    {
     "data": {
      "image/png": "[encoded data removed]",
      "text/plain": [
       "<Figure size 432x288 with 1 Axes>"
      ]
     },
     "metadata": {
      "needs_background": "light"
     },
     "output_type": "display_data"
    }
   ],
   "source": [
    "# plot auc\n",
    "plt.plot(clf.history['train_auc'])\n",
    "plt.plot(clf.history['valid_auc'])"
   ]
  },
  {
   "cell_type": "code",
   "execution_count": 38,
   "metadata": {},
   "outputs": [
    {
     "data": {
      "text/plain": [
       "[<matplotlib.lines.Line2D at 0x151d6b313d0>]"
      ]
     },
     "execution_count": 38,
     "metadata": {},
     "output_type": "execute_result"
    },
    {
     "data": {
      "image/png": "[encoded data removed]",
      "text/plain": [
       "<Figure size 432x288 with 1 Axes>"
      ]
     },
     "metadata": {
      "needs_background": "light"
     },
     "output_type": "display_data"
    }
   ],
   "source": [
    "# plot learning rates\n",
    "plt.plot(clf.history['lr'])"
   ]
  },
  {
   "cell_type": "code",
   "execution_count": 39,
   "metadata": {},
   "outputs": [
    {
     "name": "stdout",
     "output_type": "stream",
     "text": [
      "acc: 0.8243036424854606\n",
      "auc: 0.9311197191375846\n"
     ]
    }
   ],
   "source": [
    "preds_class = clf.predict(X_test)\n",
    "preds = clf.predict_proba(X_test)\n",
    "test_acc = accuracy_score(y_test, preds_class)\n",
    "test_auc = roc_auc_score(y_score=preds[:,1], y_true=y_test)\n",
    "print(\"acc:\", test_acc)\n",
    "print(\"auc:\", test_auc)"
   ]
  },
  {
   "cell_type": "code",
   "execution_count": 40,
   "metadata": {},
   "outputs": [
    {
     "data": {
      "text/plain": [
       "array([0.00000000e+00, 6.17697807e-03, 2.67272908e-01, 4.45911382e-03,\n",
       "       7.60578631e-02, 9.95226252e-02, 1.80366080e-03, 0.00000000e+00,\n",
       "       2.52882012e-05, 7.17992487e-03, 4.54585135e-01, 4.79427741e-02,\n",
       "       2.09781954e-02, 1.39955330e-02])"
      ]
     },
     "execution_count": 40,
     "metadata": {},
     "output_type": "execute_result"
    }
   ],
   "source": [
    "clf.feature_importances_"
   ]
  },
  {
   "cell_type": "code",
   "execution_count": null,
   "metadata": {},
   "outputs": [],
   "source": []
  },
  {
   "cell_type": "code",
   "execution_count": null,
   "metadata": {},
   "outputs": [],
   "source": []
  },
  {
   "cell_type": "code",
   "execution_count": null,
   "metadata": {},
   "outputs": [],
   "source": []
  }
 ],
 "metadata": {
  "kernelspec": {
   "display_name": "Python 3",
   "language": "python",
   "name": "python3"
  },
  "language_info": {
   "codemirror_mode": {
    "name": "ipython",
    "version": 3
   },
   "file_extension": ".py",
   "mimetype": "text/x-python",
   "name": "python",
   "nbconvert_exporter": "python",
   "pygments_lexer": "ipython3",
   "version": "3.8.5"
  }
 },
 "nbformat": 4,
 "nbformat_minor": 4
}
