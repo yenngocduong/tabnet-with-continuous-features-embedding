{
 "cells": [
  {
   "cell_type": "code",
   "execution_count": 25,
   "metadata": {},
   "outputs": [],
   "source": [
    "%load_ext autoreload\n",
    "%autoreload 2"
   ]
  },
  {
   "cell_type": "markdown",
   "metadata": {},
   "source": [
    "# 1. Pre-processing"
   ]
  },
  {
   "cell_type": "code",
   "execution_count": 2,
   "metadata": {},
   "outputs": [
    {
     "name": "stdout",
     "output_type": "stream",
     "text": [
      "File already exists.\n",
      "39 73\n",
      " State-gov 9\n",
      " Bachelors 16\n",
      " 13 16\n",
      " Never-married 7\n",
      " Adm-clerical 15\n",
      " Not-in-family 6\n",
      " White 5\n",
      " Male 2\n",
      " 2174 119\n",
      " 0 92\n",
      " 40 94\n",
      " United-States 42\n",
      " <=50K 2\n",
      "Set 3\n",
      "Device used : cpu\n",
      "In TabNet Pretraining >> before embedder, con_idxs =  [2]\n",
      "In pretraining.py, _set_network, con_idxs =  ([2],)\n",
      "Con idxs =  [2]\n",
      "Cat_idxs= [0, 1, 3, 4, 5, 6, 7, 8, 9, 10, 11, 12, 13]\n",
      "Con_idxs= [2]\n",
      "Input dim = 14\n",
      "Length of embedding_dim = 14\n",
      "epoch 0  | loss: 4.7578  | val_0_unsup_loss: 5.42689 |  0:00:03s\n",
      "epoch 1  | loss: 3.44944 | val_0_unsup_loss: 3.62125 |  0:00:06s\n",
      "epoch 2  | loss: 3.3689  | val_0_unsup_loss: 3.4129  |  0:00:09s\n",
      "epoch 3  | loss: 3.34964 | val_0_unsup_loss: 3.36405 |  0:00:12s\n",
      "epoch 4  | loss: 3.35031 | val_0_unsup_loss: 3.3633  |  0:00:16s\n",
      "epoch 5  | loss: 3.34318 | val_0_unsup_loss: 3.35512 |  0:00:21s\n",
      "epoch 6  | loss: 3.34237 | val_0_unsup_loss: 3.36945 |  0:00:24s\n",
      "epoch 7  | loss: 3.33881 | val_0_unsup_loss: 3.3529  |  0:00:28s\n",
      "epoch 8  | loss: 3.3416  | val_0_unsup_loss: 3.35629 |  0:00:32s\n",
      "epoch 9  | loss: 3.34597 | val_0_unsup_loss: 3.35268 |  0:00:36s\n",
      "epoch 10 | loss: 3.344   | val_0_unsup_loss: 3.35305 |  0:00:39s\n",
      "epoch 11 | loss: 3.34214 | val_0_unsup_loss: 3.3515  |  0:00:43s\n",
      "epoch 12 | loss: 3.34023 | val_0_unsup_loss: 3.35023 |  0:00:47s\n",
      "epoch 13 | loss: 3.34276 | val_0_unsup_loss: 3.34934 |  0:00:51s\n",
      "epoch 14 | loss: 3.33906 | val_0_unsup_loss: 3.34874 |  0:00:55s\n",
      "epoch 15 | loss: 3.34133 | val_0_unsup_loss: 3.34764 |  0:01:00s\n",
      "epoch 16 | loss: 3.34098 | val_0_unsup_loss: 3.34789 |  0:01:04s\n",
      "epoch 17 | loss: 3.33756 | val_0_unsup_loss: 3.34754 |  0:01:08s\n",
      "epoch 18 | loss: 3.34231 | val_0_unsup_loss: 3.34639 |  0:01:13s\n",
      "epoch 19 | loss: 3.33567 | val_0_unsup_loss: 3.34539 |  0:01:17s\n",
      "epoch 20 | loss: 3.34107 | val_0_unsup_loss: 3.34513 |  0:01:21s\n",
      "epoch 21 | loss: 3.33783 | val_0_unsup_loss: 3.34457 |  0:01:24s\n",
      "epoch 22 | loss: 3.33954 | val_0_unsup_loss: 3.34453 |  0:01:28s\n",
      "epoch 23 | loss: 3.33781 | val_0_unsup_loss: 3.34404 |  0:01:33s\n",
      "epoch 24 | loss: 3.33694 | val_0_unsup_loss: 3.3437  |  0:01:36s\n",
      "epoch 25 | loss: 3.33811 | val_0_unsup_loss: 3.34158 |  0:01:41s\n",
      "epoch 26 | loss: 3.33733 | val_0_unsup_loss: 3.34184 |  0:01:45s\n",
      "epoch 27 | loss: 3.34088 | val_0_unsup_loss: 3.34575 |  0:01:48s\n",
      "epoch 28 | loss: 3.33884 | val_0_unsup_loss: 3.34313 |  0:01:52s\n",
      "epoch 29 | loss: 3.34417 | val_0_unsup_loss: 3.34205 |  0:01:55s\n",
      "epoch 30 | loss: 3.34262 | val_0_unsup_loss: 3.34186 |  0:01:58s\n",
      "\n",
      "Early stopping occurred at epoch 30 with best_epoch = 25 and best_val_0_unsup_loss = 3.34158\n",
      "Best weights from best epoch are automatically used!\n",
      "Device used : cpu\n",
      "In abstract_model.py, _set_network, con_idxs =  [2]\n",
      "Con idxs =  [2]\n",
      "Cat_idxs= [0, 1, 3, 4, 5, 6, 7, 8, 9, 10, 11, 12, 13]\n",
      "Con_idxs= [2]\n",
      "Input dim = 14\n",
      "Length of embedding_dim = 14\n",
      "Loading weights from unsupervised pretraining\n",
      "\n"
     ]
    },
    {
     "name": "stderr",
     "output_type": "stream",
     "text": [
      "D:\\Intern\\ASTAR\\Topic 1\\Script\\tabnet - v2\\pytorch_tabnet\\abstract_model.py:109: UserWarning: Pretraining: cat_dims changed from [] to [73, 9, 16, 16, 7, 15, 6, 5, 2, 119, 92, 94, 42]\n",
      "  warnings.warn(wrn_msg)\n",
      "D:\\Intern\\ASTAR\\Topic 1\\Script\\tabnet - v2\\pytorch_tabnet\\abstract_model.py:109: UserWarning: Pretraining: cat_idxs changed from [] to [0, 1, 3, 4, 5, 6, 7, 8, 9, 10, 11, 12, 13]\n",
      "  warnings.warn(wrn_msg)\n",
      "D:\\Intern\\ASTAR\\Topic 1\\Script\\tabnet - v2\\pytorch_tabnet\\abstract_model.py:109: UserWarning: Pretraining: con_emb_dim changed from 1 to 34\n",
      "  warnings.warn(wrn_msg)\n",
      "D:\\Intern\\ASTAR\\Topic 1\\Script\\tabnet - v2\\pytorch_tabnet\\abstract_model.py:109: UserWarning: Pretraining: con_idxs changed from [] to [2]\n",
      "  warnings.warn(wrn_msg)\n"
     ]
    },
    {
     "name": "stdout",
     "output_type": "stream",
     "text": [
      "epoch 0  | loss: 0.90877 | train_auc: 0.75697 | valid_auc: 0.772   |  0:00:04s\n",
      "epoch 1  | loss: 0.54827 | train_auc: 0.76917 | valid_auc: 0.76298 |  0:00:08s\n",
      "epoch 2  | loss: 0.50082 | train_auc: 0.83167 | valid_auc: 0.82446 |  0:00:13s\n",
      "epoch 3  | loss: 0.46849 | train_auc: 0.85634 | valid_auc: 0.85401 |  0:00:20s\n",
      "epoch 4  | loss: 0.43441 | train_auc: 0.87722 | valid_auc: 0.87462 |  0:00:26s\n",
      "epoch 5  | loss: 0.42076 | train_auc: 0.87541 | valid_auc: 0.87083 |  0:00:30s\n",
      "epoch 6  | loss: 0.39564 | train_auc: 0.88805 | valid_auc: 0.88803 |  0:00:34s\n",
      "epoch 7  | loss: 0.38415 | train_auc: 0.90011 | valid_auc: 0.90003 |  0:00:39s\n",
      "epoch 8  | loss: 0.37369 | train_auc: 0.90975 | valid_auc: 0.90873 |  0:00:43s\n",
      "epoch 9  | loss: 0.35864 | train_auc: 0.91533 | valid_auc: 0.91129 |  0:00:47s\n",
      "epoch 10 | loss: 0.358   | train_auc: 0.9198  | valid_auc: 0.91502 |  0:00:51s\n",
      "epoch 11 | loss: 0.34727 | train_auc: 0.91662 | valid_auc: 0.91163 |  0:00:55s\n",
      "epoch 12 | loss: 0.34665 | train_auc: 0.92387 | valid_auc: 0.91822 |  0:00:59s\n",
      "epoch 13 | loss: 0.34343 | train_auc: 0.92688 | valid_auc: 0.92091 |  0:01:04s\n",
      "epoch 14 | loss: 0.3398  | train_auc: 0.92609 | valid_auc: 0.92036 |  0:01:08s\n",
      "epoch 15 | loss: 0.34167 | train_auc: 0.92947 | valid_auc: 0.92603 |  0:01:13s\n",
      "epoch 16 | loss: 0.33565 | train_auc: 0.92915 | valid_auc: 0.92514 |  0:01:18s\n",
      "epoch 17 | loss: 0.32886 | train_auc: 0.92988 | valid_auc: 0.926   |  0:01:23s\n",
      "epoch 18 | loss: 0.33479 | train_auc: 0.93136 | valid_auc: 0.929   |  0:01:27s\n",
      "epoch 19 | loss: 0.33796 | train_auc: 0.93289 | valid_auc: 0.93055 |  0:01:32s\n",
      "epoch 20 | loss: 0.32918 | train_auc: 0.93243 | valid_auc: 0.92774 |  0:01:37s\n",
      "epoch 21 | loss: 0.32521 | train_auc: 0.93259 | valid_auc: 0.93066 |  0:01:42s\n",
      "epoch 22 | loss: 0.32524 | train_auc: 0.93331 | valid_auc: 0.93116 |  0:01:46s\n",
      "epoch 23 | loss: 0.32914 | train_auc: 0.93381 | valid_auc: 0.92921 |  0:01:51s\n",
      "epoch 24 | loss: 0.3263  | train_auc: 0.93463 | valid_auc: 0.93173 |  0:01:56s\n",
      "epoch 25 | loss: 0.32311 | train_auc: 0.93454 | valid_auc: 0.93036 |  0:02:01s\n",
      "epoch 26 | loss: 0.31365 | train_auc: 0.93515 | valid_auc: 0.93064 |  0:02:05s\n",
      "epoch 27 | loss: 0.31927 | train_auc: 0.93517 | valid_auc: 0.93066 |  0:02:10s\n",
      "epoch 28 | loss: 0.32083 | train_auc: 0.93552 | valid_auc: 0.9303  |  0:02:15s\n",
      "epoch 29 | loss: 0.32163 | train_auc: 0.93509 | valid_auc: 0.93145 |  0:02:20s\n",
      "epoch 30 | loss: 0.32076 | train_auc: 0.93485 | valid_auc: 0.93041 |  0:02:24s\n",
      "epoch 31 | loss: 0.3202  | train_auc: 0.9358  | valid_auc: 0.93159 |  0:02:28s\n",
      "epoch 32 | loss: 0.31778 | train_auc: 0.93296 | valid_auc: 0.92985 |  0:02:33s\n",
      "epoch 33 | loss: 0.32277 | train_auc: 0.93462 | valid_auc: 0.92982 |  0:02:37s\n",
      "epoch 34 | loss: 0.31431 | train_auc: 0.9357  | valid_auc: 0.93149 |  0:02:42s\n",
      "epoch 35 | loss: 0.31607 | train_auc: 0.9368  | valid_auc: 0.93061 |  0:02:46s\n",
      "epoch 36 | loss: 0.31843 | train_auc: 0.93691 | valid_auc: 0.93023 |  0:02:51s\n",
      "epoch 37 | loss: 0.316   | train_auc: 0.93774 | valid_auc: 0.93161 |  0:02:55s\n",
      "epoch 38 | loss: 0.32098 | train_auc: 0.93736 | valid_auc: 0.92987 |  0:03:00s\n",
      "epoch 39 | loss: 0.31661 | train_auc: 0.93778 | valid_auc: 0.9309  |  0:03:04s\n",
      "epoch 40 | loss: 0.31429 | train_auc: 0.93723 | valid_auc: 0.93095 |  0:03:09s\n",
      "epoch 41 | loss: 0.32047 | train_auc: 0.93654 | valid_auc: 0.92764 |  0:03:13s\n",
      "epoch 42 | loss: 0.31368 | train_auc: 0.93609 | valid_auc: 0.93057 |  0:03:18s\n",
      "epoch 43 | loss: 0.32102 | train_auc: 0.93739 | valid_auc: 0.93188 |  0:03:22s\n",
      "epoch 44 | loss: 0.31428 | train_auc: 0.9383  | valid_auc: 0.93102 |  0:03:27s\n",
      "epoch 45 | loss: 0.31219 | train_auc: 0.93881 | valid_auc: 0.9315  |  0:03:32s\n",
      "epoch 46 | loss: 0.31785 | train_auc: 0.93904 | valid_auc: 0.9318  |  0:03:36s\n",
      "epoch 47 | loss: 0.31066 | train_auc: 0.93917 | valid_auc: 0.93121 |  0:03:41s\n",
      "epoch 48 | loss: 0.30908 | train_auc: 0.93869 | valid_auc: 0.92978 |  0:03:45s\n",
      "epoch 49 | loss: 0.3156  | train_auc: 0.93748 | valid_auc: 0.92951 |  0:03:49s\n",
      "epoch 50 | loss: 0.31496 | train_auc: 0.93927 | valid_auc: 0.92942 |  0:03:53s\n",
      "epoch 51 | loss: 0.30855 | train_auc: 0.9401  | valid_auc: 0.93049 |  0:03:58s\n",
      "epoch 52 | loss: 0.30673 | train_auc: 0.93961 | valid_auc: 0.92976 |  0:04:02s\n",
      "epoch 53 | loss: 0.31605 | train_auc: 0.93996 | valid_auc: 0.93104 |  0:04:06s\n",
      "epoch 54 | loss: 0.31019 | train_auc: 0.93963 | valid_auc: 0.92823 |  0:04:10s\n",
      "epoch 55 | loss: 0.30593 | train_auc: 0.9409  | valid_auc: 0.92981 |  0:04:15s\n",
      "epoch 56 | loss: 0.31336 | train_auc: 0.93934 | valid_auc: 0.93006 |  0:04:19s\n",
      "epoch 57 | loss: 0.30775 | train_auc: 0.94031 | valid_auc: 0.92952 |  0:04:23s\n",
      "epoch 58 | loss: 0.30761 | train_auc: 0.9401  | valid_auc: 0.92868 |  0:04:28s\n",
      "epoch 59 | loss: 0.30846 | train_auc: 0.93673 | valid_auc: 0.92855 |  0:04:33s\n",
      "epoch 60 | loss: 0.31925 | train_auc: 0.93934 | valid_auc: 0.93085 |  0:04:38s\n",
      "epoch 61 | loss: 0.31572 | train_auc: 0.94025 | valid_auc: 0.93026 |  0:04:43s\n",
      "epoch 62 | loss: 0.31188 | train_auc: 0.94058 | valid_auc: 0.92924 |  0:04:47s\n",
      "epoch 63 | loss: 0.31025 | train_auc: 0.94037 | valid_auc: 0.92756 |  0:04:51s\n",
      "\n",
      "Early stopping occurred at epoch 63 with best_epoch = 43 and best_valid_auc = 0.93188\n",
      "Best weights from best epoch are automatically used!\n",
      "with con_emb_dim = 34\n",
      "acc: 0.8243036424854606\n",
      "auc: 0.9236346540067355\n"
     ]
    }
   ],
   "source": [
    "from pytorch_tabnet.tab_model import TabNetClassifier\n",
    "import pytorch_tabnet.tab_model\n",
    "import pytorch_tabnet\n",
    "import pytorch_tabnet.tab_network\n",
    "from pytorch_tabnet.pretraining import TabNetPretrainer\n",
    "import torch\n",
    "from sklearn.preprocessing import LabelEncoder\n",
    "from sklearn.metrics import roc_auc_score, accuracy_score\n",
    "\n",
    "import pandas as pd\n",
    "import numpy as np\n",
    "np.random.seed(0)\n",
    "\n",
    "\n",
    "import os\n",
    "import wget\n",
    "from pathlib import Path\n",
    "\n",
    "from matplotlib import pyplot as plt\n",
    "%matplotlib inline\n",
    "import importlib\n",
    "\n",
    "url = \"https://archive.ics.uci.edu/ml/machine-learning-databases/adult/adult.data\"\n",
    "dataset_name = 'census-income'\n",
    "out = Path(os.getcwd()+'/data/'+dataset_name+'.csv')\n",
    "\n",
    "out.parent.mkdir(parents=True, exist_ok=True)\n",
    "if out.exists():\n",
    "    print(\"File already exists.\")\n",
    "else:\n",
    "    print(\"Downloading file...\")\n",
    "    wget.download(url, out.as_posix())\n",
    "    \n",
    "train = pd.read_csv(out)\n",
    "target = ' <=50K'\n",
    "if \"Set\" not in train.columns:\n",
    "    train[\"Set\"] = np.random.choice([\"train\", \"valid\", \"test\"], p =[.8, .1, .1], size=(train.shape[0],))\n",
    "\n",
    "train_indices = train[train.Set==\"train\"].index\n",
    "valid_indices = train[train.Set==\"valid\"].index\n",
    "test_indices = train[train.Set==\"test\"].index\n",
    "\n",
    "nunique = train.nunique()\n",
    "types = train.dtypes\n",
    "\n",
    "categorical_columns = []\n",
    "categorical_dims =  {}\n",
    "for col in train.columns:\n",
    "    if types[col] == 'object' or nunique[col] < 200:\n",
    "        print(col, train[col].nunique())\n",
    "        l_enc = LabelEncoder()\n",
    "        train[col] = train[col].fillna(\"VV_likely\")\n",
    "        train[col] = l_enc.fit_transform(train[col].values)\n",
    "        categorical_columns.append(col)\n",
    "        categorical_dims[col] = len(l_enc.classes_)\n",
    "    else:\n",
    "        train.fillna(train.loc[train_indices, col].mean(), inplace=True)\n",
    "        \n",
    "        \n",
    "# check that pipeline accepts strings\n",
    "train.loc[train[target]==0, target] = \"wealthy\"\n",
    "train.loc[train[target]==1, target] = \"not_wealthy\"\n",
    "\n",
    "unused_feat = ['Set']\n",
    "\n",
    "features = [ col for col in train.columns if col not in unused_feat+[target]] \n",
    "\n",
    "cat_idxs = [ i for i, f in enumerate(features) if f in categorical_columns]\n",
    "\n",
    "cat_dims = [ categorical_dims[f] for i, f in enumerate(features) if f in categorical_columns]\n",
    "\n",
    "con_idxs = [i for i, f in enumerate(features) if f not in categorical_columns]\n",
    "\n",
    "'''\n",
    "X_train = train[features].values[train_indices]\n",
    "y_train = train[target].values[train_indices]\n",
    "\n",
    "X_valid = train[features].values[valid_indices]\n",
    "y_valid = train[target].values[valid_indices]\n",
    "\n",
    "X_test = train[features].values[test_indices]\n",
    "y_test = train[target].values[test_indices]\n",
    "'''\n",
    "base_auc = 0.9275363726026278\n",
    "base_acc = 0.8677685950413223\n",
    "beat_auc = 0\n",
    "beat_acc = 0\n",
    "\n",
    "base_auc_2 = 0.9313200431309823\n",
    "base_acc_2 = 0.8754208754208754\n",
    "beat_auc_2 = 0\n",
    "beat_acc_2 = 0\n",
    "\n",
    "'''\n",
    "EXPLAIN:\n",
    "    - base_auc: roc auc score of the pretrained version of original model\n",
    "    - base_auc_2: roc auc score of the TabNet modified version with no pretraining\n",
    "    => Now we test the TabNet modified version with pretraining\n",
    "'''\n",
    "\n",
    "#### Customized train, valid, test\n",
    "X_train = np.array(pd.read_csv('X_train.csv'))\n",
    "y_train = np.array(pd.read_csv('y_train.csv')).ravel()\n",
    "\n",
    "X_valid = np.array(pd.read_csv('X_valid.csv'))\n",
    "y_valid = np.array(pd.read_csv('y_valid.csv')).ravel()\n",
    "\n",
    "X_test = np.array(pd.read_csv('X_test.csv'))\n",
    "y_test = np.array(pd.read_csv('y_test.csv')).ravel()\n",
    "\n",
    "acc = []\n",
    "auc = []\n",
    "\n",
    "'''\n",
    "First, I test with the same model, with con embedding in the TabNet pretrainer, and with con embedding in TabNet classifier.\n",
    "'''\n",
    "for i in range(34, 35):\n",
    "    # TabNetPretrainer\n",
    "    unsupervised_model = TabNetPretrainer(\n",
    "        cat_idxs=cat_idxs,\n",
    "        cat_dims=cat_dims,\n",
    "        cat_emb_dim=1,\n",
    "        con_idxs=con_idxs,\n",
    "        con_emb_dim=i,\n",
    "        optimizer_fn=torch.optim.Adam,\n",
    "        optimizer_params=dict(lr=2e-2),\n",
    "        mask_type='entmax', # \"sparsemax\",\n",
    "        n_shared_decoder=1, # nb shared glu for decoding\n",
    "        n_indep_decoder=1, # nb independent glu for decoding\n",
    "    )\n",
    "    max_epochs = 1000 if not os.getenv(\"CI\", False) else 2\n",
    "\n",
    "    unsupervised_model.fit(\n",
    "        X_train=X_train,\n",
    "        eval_set=[X_valid],\n",
    "        max_epochs=max_epochs , patience=5,\n",
    "        batch_size=2048, virtual_batch_size=128,\n",
    "        num_workers=0,\n",
    "        drop_last=False,\n",
    "        pretraining_ratio=0.8,\n",
    "\n",
    "    ) \n",
    "    max_epochs = 7700 if not os.getenv(\"CI\", False) else 2\n",
    "\n",
    "\n",
    "    clf = TabNetClassifier(optimizer_fn=torch.optim.Adam,\n",
    "                           optimizer_params=dict(lr=2e-2),\n",
    "                           scheduler_params={\"step_size\":50, # how to use learning rate scheduler\n",
    "                                             \"gamma\":0.9},\n",
    "                           scheduler_fn=torch.optim.lr_scheduler.StepLR,\n",
    "                           mask_type='entmax' # \"sparsemax\"\n",
    "                          )\n",
    "\n",
    "    clf.fit(\n",
    "            X_train=X_train, y_train=y_train,\n",
    "            eval_set=[(X_train, y_train), (X_valid, y_valid)],\n",
    "            eval_name=['train', 'valid'],\n",
    "            eval_metric=['auc'],\n",
    "            max_epochs=max_epochs , patience=20,\n",
    "            batch_size=1024, virtual_batch_size=128,\n",
    "            num_workers=0,\n",
    "            weights=1,\n",
    "            drop_last=False,\n",
    "            from_unsupervised=unsupervised_model\n",
    "            )\n",
    "    preds_class = clf.predict(X_test)\n",
    "    preds = clf.predict_proba(X_test)\n",
    "    test_acc = accuracy_score(y_test, preds_class)\n",
    "    test_auc = roc_auc_score(y_score=preds[:,1], y_true=y_test)\n",
    "    print(\"with con_emb_dim =\", i)\n",
    "    print(\"acc:\", test_acc)\n",
    "    print(\"auc:\", test_auc)\n",
    "    auc.append(test_auc)\n",
    "    acc.append(test_acc)\n",
    "    if test_acc > base_acc: \n",
    "        print(\"Beat ACC 1\")\n",
    "        beat_acc = 1\n",
    "    if test_auc > base_auc: \n",
    "        print(\"Beat AUC 1\")\n",
    "        beat_auc = 1\n",
    "    if test_acc > base_acc_2: \n",
    "        print(\"Beat ACC 2\")\n",
    "        beat_acc_2 = 1\n",
    "    if test_auc > base_auc_2: \n",
    "        print(\"Beat AUC 2\")\n",
    "        beat_auc_2 = 1"
   ]
  },
  {
   "cell_type": "code",
   "execution_count": 5,
   "metadata": {},
   "outputs": [
    {
     "data": {
      "text/plain": [
       "[0.8334863789409244,\n",
       " 0.8157330884603612,\n",
       " 0.8233853688399143,\n",
       " 0.7884909703091522,\n",
       " 0.8448117539026629,\n",
       " 0.8050198959289868,\n",
       " 0.8249158249158249,\n",
       " 0.8285889194980104,\n",
       " 0.8353229262320171,\n",
       " 0.8328741965105602,\n",
       " 0.8132843587389041,\n",
       " 0.8108356290174472,\n",
       " 0.8429752066115702,\n",
       " 0.8331802877257423,\n",
       " 0.8383838383838383,\n",
       " 0.8117539026629935,\n",
       " 0.8230792776247322,\n",
       " 0.7964493419038874,\n",
       " 0.8426691153963881,\n",
       " 0.8313437404346495,\n",
       " 0.825221916131007,\n",
       " 0.837465564738292,\n",
       " 0.8310376492194674,\n",
       " 0.8344046525864708,\n",
       " 0.8233853688399143,\n",
       " 0.8298132843587389,\n",
       " 0.8319559228650137,\n",
       " 0.8307315580042853,\n",
       " 0.8181818181818182,\n",
       " 0.8441995714722987,\n",
       " 0.8405264768901133,\n",
       " 0.8457300275482094,\n",
       " 0.8273645546372819,\n",
       " 0.8243036424854606,\n",
       " 0.8243036424854606,\n",
       " 0.8282828282828283,\n",
       " 0.8328741965105602,\n",
       " 0.8292011019283747,\n",
       " 0.8261401897765535,\n",
       " 0.8432812978267523,\n",
       " 0.7692072237526782,\n",
       " 0.8396082032445669,\n",
       " 0.8184879093970003,\n",
       " 0.8411386593204775,\n",
       " 0.8102234465870829,\n",
       " 0.8212427303336394,\n",
       " 0.8356290174471993,\n",
       " 0.8708295071931436,\n",
       " 0.8285889194980104,\n",
       " 0.8356290174471993,\n",
       " 0.84726048362412,\n",
       " 0.8331802877257423,\n",
       " 0.8209366391184573,\n",
       " 0.8292011019283747,\n",
       " 0.8264462809917356,\n",
       " 0.8249158249158249,\n",
       " 0.8203244566880931,\n",
       " 0.837465564738292,\n",
       " 0.8279767370676462,\n",
       " 0.8304254667891031,\n",
       " 0.7988980716253443,\n",
       " 0.8279767370676462,\n",
       " 0.8123660850933578,\n",
       " 0.830119375573921]"
      ]
     },
     "execution_count": 5,
     "metadata": {},
     "output_type": "execute_result"
    }
   ],
   "source": [
    "acc"
   ]
  },
  {
   "cell_type": "code",
   "execution_count": 3,
   "metadata": {},
   "outputs": [
    {
     "data": {
      "text/plain": [
       "[<matplotlib.lines.Line2D at 0x166a645f9a0>]"
      ]
     },
     "execution_count": 3,
     "metadata": {},
     "output_type": "execute_result"
    },
    {
     "data": {
      "image/png": "[encoded data removed]",
      "text/plain": [
       "<Figure size 432x288 with 1 Axes>"
      ]
     },
     "metadata": {
      "needs_background": "light"
     },
     "output_type": "display_data"
    }
   ],
   "source": [
    "## CLASSIFICATION REPORT ##\n",
    "\n",
    "base_acc_plot = [base_acc]*len(acc)\n",
    "base_acc_plot_2 = [base_acc_2]*len(acc)\n",
    "plt.plot(acc)\n",
    "plt.plot(base_acc_plot)\n",
    "plt.plot(base_acc_plot_2)"
   ]
  },
  {
   "cell_type": "code",
   "execution_count": 4,
   "metadata": {},
   "outputs": [
    {
     "data": {
      "text/plain": [
       "[<matplotlib.lines.Line2D at 0x166a980b3d0>]"
      ]
     },
     "execution_count": 4,
     "metadata": {},
     "output_type": "execute_result"
    },
    {
     "data": {
      "image/png": "[encoded data removed]",
      "text/plain": [
       "<Figure size 432x288 with 1 Axes>"
      ]
     },
     "metadata": {
      "needs_background": "light"
     },
     "output_type": "display_data"
    }
   ],
   "source": [
    "## CLASSIFICATION REPORT ##\n",
    "\n",
    "base_auc_plot = [base_auc]*len(auc)\n",
    "base_auc_plot_2 = [base_auc_2]*len(auc)\n",
    "plt.plot(auc)\n",
    "plt.plot(base_auc_plot)\n",
    "plt.plot(base_auc_plot_2)"
   ]
  },
  {
   "cell_type": "code",
   "execution_count": 6,
   "metadata": {},
   "outputs": [
    {
     "data": {
      "text/plain": [
       "[0.9284066577065969,\n",
       " 0.9294468604835371,\n",
       " 0.9305900359254509,\n",
       " 0.9275890087539541,\n",
       " 0.9281608519902087,\n",
       " 0.9280070317809925,\n",
       " 0.92732940521149,\n",
       " 0.9298676941788504,\n",
       " 0.9263653459932646,\n",
       " 0.930387412294374,\n",
       " 0.926300189592351,\n",
       " 0.9264882488514588,\n",
       " 0.9294338292033545,\n",
       " 0.9297700873351289,\n",
       " 0.9273163739313073,\n",
       " 0.9271546327478626,\n",
       " 0.9249321606884605,\n",
       " 0.9249868409621684,\n",
       " 0.9272251549700281,\n",
       " 0.9295610758216094,\n",
       " 0.928026450943618,\n",
       " 0.9293229355641522,\n",
       " 0.926529897844984,\n",
       " 0.9293924357251269,\n",
       " 0.9281705615715212,\n",
       " 0.9257544089164619,\n",
       " 0.9267422310573734,\n",
       " 0.9276605530373104,\n",
       " 0.9305090375760797,\n",
       " 0.9276508434559977,\n",
       " 0.9271433900747638,\n",
       " 0.9221628858919784,\n",
       " 0.9293088822227786,\n",
       " 0.9236346540067355,\n",
       " 0.9311197191375846,\n",
       " 0.9268117312183481,\n",
       " 0.9279344654364458,\n",
       " 0.9265557048900517,\n",
       " 0.9271306143098788,\n",
       " 0.9278215276748619,\n",
       " 0.9282375065795189,\n",
       " 0.9302392134217076,\n",
       " 0.9280622230852961,\n",
       " 0.9287022889060368,\n",
       " 0.9255724820244988,\n",
       " 0.9266584220397275,\n",
       " 0.9290224495740558,\n",
       " 0.9275655013465656,\n",
       " 0.9288775724002597,\n",
       " 0.9244857754633771,\n",
       " 0.9277954651144963,\n",
       " 0.9260316430144673,\n",
       " 0.9293408216349911,\n",
       " 0.9266078300107827,\n",
       " 0.9266190726838817,\n",
       " 0.9290515783179939,\n",
       " 0.9302995150319651,\n",
       " 0.9272696146318279,\n",
       " 0.9262613512671003,\n",
       " 0.9287848203471942,\n",
       " 0.9294885094770624,\n",
       " 0.9265403739721896,\n",
       " 0.9238227132658433,\n",
       " 0.9283680748966441]"
      ]
     },
     "execution_count": 6,
     "metadata": {},
     "output_type": "execute_result"
    }
   ],
   "source": [
    "auc"
   ]
  },
  {
   "cell_type": "code",
   "execution_count": 10,
   "metadata": {},
   "outputs": [
    {
     "name": "stdout",
     "output_type": "stream",
     "text": [
      "Max auc = 0.9311197191375846 with con_emb_dim = 34\n"
     ]
    }
   ],
   "source": [
    "max_auc = max(auc)\n",
    "print(\"Max auc =\", max_auc, 'with con_emb_dim =', auc.index(max_auc))"
   ]
  },
  {
   "cell_type": "markdown",
   "metadata": {},
   "source": [
    "# 2. Pretraining"
   ]
  },
  {
   "cell_type": "code",
   "execution_count": 17,
   "metadata": {},
   "outputs": [
    {
     "name": "stdout",
     "output_type": "stream",
     "text": [
      "Device used : cpu\n",
      "In TabNet Pretraining >> before embedder, con_idxs =  [2]\n",
      "In pretraining.py, _set_network, con_idxs =  ([2],)\n",
      "Con idxs =  [2]\n",
      "Cat_idxs= [0, 1, 3, 4, 5, 6, 7, 8, 9, 10, 11, 12, 13]\n",
      "Con_idxs= [2]\n",
      "Input dim = 14\n",
      "Length of embedding_dim = 14\n",
      "epoch 0  | loss: 4.66177 | val_0_unsup_loss: 33.05913|  0:00:03s\n",
      "epoch 1  | loss: 3.59719 | val_0_unsup_loss: 3.79561 |  0:00:07s\n",
      "epoch 2  | loss: 3.51866 | val_0_unsup_loss: 3.55959 |  0:00:10s\n",
      "epoch 3  | loss: 3.5048  | val_0_unsup_loss: 3.52008 |  0:00:13s\n",
      "epoch 4  | loss: 3.50758 | val_0_unsup_loss: 3.51358 |  0:00:16s\n",
      "epoch 5  | loss: 3.49703 | val_0_unsup_loss: 3.51498 |  0:00:19s\n",
      "epoch 6  | loss: 3.5017  | val_0_unsup_loss: 3.5127  |  0:00:22s\n",
      "epoch 7  | loss: 3.50195 | val_0_unsup_loss: 3.51231 |  0:00:26s\n",
      "epoch 8  | loss: 3.50254 | val_0_unsup_loss: 3.51241 |  0:00:29s\n",
      "epoch 9  | loss: 3.50191 | val_0_unsup_loss: 3.51281 |  0:00:33s\n",
      "epoch 10 | loss: 3.50326 | val_0_unsup_loss: 3.5132  |  0:00:37s\n",
      "epoch 11 | loss: 3.50165 | val_0_unsup_loss: 3.51442 |  0:00:40s\n",
      "epoch 12 | loss: 3.49608 | val_0_unsup_loss: 3.51215 |  0:00:44s\n",
      "epoch 13 | loss: 3.49973 | val_0_unsup_loss: 3.51251 |  0:00:47s\n",
      "epoch 14 | loss: 3.49592 | val_0_unsup_loss: 3.51163 |  0:00:51s\n",
      "epoch 15 | loss: 3.49723 | val_0_unsup_loss: 3.51045 |  0:00:54s\n",
      "epoch 16 | loss: 3.49294 | val_0_unsup_loss: 3.50987 |  0:00:57s\n",
      "epoch 17 | loss: 3.50164 | val_0_unsup_loss: 3.50897 |  0:01:01s\n",
      "epoch 18 | loss: 3.50047 | val_0_unsup_loss: 3.5084  |  0:01:04s\n",
      "epoch 19 | loss: 3.49358 | val_0_unsup_loss: 3.50794 |  0:01:08s\n",
      "epoch 20 | loss: 3.50087 | val_0_unsup_loss: 3.50683 |  0:01:11s\n",
      "epoch 21 | loss: 3.49971 | val_0_unsup_loss: 3.50632 |  0:01:15s\n",
      "epoch 22 | loss: 3.4989  | val_0_unsup_loss: 3.5055  |  0:01:18s\n",
      "epoch 23 | loss: 3.4959  | val_0_unsup_loss: 3.50581 |  0:01:22s\n",
      "epoch 24 | loss: 3.50098 | val_0_unsup_loss: 3.50612 |  0:01:25s\n",
      "epoch 25 | loss: 3.49412 | val_0_unsup_loss: 3.50498 |  0:01:29s\n",
      "epoch 26 | loss: 3.49545 | val_0_unsup_loss: 3.50326 |  0:01:32s\n",
      "epoch 27 | loss: 3.49352 | val_0_unsup_loss: 3.49966 |  0:01:36s\n",
      "epoch 28 | loss: 3.49429 | val_0_unsup_loss: 3.49565 |  0:01:39s\n",
      "epoch 29 | loss: 3.4943  | val_0_unsup_loss: 3.48867 |  0:01:43s\n",
      "epoch 30 | loss: 3.4926  | val_0_unsup_loss: 3.48058 |  0:01:46s\n",
      "epoch 31 | loss: 3.48199 | val_0_unsup_loss: 3.47477 |  0:01:50s\n",
      "epoch 32 | loss: 3.48858 | val_0_unsup_loss: 3.46499 |  0:01:53s\n",
      "epoch 33 | loss: 3.4849  | val_0_unsup_loss: 3.47916 |  0:01:56s\n",
      "epoch 34 | loss: 3.48937 | val_0_unsup_loss: 3.47173 |  0:02:00s\n",
      "epoch 35 | loss: 3.48948 | val_0_unsup_loss: 3.47065 |  0:02:03s\n",
      "epoch 36 | loss: 3.48957 | val_0_unsup_loss: 3.46948 |  0:02:07s\n",
      "epoch 37 | loss: 3.48997 | val_0_unsup_loss: 3.46635 |  0:02:10s\n",
      "\n",
      "Early stopping occurred at epoch 37 with best_epoch = 32 and best_val_0_unsup_loss = 3.46499\n",
      "Best weights from best epoch are automatically used!\n"
     ]
    }
   ],
   "source": [
    "'''\n",
    "First, I test with the same model, with con embedding in the TabNet pretrainer, and with con embedding in TabNet classifier.\n",
    "'''\n",
    "\n",
    "# TabNetPretrainer\n",
    "unsupervised_model = TabNetPretrainer(\n",
    "    cat_idxs=cat_idxs,\n",
    "    cat_dims=cat_dims,\n",
    "    cat_emb_dim=1,\n",
    "    con_idxs=con_idxs,\n",
    "    con_emb_dim=44,\n",
    "    optimizer_fn=torch.optim.Adam,\n",
    "    optimizer_params=dict(lr=2e-2),\n",
    "    mask_type='entmax', # \"sparsemax\",\n",
    "    n_shared_decoder=1, # nb shared glu for decoding\n",
    "    n_indep_decoder=1, # nb independent glu for decoding\n",
    ")\n",
    "max_epochs = 1000 if not os.getenv(\"CI\", False) else 2\n",
    "\n",
    "unsupervised_model.fit(\n",
    "    X_train=X_train,\n",
    "    eval_set=[X_valid],\n",
    "    max_epochs=max_epochs , patience=5,\n",
    "    batch_size=2048, virtual_batch_size=128,\n",
    "    num_workers=0,\n",
    "    drop_last=False,\n",
    "    pretraining_ratio=0.8,\n",
    "\n",
    ") \n",
    "\n",
    "\n",
    "\n",
    "\n",
    "unsupervised_model.save_model('./test_pretrain')\n",
    "loaded_pretrain = TabNetPretrainer()\n",
    "loaded_pretrain.load_model('./test_pretrain.zip')"
   ]
  },
  {
   "cell_type": "code",
   "execution_count": 18,
   "metadata": {},
   "outputs": [],
   "source": [
    "# Make reconstruction from a dataset\n",
    "reconstructed_X, embedded_X = unsupervised_model.predict(X_valid)\n",
    "assert(reconstructed_X.shape==embedded_X.shape)"
   ]
  },
  {
   "cell_type": "code",
   "execution_count": 19,
   "metadata": {},
   "outputs": [],
   "source": [
    "unsupervised_explain_matrix, unsupervised_masks = unsupervised_model.explain(X_valid)"
   ]
  },
  {
   "cell_type": "code",
   "execution_count": 20,
   "metadata": {},
   "outputs": [
    {
     "data": {
      "image/png": "[encoded data removed]",
      "text/plain": [
       "<Figure size 1440x1440 with 3 Axes>"
      ]
     },
     "metadata": {
      "needs_background": "light"
     },
     "output_type": "display_data"
    }
   ],
   "source": [
    "fig, axs = plt.subplots(1, 3, figsize=(20,20))\n",
    "\n",
    "for i in range(3):\n",
    "    axs[i].imshow(unsupervised_masks[i][:50])\n",
    "    axs[i].set_title(f\"mask {i}\")\n"
   ]
  },
  {
   "cell_type": "code",
   "execution_count": 21,
   "metadata": {},
   "outputs": [
    {
     "name": "stdout",
     "output_type": "stream",
     "text": [
      "Successfully saved model at ./test_pretrain.zip\n",
      "Device used : cpu\n",
      "Device used : cpu\n",
      "In TabNet Pretraining >> before embedder, con_idxs =  [2]\n",
      "In pretraining.py, _set_network, con_idxs =  ([2],)\n",
      "Con idxs =  [2]\n",
      "Cat_idxs= [0, 1, 3, 4, 5, 6, 7, 8, 9, 10, 11, 12, 13]\n",
      "Con_idxs= [2]\n",
      "Input dim = 14\n",
      "Length of embedding_dim = 14\n"
     ]
    }
   ],
   "source": [
    "unsupervised_model.save_model('./test_pretrain')\n",
    "loaded_pretrain = TabNetPretrainer()\n",
    "loaded_pretrain.load_model('./test_pretrain.zip')"
   ]
  },
  {
   "cell_type": "code",
   "execution_count": 22,
   "metadata": {},
   "outputs": [
    {
     "data": {
      "text/plain": [
       "{'cat_dims': [73, 9, 16, 16, 7, 15, 6, 5, 2, 119, 92, 94, 42],\n",
       " 'cat_emb_dim': 1,\n",
       " 'cat_idxs': [0, 1, 3, 4, 5, 6, 7, 8, 9, 10, 11, 12, 13],\n",
       " 'clip_value': 1,\n",
       " 'con_emb_dim': 44,\n",
       " 'con_idxs': [2],\n",
       " 'device_name': 'auto',\n",
       " 'dropout': 1,\n",
       " 'embed_dim': 512,\n",
       " 'epsilon': 1e-15,\n",
       " 'forward_expansion': 1,\n",
       " 'gamma': 1.3,\n",
       " 'heads': 1,\n",
       " 'input_dim': 14,\n",
       " 'lambda_sparse': 0.001,\n",
       " 'mask_type': 'entmax',\n",
       " 'momentum': 0.02,\n",
       " 'n_a': 8,\n",
       " 'n_d': 8,\n",
       " 'n_indep_decoder': 1,\n",
       " 'n_independent': 2,\n",
       " 'n_shared': 2,\n",
       " 'n_shared_decoder': 1,\n",
       " 'n_steps': 3,\n",
       " 'optimizer_fn': torch.optim.adam.Adam,\n",
       " 'optimizer_params': {'lr': 0.02},\n",
       " 'output_dim': None,\n",
       " 'scheduler_fn': None,\n",
       " 'scheduler_params': {},\n",
       " 'seed': 0,\n",
       " 'verbose': 1}"
      ]
     },
     "execution_count": 22,
     "metadata": {},
     "output_type": "execute_result"
    }
   ],
   "source": [
    "unsupervised_model.get_params()"
   ]
  },
  {
   "cell_type": "code",
   "execution_count": 23,
   "metadata": {},
   "outputs": [
    {
     "data": {
      "text/plain": [
       "TabNetPretrainer(n_d=8, n_a=8, n_steps=3, gamma=1.3, cat_idxs=[0, 1, 3, 4, 5, 6, 7, 8, 9, 10, 11, 12, 13], cat_dims=[73, 9, 16, 16, 7, 15, 6, 5, 2, 119, 92, 94, 42], cat_emb_dim=1, con_idxs=[2], con_emb_dim=44, n_independent=2, n_shared=2, epsilon=1e-15, momentum=0.02, lambda_sparse=0.001, seed=0, clip_value=1, verbose=1, optimizer_fn=<class 'torch.optim.adam.Adam'>, optimizer_params={'lr': 0.02}, scheduler_fn=None, scheduler_params={}, mask_type='entmax', input_dim=14, output_dim=None, embed_dim=512, dropout=1, forward_expansion=1, heads=1, device_name='auto', n_shared_decoder=1, n_indep_decoder=1)"
      ]
     },
     "execution_count": 23,
     "metadata": {},
     "output_type": "execute_result"
    }
   ],
   "source": [
    "loaded_pretrain"
   ]
  },
  {
   "cell_type": "code",
   "execution_count": 30,
   "metadata": {},
   "outputs": [
    {
     "data": {
      "text/plain": [
       "TabNetPretrainer(n_d=8, n_a=8, n_steps=3, gamma=1.3, cat_idxs=[0, 1, 3, 4, 5, 6, 7, 8, 9, 10, 11, 12, 13], cat_dims=[73, 9, 16, 16, 7, 15, 6, 5, 2, 119, 92, 94, 42], cat_emb_dim=1, con_idxs=[2], con_emb_dim=44, n_independent=2, n_shared=2, epsilon=1e-15, momentum=0.02, lambda_sparse=0.001, seed=0, clip_value=1, verbose=1, optimizer_fn=<class 'torch.optim.adam.Adam'>, optimizer_params={'lr': 0.02}, scheduler_fn=None, scheduler_params={}, mask_type='entmax', input_dim=14, output_dim=None, embed_dim=512, dropout=1, forward_expansion=1, heads=1, device_name='auto', n_shared_decoder=1, n_indep_decoder=1)"
      ]
     },
     "execution_count": 30,
     "metadata": {},
     "output_type": "execute_result"
    }
   ],
   "source": [
    "unsupervised_model"
   ]
  },
  {
   "cell_type": "markdown",
   "metadata": {},
   "source": [
    "# 3. Classifier"
   ]
  },
  {
   "cell_type": "code",
   "execution_count": 24,
   "metadata": {},
   "outputs": [
    {
     "name": "stdout",
     "output_type": "stream",
     "text": [
      "Device used : cpu\n",
      "In abstract_model.py, _set_network, con_idxs =  [2]\n",
      "Con idxs =  [2]\n",
      "Cat_idxs= [0, 1, 3, 4, 5, 6, 7, 8, 9, 10, 11, 12, 13]\n",
      "Con_idxs= [2]\n",
      "Input dim = 14\n",
      "Length of embedding_dim = 14\n",
      "Loading weights from unsupervised pretraining\n",
      "\n",
      "epoch 0  | loss: 0.66077 | train_auc: 0.76754 | valid_auc: 0.77087 |  0:00:04s\n",
      "epoch 1  | loss: 0.5347  | train_auc: 0.79645 | valid_auc: 0.81212 |  0:00:08s\n",
      "epoch 2  | loss: 0.51987 | train_auc: 0.80856 | valid_auc: 0.82314 |  0:00:13s\n",
      "epoch 3  | loss: 0.51089 | train_auc: 0.81031 | valid_auc: 0.81654 |  0:00:17s\n",
      "epoch 4  | loss: 0.48986 | train_auc: 0.83501 | valid_auc: 0.84217 |  0:00:21s\n",
      "epoch 5  | loss: 0.48396 | train_auc: 0.85228 | valid_auc: 0.85795 |  0:00:26s\n",
      "epoch 6  | loss: 0.46393 | train_auc: 0.86542 | valid_auc: 0.86928 |  0:00:30s\n",
      "epoch 7  | loss: 0.44523 | train_auc: 0.87567 | valid_auc: 0.87684 |  0:00:34s\n",
      "epoch 8  | loss: 0.43637 | train_auc: 0.88333 | valid_auc: 0.8875  |  0:00:39s\n",
      "epoch 9  | loss: 0.41604 | train_auc: 0.89413 | valid_auc: 0.89062 |  0:00:43s\n",
      "epoch 10 | loss: 0.40391 | train_auc: 0.88894 | valid_auc: 0.88982 |  0:00:47s\n",
      "epoch 11 | loss: 0.39224 | train_auc: 0.89675 | valid_auc: 0.898   |  0:00:52s\n",
      "epoch 12 | loss: 0.38255 | train_auc: 0.89608 | valid_auc: 0.89878 |  0:00:56s\n",
      "epoch 13 | loss: 0.36996 | train_auc: 0.89432 | valid_auc: 0.8908  |  0:01:00s\n",
      "epoch 14 | loss: 0.36527 | train_auc: 0.89788 | valid_auc: 0.89375 |  0:01:04s\n",
      "epoch 15 | loss: 0.35977 | train_auc: 0.91516 | valid_auc: 0.91161 |  0:01:09s\n",
      "epoch 16 | loss: 0.35547 | train_auc: 0.91708 | valid_auc: 0.91206 |  0:01:13s\n",
      "epoch 17 | loss: 0.34782 | train_auc: 0.9192  | valid_auc: 0.91316 |  0:01:18s\n",
      "epoch 18 | loss: 0.35213 | train_auc: 0.92063 | valid_auc: 0.91701 |  0:01:22s\n",
      "epoch 19 | loss: 0.35271 | train_auc: 0.92246 | valid_auc: 0.9166  |  0:01:27s\n",
      "epoch 20 | loss: 0.34329 | train_auc: 0.91936 | valid_auc: 0.9161  |  0:01:31s\n",
      "epoch 21 | loss: 0.33827 | train_auc: 0.92369 | valid_auc: 0.92172 |  0:01:35s\n",
      "epoch 22 | loss: 0.33446 | train_auc: 0.91692 | valid_auc: 0.91547 |  0:01:40s\n",
      "epoch 23 | loss: 0.3409  | train_auc: 0.91308 | valid_auc: 0.90946 |  0:01:44s\n",
      "epoch 24 | loss: 0.33723 | train_auc: 0.91931 | valid_auc: 0.91668 |  0:01:48s\n",
      "epoch 25 | loss: 0.3386  | train_auc: 0.92082 | valid_auc: 0.9188  |  0:01:53s\n",
      "epoch 26 | loss: 0.33404 | train_auc: 0.92734 | valid_auc: 0.92511 |  0:01:57s\n",
      "epoch 27 | loss: 0.33315 | train_auc: 0.92998 | valid_auc: 0.92549 |  0:02:01s\n",
      "epoch 28 | loss: 0.34217 | train_auc: 0.92596 | valid_auc: 0.92138 |  0:02:06s\n",
      "epoch 29 | loss: 0.33677 | train_auc: 0.92607 | valid_auc: 0.92117 |  0:02:10s\n",
      "epoch 30 | loss: 0.33517 | train_auc: 0.92904 | valid_auc: 0.92526 |  0:02:14s\n",
      "epoch 31 | loss: 0.33661 | train_auc: 0.92797 | valid_auc: 0.92577 |  0:02:19s\n",
      "epoch 32 | loss: 0.33404 | train_auc: 0.93095 | valid_auc: 0.92817 |  0:02:23s\n",
      "epoch 33 | loss: 0.3328  | train_auc: 0.93062 | valid_auc: 0.92634 |  0:02:27s\n",
      "epoch 34 | loss: 0.32877 | train_auc: 0.93216 | valid_auc: 0.92883 |  0:02:32s\n",
      "epoch 35 | loss: 0.32871 | train_auc: 0.93168 | valid_auc: 0.92783 |  0:02:36s\n",
      "epoch 36 | loss: 0.33347 | train_auc: 0.93302 | valid_auc: 0.92936 |  0:02:41s\n",
      "epoch 37 | loss: 0.32289 | train_auc: 0.93362 | valid_auc: 0.92978 |  0:02:45s\n",
      "epoch 38 | loss: 0.32679 | train_auc: 0.93271 | valid_auc: 0.92929 |  0:02:49s\n",
      "epoch 39 | loss: 0.32808 | train_auc: 0.93269 | valid_auc: 0.93106 |  0:02:54s\n",
      "epoch 40 | loss: 0.32115 | train_auc: 0.93398 | valid_auc: 0.93042 |  0:02:58s\n",
      "epoch 41 | loss: 0.32663 | train_auc: 0.93445 | valid_auc: 0.92919 |  0:03:03s\n",
      "epoch 42 | loss: 0.31845 | train_auc: 0.93514 | valid_auc: 0.92998 |  0:03:07s\n",
      "epoch 43 | loss: 0.32458 | train_auc: 0.9351  | valid_auc: 0.92928 |  0:03:11s\n",
      "epoch 44 | loss: 0.32708 | train_auc: 0.93188 | valid_auc: 0.9259  |  0:03:16s\n",
      "epoch 45 | loss: 0.31973 | train_auc: 0.93371 | valid_auc: 0.92688 |  0:03:20s\n",
      "epoch 46 | loss: 0.32727 | train_auc: 0.93437 | valid_auc: 0.92918 |  0:03:24s\n",
      "epoch 47 | loss: 0.32143 | train_auc: 0.93528 | valid_auc: 0.92977 |  0:03:29s\n",
      "epoch 48 | loss: 0.32265 | train_auc: 0.93459 | valid_auc: 0.92804 |  0:03:33s\n",
      "epoch 49 | loss: 0.32326 | train_auc: 0.93572 | valid_auc: 0.93158 |  0:03:37s\n",
      "epoch 50 | loss: 0.32553 | train_auc: 0.93435 | valid_auc: 0.92884 |  0:03:42s\n",
      "epoch 51 | loss: 0.31722 | train_auc: 0.93463 | valid_auc: 0.92862 |  0:03:46s\n",
      "epoch 52 | loss: 0.31348 | train_auc: 0.93585 | valid_auc: 0.92969 |  0:03:50s\n",
      "epoch 53 | loss: 0.32125 | train_auc: 0.93591 | valid_auc: 0.93117 |  0:03:55s\n",
      "epoch 54 | loss: 0.32296 | train_auc: 0.93596 | valid_auc: 0.93072 |  0:03:59s\n",
      "epoch 55 | loss: 0.3184  | train_auc: 0.93554 | valid_auc: 0.92992 |  0:04:03s\n",
      "epoch 56 | loss: 0.32211 | train_auc: 0.93578 | valid_auc: 0.93113 |  0:04:08s\n",
      "epoch 57 | loss: 0.31718 | train_auc: 0.93563 | valid_auc: 0.93071 |  0:04:12s\n",
      "epoch 58 | loss: 0.31792 | train_auc: 0.93537 | valid_auc: 0.92973 |  0:04:17s\n",
      "epoch 59 | loss: 0.31304 | train_auc: 0.93643 | valid_auc: 0.92975 |  0:04:21s\n",
      "epoch 60 | loss: 0.32316 | train_auc: 0.93577 | valid_auc: 0.92982 |  0:04:25s\n",
      "epoch 61 | loss: 0.32258 | train_auc: 0.9355  | valid_auc: 0.93035 |  0:04:30s\n",
      "epoch 62 | loss: 0.32197 | train_auc: 0.93473 | valid_auc: 0.92967 |  0:04:34s\n",
      "epoch 63 | loss: 0.32152 | train_auc: 0.93709 | valid_auc: 0.93123 |  0:04:38s\n",
      "epoch 64 | loss: 0.31583 | train_auc: 0.93613 | valid_auc: 0.93033 |  0:04:43s\n",
      "epoch 65 | loss: 0.31385 | train_auc: 0.93718 | valid_auc: 0.93085 |  0:04:47s\n",
      "epoch 66 | loss: 0.31424 | train_auc: 0.93653 | valid_auc: 0.92975 |  0:04:51s\n",
      "epoch 67 | loss: 0.31374 | train_auc: 0.93791 | valid_auc: 0.93094 |  0:04:56s\n",
      "epoch 68 | loss: 0.31249 | train_auc: 0.93774 | valid_auc: 0.93101 |  0:05:00s\n",
      "epoch 69 | loss: 0.31106 | train_auc: 0.93762 | valid_auc: 0.93039 |  0:05:04s\n",
      "\n",
      "Early stopping occurred at epoch 69 with best_epoch = 49 and best_valid_auc = 0.93158\n",
      "Best weights from best epoch are automatically used!\n"
     ]
    }
   ],
   "source": [
    "max_epochs = 7700 if not os.getenv(\"CI\", False) else 2\n",
    "\n",
    "\n",
    "clf = TabNetClassifier(cat_idxs=cat_idxs,\n",
    "                       cat_dims=cat_dims,\n",
    "                       cat_emb_dim=1,\n",
    "                       con_idxs = con_idxs,\n",
    "                       con_emb_dim = 44,\n",
    "                       optimizer_fn=torch.optim.Adam,\n",
    "                       optimizer_params=dict(lr=2e-2),\n",
    "                       scheduler_params={\"step_size\":50, # how to use learning rate scheduler\n",
    "                                         \"gamma\":0.9},\n",
    "                       scheduler_fn=torch.optim.lr_scheduler.StepLR,\n",
    "                       mask_type='entmax' # \"sparsemax\"\n",
    "                      )\n",
    "\n",
    "clf.fit(\n",
    "        X_train=X_train, y_train=y_train,\n",
    "        eval_set=[(X_train, y_train), (X_valid, y_valid)],\n",
    "        eval_name=['train', 'valid'],\n",
    "        eval_metric=['auc'],\n",
    "        max_epochs=max_epochs , patience=20,\n",
    "        batch_size=1024, virtual_batch_size=128,\n",
    "        num_workers=0,\n",
    "        weights=1,\n",
    "        drop_last=False,\n",
    "        from_unsupervised=loaded_pretrain\n",
    "        )\n"
   ]
  },
  {
   "cell_type": "code",
   "execution_count": 25,
   "metadata": {},
   "outputs": [
    {
     "data": {
      "text/plain": [
       "[<matplotlib.lines.Line2D at 0x2280f1e92e0>]"
      ]
     },
     "execution_count": 25,
     "metadata": {},
     "output_type": "execute_result"
    },
    {
     "data": {
      "image/png": "[encoded data removed]",
      "text/plain": [
       "<Figure size 432x288 with 1 Axes>"
      ]
     },
     "metadata": {
      "needs_background": "light"
     },
     "output_type": "display_data"
    }
   ],
   "source": [
    "# plot losses\n",
    "plt.plot(clf.history['loss'])"
   ]
  },
  {
   "cell_type": "code",
   "execution_count": 26,
   "metadata": {},
   "outputs": [
    {
     "data": {
      "text/plain": [
       "[<matplotlib.lines.Line2D at 0x22809b6dfa0>]"
      ]
     },
     "execution_count": 26,
     "metadata": {},
     "output_type": "execute_result"
    },
    {
     "data": {
      "image/png": "[encoded data removed]",
      "text/plain": [
       "<Figure size 432x288 with 1 Axes>"
      ]
     },
     "metadata": {
      "needs_background": "light"
     },
     "output_type": "display_data"
    }
   ],
   "source": [
    "# plot auc\n",
    "plt.plot(clf.history['train_auc'])\n",
    "plt.plot(clf.history['valid_auc'])"
   ]
  },
  {
   "cell_type": "code",
   "execution_count": 27,
   "metadata": {},
   "outputs": [
    {
     "data": {
      "text/plain": [
       "[<matplotlib.lines.Line2D at 0x2280ee70f40>]"
      ]
     },
     "execution_count": 27,
     "metadata": {},
     "output_type": "execute_result"
    },
    {
     "data": {
      "image/png": "[encoded data removed]",
      "text/plain": [
       "<Figure size 432x288 with 1 Axes>"
      ]
     },
     "metadata": {
      "needs_background": "light"
     },
     "output_type": "display_data"
    }
   ],
   "source": [
    "# plot learning rates\n",
    "plt.plot(clf.history['lr'])"
   ]
  },
  {
   "cell_type": "code",
   "execution_count": 28,
   "metadata": {},
   "outputs": [
    {
     "name": "stdout",
     "output_type": "stream",
     "text": [
      "acc: 0.8411386593204775\n",
      "auc: 0.9287022889060368\n"
     ]
    }
   ],
   "source": [
    "preds_class = clf.predict(X_test)\n",
    "preds = clf.predict_proba(X_test)\n",
    "test_acc = accuracy_score(y_test, preds_class)\n",
    "test_auc = roc_auc_score(y_score=preds[:,1], y_true=y_test)\n",
    "print(\"acc:\", test_acc)\n",
    "print(\"auc:\", test_auc)"
   ]
  },
  {
   "cell_type": "code",
   "execution_count": 22,
   "metadata": {},
   "outputs": [
    {
     "ename": "AttributeError",
     "evalue": "'TabNetClassifier' object has no attribute 'feature_importances_'",
     "output_type": "error",
     "traceback": [
      "\u001b[1;31m---------------------------------------------------------------------------\u001b[0m",
      "\u001b[1;31mAttributeError\u001b[0m                            Traceback (most recent call last)",
      "\u001b[1;32m<ipython-input-22-e4ce79c47429>\u001b[0m in \u001b[0;36m<module>\u001b[1;34m\u001b[0m\n\u001b[1;32m----> 1\u001b[1;33m \u001b[0mclf\u001b[0m\u001b[1;33m.\u001b[0m\u001b[0mfeature_importances_\u001b[0m\u001b[1;33m\u001b[0m\u001b[1;33m\u001b[0m\u001b[0m\n\u001b[0m",
      "\u001b[1;31mAttributeError\u001b[0m: 'TabNetClassifier' object has no attribute 'feature_importances_'"
     ]
    }
   ],
   "source": [
    "clf.feature_importances_"
   ]
  },
  {
   "cell_type": "code",
   "execution_count": null,
   "metadata": {},
   "outputs": [],
   "source": []
  }
 ],
 "metadata": {
  "kernelspec": {
   "display_name": "Python 3",
   "language": "python",
   "name": "python3"
  },
  "language_info": {
   "codemirror_mode": {
    "name": "ipython",
    "version": 3
   },
   "file_extension": ".py",
   "mimetype": "text/x-python",
   "name": "python",
   "nbconvert_exporter": "python",
   "pygments_lexer": "ipython3",
   "version": "3.8.5"
  }
 },
 "nbformat": 4,
 "nbformat_minor": 4
}
