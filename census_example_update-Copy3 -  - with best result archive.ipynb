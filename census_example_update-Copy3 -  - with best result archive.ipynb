{
 "cells": [
  {
   "cell_type": "markdown",
   "metadata": {},
   "source": [
    "## Reload the model"
   ]
  },
  {
   "cell_type": "code",
   "execution_count": 12,
   "metadata": {},
   "outputs": [],
   "source": [
    "%load_ext autoreload\n",
    "%autoreload 2"
   ]
  },
  {
   "cell_type": "markdown",
   "metadata": {},
   "source": [
    "## Import library"
   ]
  },
  {
   "cell_type": "markdown",
   "metadata": {},
   "source": [
    "Baseline acc: 0.8677685950413223 </br><br>\n",
    "Baseline auc: 0.9231660389507519"
   ]
  },
  {
   "cell_type": "markdown",
   "metadata": {},
   "source": [
    "## No loop"
   ]
  },
  {
   "cell_type": "code",
   "execution_count": 3,
   "metadata": {},
   "outputs": [
    {
     "name": "stdout",
     "output_type": "stream",
     "text": [
      "File already exists.\n",
      "39 73\n",
      " State-gov 9\n",
      " Bachelors 16\n",
      " 13 16\n",
      " Never-married 7\n",
      " Adm-clerical 15\n",
      " Not-in-family 6\n",
      " White 5\n",
      " Male 2\n",
      " 2174 119\n",
      " 0 92\n",
      " 40 94\n",
      " United-States 42\n",
      " <=50K 2\n",
      "Set 3\n",
      "Device used : cpu\n",
      "epoch 0  | loss: 0.69296 | train_auc: 0.56124 | valid_auc: 0.56487 |  0:00:03s\n",
      "epoch 1  | loss: 0.55751 | train_auc: 0.7151  | valid_auc: 0.70731 |  0:00:07s\n",
      "epoch 2  | loss: 0.5167  | train_auc: 0.79392 | valid_auc: 0.79364 |  0:00:11s\n",
      "epoch 3  | loss: 0.4927  | train_auc: 0.82797 | valid_auc: 0.82798 |  0:00:15s\n",
      "epoch 4  | loss: 0.45816 | train_auc: 0.85855 | valid_auc: 0.86151 |  0:00:19s\n",
      "epoch 5  | loss: 0.43781 | train_auc: 0.87102 | valid_auc: 0.87654 |  0:00:23s\n",
      "epoch 6  | loss: 0.41616 | train_auc: 0.86081 | valid_auc: 0.86958 |  0:00:27s\n",
      "epoch 7  | loss: 0.4041  | train_auc: 0.89387 | valid_auc: 0.89289 |  0:00:31s\n",
      "epoch 8  | loss: 0.39788 | train_auc: 0.90146 | valid_auc: 0.89973 |  0:00:36s\n",
      "epoch 9  | loss: 0.38149 | train_auc: 0.8953  | valid_auc: 0.88988 |  0:00:40s\n",
      "epoch 10 | loss: 0.37851 | train_auc: 0.90618 | valid_auc: 0.90108 |  0:00:44s\n",
      "epoch 11 | loss: 0.36738 | train_auc: 0.90961 | valid_auc: 0.90655 |  0:00:49s\n",
      "epoch 12 | loss: 0.36015 | train_auc: 0.90318 | valid_auc: 0.89963 |  0:00:53s\n",
      "epoch 13 | loss: 0.35415 | train_auc: 0.91733 | valid_auc: 0.91295 |  0:00:58s\n",
      "epoch 14 | loss: 0.35228 | train_auc: 0.91823 | valid_auc: 0.91065 |  0:01:02s\n",
      "epoch 15 | loss: 0.34759 | train_auc: 0.92221 | valid_auc: 0.91812 |  0:01:07s\n",
      "epoch 16 | loss: 0.34374 | train_auc: 0.91738 | valid_auc: 0.91418 |  0:01:11s\n",
      "epoch 17 | loss: 0.33644 | train_auc: 0.90938 | valid_auc: 0.90209 |  0:01:16s\n",
      "epoch 18 | loss: 0.34537 | train_auc: 0.91024 | valid_auc: 0.90951 |  0:01:20s\n",
      "epoch 19 | loss: 0.34208 | train_auc: 0.91748 | valid_auc: 0.91514 |  0:01:24s\n",
      "epoch 20 | loss: 0.32782 | train_auc: 0.9262  | valid_auc: 0.92548 |  0:01:29s\n",
      "epoch 21 | loss: 0.32791 | train_auc: 0.93085 | valid_auc: 0.92789 |  0:01:33s\n",
      "epoch 22 | loss: 0.32426 | train_auc: 0.92549 | valid_auc: 0.91955 |  0:01:38s\n",
      "epoch 23 | loss: 0.33242 | train_auc: 0.92968 | valid_auc: 0.92708 |  0:01:42s\n",
      "epoch 24 | loss: 0.32653 | train_auc: 0.93419 | valid_auc: 0.9303  |  0:01:47s\n",
      "epoch 25 | loss: 0.32499 | train_auc: 0.93323 | valid_auc: 0.92924 |  0:01:51s\n",
      "epoch 26 | loss: 0.31415 | train_auc: 0.92902 | valid_auc: 0.92681 |  0:01:56s\n",
      "epoch 27 | loss: 0.32341 | train_auc: 0.93355 | valid_auc: 0.9303  |  0:02:00s\n",
      "epoch 28 | loss: 0.32368 | train_auc: 0.93498 | valid_auc: 0.9311  |  0:02:04s\n",
      "epoch 29 | loss: 0.32079 | train_auc: 0.93558 | valid_auc: 0.93133 |  0:02:09s\n",
      "epoch 30 | loss: 0.3209  | train_auc: 0.93543 | valid_auc: 0.93053 |  0:02:13s\n",
      "epoch 31 | loss: 0.3216  | train_auc: 0.93627 | valid_auc: 0.93121 |  0:02:18s\n",
      "epoch 32 | loss: 0.3184  | train_auc: 0.93609 | valid_auc: 0.93103 |  0:02:22s\n",
      "epoch 33 | loss: 0.32166 | train_auc: 0.93503 | valid_auc: 0.93177 |  0:02:27s\n",
      "epoch 34 | loss: 0.32079 | train_auc: 0.93638 | valid_auc: 0.93257 |  0:02:31s\n",
      "epoch 35 | loss: 0.31617 | train_auc: 0.93618 | valid_auc: 0.93056 |  0:02:36s\n",
      "epoch 36 | loss: 0.32169 | train_auc: 0.93596 | valid_auc: 0.92948 |  0:02:40s\n",
      "epoch 37 | loss: 0.31536 | train_auc: 0.93576 | valid_auc: 0.93211 |  0:02:44s\n",
      "epoch 38 | loss: 0.32221 | train_auc: 0.93563 | valid_auc: 0.92947 |  0:02:49s\n",
      "epoch 39 | loss: 0.31973 | train_auc: 0.93669 | valid_auc: 0.93196 |  0:02:53s\n",
      "epoch 40 | loss: 0.31414 | train_auc: 0.93726 | valid_auc: 0.93116 |  0:02:58s\n",
      "epoch 41 | loss: 0.3209  | train_auc: 0.93697 | valid_auc: 0.93178 |  0:03:02s\n",
      "epoch 42 | loss: 0.31242 | train_auc: 0.9374  | valid_auc: 0.93158 |  0:03:07s\n",
      "epoch 43 | loss: 0.32158 | train_auc: 0.93802 | valid_auc: 0.93087 |  0:03:11s\n",
      "epoch 44 | loss: 0.31319 | train_auc: 0.93807 | valid_auc: 0.93231 |  0:03:16s\n",
      "epoch 45 | loss: 0.31137 | train_auc: 0.93784 | valid_auc: 0.92974 |  0:03:20s\n",
      "epoch 46 | loss: 0.31499 | train_auc: 0.93831 | valid_auc: 0.92955 |  0:03:24s\n",
      "epoch 47 | loss: 0.31005 | train_auc: 0.93755 | valid_auc: 0.9308  |  0:03:29s\n",
      "epoch 48 | loss: 0.31579 | train_auc: 0.93801 | valid_auc: 0.93021 |  0:03:33s\n",
      "epoch 49 | loss: 0.3142  | train_auc: 0.93857 | valid_auc: 0.9308  |  0:03:38s\n",
      "epoch 50 | loss: 0.3172  | train_auc: 0.93822 | valid_auc: 0.93068 |  0:03:42s\n",
      "epoch 51 | loss: 0.31263 | train_auc: 0.93886 | valid_auc: 0.93028 |  0:03:47s\n",
      "epoch 52 | loss: 0.30782 | train_auc: 0.93884 | valid_auc: 0.93235 |  0:03:51s\n",
      "epoch 53 | loss: 0.31306 | train_auc: 0.93904 | valid_auc: 0.93165 |  0:03:56s\n",
      "epoch 54 | loss: 0.31334 | train_auc: 0.93805 | valid_auc: 0.93032 |  0:04:00s\n",
      "\n",
      "Early stopping occurred at epoch 54 with best_epoch = 34 and best_valid_auc = 0.93257\n",
      "Best weights from best epoch are automatically used!\n",
      "acc: 0.8194061830425466\n",
      "auc: 0.9313200431309823\n"
     ]
    }
   ],
   "source": [
    "from pytorch_tabnet.tab_model import TabNetClassifier\n",
    "import pytorch_tabnet.tab_model\n",
    "import pytorch_tabnet\n",
    "import pytorch_tabnet.tab_network\n",
    "import torch\n",
    "from sklearn.preprocessing import LabelEncoder\n",
    "from sklearn.metrics import roc_auc_score, accuracy_score\n",
    "\n",
    "import pandas as pd\n",
    "import numpy as np\n",
    "np.random.seed(0)\n",
    "\n",
    "\n",
    "import os\n",
    "import wget\n",
    "from pathlib import Path\n",
    "\n",
    "from matplotlib import pyplot as plt\n",
    "%matplotlib inline\n",
    "import importlib\n",
    "\n",
    "url = \"https://archive.ics.uci.edu/ml/machine-learning-databases/adult/adult.data\"\n",
    "dataset_name = 'census-income'\n",
    "out = Path(os.getcwd()+'/data/'+dataset_name+'.csv')\n",
    "\n",
    "out.parent.mkdir(parents=True, exist_ok=True)\n",
    "if out.exists():\n",
    "    print(\"File already exists.\")\n",
    "else:\n",
    "    print(\"Downloading file...\")\n",
    "    wget.download(url, out.as_posix())\n",
    "    \n",
    "train = pd.read_csv(out)\n",
    "target = ' <=50K'\n",
    "if \"Set\" not in train.columns:\n",
    "    train[\"Set\"] = np.random.choice([\"train\", \"valid\", \"test\"], p =[.8, .1, .1], size=(train.shape[0],))\n",
    "\n",
    "train_indices = train[train.Set==\"train\"].index\n",
    "valid_indices = train[train.Set==\"valid\"].index\n",
    "test_indices = train[train.Set==\"test\"].index\n",
    "\n",
    "nunique = train.nunique()\n",
    "types = train.dtypes\n",
    "\n",
    "categorical_columns = []\n",
    "categorical_dims =  {}\n",
    "for col in train.columns:\n",
    "    if types[col] == 'object' or nunique[col] < 200:\n",
    "        print(col, train[col].nunique())\n",
    "        l_enc = LabelEncoder()\n",
    "        train[col] = train[col].fillna(\"VV_likely\")\n",
    "        train[col] = l_enc.fit_transform(train[col].values)\n",
    "        categorical_columns.append(col)\n",
    "        categorical_dims[col] = len(l_enc.classes_)\n",
    "    else:\n",
    "        train.fillna(train.loc[train_indices, col].mean(), inplace=True)\n",
    "        \n",
    "        \n",
    "# check that pipeline accepts strings\n",
    "train.loc[train[target]==0, target] = \"wealthy\"\n",
    "train.loc[train[target]==1, target] = \"not_wealthy\"\n",
    "\n",
    "unused_feat = ['Set']\n",
    "\n",
    "features = [ col for col in train.columns if col not in unused_feat+[target]] \n",
    "\n",
    "cat_idxs = [ i for i, f in enumerate(features) if f in categorical_columns]\n",
    "\n",
    "cat_dims = [ categorical_dims[f] for i, f in enumerate(features) if f in categorical_columns]\n",
    "\n",
    "con_idxs = [i for i, f in enumerate(features) if f not in categorical_columns]\n",
    "\n",
    "'''\n",
    "X_train = train[features].values[train_indices]\n",
    "y_train = train[target].values[train_indices]\n",
    "\n",
    "X_valid = train[features].values[valid_indices]\n",
    "y_valid = train[target].values[valid_indices]\n",
    "\n",
    "X_test = train[features].values[test_indices]\n",
    "y_test = train[target].values[test_indices]\n",
    "'''\n",
    "base_auc = 0.9231660389507519\n",
    "base_acc = 0.8677685950413223\n",
    "beat_auc = 0\n",
    "beat_acc = 0\n",
    "#### Customized train, valid, test\n",
    "X_train = np.array(pd.read_csv('X_train.csv'))\n",
    "y_train = np.array(pd.read_csv('y_train.csv')).ravel()\n",
    "\n",
    "X_valid = np.array(pd.read_csv('X_valid.csv'))\n",
    "y_valid = np.array(pd.read_csv('y_valid.csv')).ravel()\n",
    "\n",
    "X_test = np.array(pd.read_csv('X_test.csv'))\n",
    "y_test = np.array(pd.read_csv('y_test.csv')).ravel()\n",
    "\n",
    "max_epochs = 7700 if not os.getenv(\"CI\", False) else 2\n",
    "auc = []\n",
    "acc = []\n",
    "clf = TabNetClassifier(cat_idxs=cat_idxs,\n",
    "                       cat_dims=cat_dims,\n",
    "                       cat_emb_dim=1,\n",
    "                       con_idxs = con_idxs,\n",
    "                       con_emb_dim = 44,\n",
    "                       optimizer_fn=torch.optim.Adam,\n",
    "                       optimizer_params=dict(lr=2e-2),\n",
    "                       scheduler_params={\"step_size\":50, # how to use learning rate scheduler\n",
    "                                         \"gamma\":0.9},\n",
    "                       scheduler_fn=torch.optim.lr_scheduler.StepLR,\n",
    "                       mask_type='entmax' # \"sparsemax\"\n",
    "                      )\n",
    "\n",
    "clf.fit(\n",
    "                            X_train=X_train, y_train=y_train,\n",
    "                            eval_set=[(X_train, y_train), (X_valid, y_valid)],\n",
    "                            eval_name=['train', 'valid'],\n",
    "                            eval_metric=['auc'],\n",
    "                            max_epochs=max_epochs , patience=20,\n",
    "                            batch_size=1024, virtual_batch_size=128,\n",
    "                            num_workers=0,\n",
    "                            weights=1,\n",
    "                            drop_last=False\n",
    "                        )\n",
    "\n",
    "preds_class = clf.predict(X_test)\n",
    "preds = clf.predict_proba(X_test)\n",
    "test_acc = accuracy_score(y_test, preds_class)\n",
    "test_auc = roc_auc_score(y_score=preds[:,1], y_true=y_test)\n",
    "print(\"acc:\", test_acc)\n",
    "print(\"auc:\", test_auc)"
   ]
  },
  {
   "cell_type": "markdown",
   "metadata": {},
   "source": [
    "## Loop"
   ]
  },
  {
   "cell_type": "code",
   "execution_count": 1,
   "metadata": {
    "scrolled": true
   },
   "outputs": [
    {
     "name": "stdout",
     "output_type": "stream",
     "text": [
      "Running Yen model\n",
      "File already exists.\n",
      "39 73\n",
      " State-gov 9\n",
      " Bachelors 16\n",
      " 13 16\n",
      " Never-married 7\n",
      " Adm-clerical 15\n",
      " Not-in-family 6\n",
      " White 5\n",
      " Male 2\n",
      " 2174 119\n",
      " 0 92\n",
      " 40 94\n",
      " United-States 42\n",
      " <=50K 2\n",
      "Set 3\n",
      "Device used : cpu\n",
      "epoch 0  | loss: 0.78362 | train_accuracy: 0.5344  | valid_accuracy: 0.53958 |  0:00:05s\n",
      "epoch 1  | loss: 0.62432 | train_accuracy: 0.64429 | valid_accuracy: 0.64483 |  0:00:10s\n",
      "epoch 2  | loss: 0.57601 | train_accuracy: 0.65193 | valid_accuracy: 0.6588  |  0:00:15s\n",
      "epoch 3  | loss: 0.4943  | train_accuracy: 0.68506 | valid_accuracy: 0.67743 |  0:00:20s\n",
      "epoch 4  | loss: 0.45714 | train_accuracy: 0.7439  | valid_accuracy: 0.75194 |  0:00:25s\n",
      "epoch 5  | loss: 0.44225 | train_accuracy: 0.7872  | valid_accuracy: 0.78764 |  0:00:30s\n",
      "epoch 6  | loss: 0.42705 | train_accuracy: 0.79396 | valid_accuracy: 0.80161 |  0:00:35s\n",
      "epoch 7  | loss: 0.42089 | train_accuracy: 0.7113  | valid_accuracy: 0.70941 |  0:00:41s\n",
      "epoch 8  | loss: 0.41125 | train_accuracy: 0.69446 | valid_accuracy: 0.69326 |  0:00:45s\n",
      "epoch 9  | loss: 0.39466 | train_accuracy: 0.63256 | valid_accuracy: 0.63676 |  0:00:50s\n",
      "epoch 10 | loss: 0.39257 | train_accuracy: 0.62512 | valid_accuracy: 0.62527 |  0:00:56s\n",
      "epoch 11 | loss: 0.38169 | train_accuracy: 0.61595 | valid_accuracy: 0.61596 |  0:01:03s\n",
      "epoch 12 | loss: 0.37957 | train_accuracy: 0.61253 | valid_accuracy: 0.61658 |  0:01:10s\n",
      "epoch 13 | loss: 0.37756 | train_accuracy: 0.65315 | valid_accuracy: 0.65477 |  0:01:15s\n",
      "epoch 14 | loss: 0.37396 | train_accuracy: 0.68499 | valid_accuracy: 0.68147 |  0:01:21s\n",
      "epoch 15 | loss: 0.37318 | train_accuracy: 0.70198 | valid_accuracy: 0.70009 |  0:01:26s\n",
      "epoch 16 | loss: 0.37054 | train_accuracy: 0.73968 | valid_accuracy: 0.73921 |  0:01:31s\n",
      "epoch 17 | loss: 0.36034 | train_accuracy: 0.67605 | valid_accuracy: 0.67743 |  0:01:36s\n",
      "epoch 18 | loss: 0.36621 | train_accuracy: 0.72545 | valid_accuracy: 0.72772 |  0:01:41s\n",
      "epoch 19 | loss: 0.365   | train_accuracy: 0.70785 | valid_accuracy: 0.70723 |  0:01:46s\n",
      "epoch 20 | loss: 0.35539 | train_accuracy: 0.7373  | valid_accuracy: 0.73983 |  0:01:51s\n",
      "epoch 21 | loss: 0.35399 | train_accuracy: 0.69193 | valid_accuracy: 0.68674 |  0:01:56s\n",
      "epoch 22 | loss: 0.35017 | train_accuracy: 0.7011  | valid_accuracy: 0.70009 |  0:02:01s\n",
      "epoch 23 | loss: 0.34808 | train_accuracy: 0.74256 | valid_accuracy: 0.73983 |  0:02:04s\n",
      "epoch 24 | loss: 0.34867 | train_accuracy: 0.76576 | valid_accuracy: 0.76653 |  0:02:08s\n",
      "epoch 25 | loss: 0.34727 | train_accuracy: 0.7505  | valid_accuracy: 0.74666 |  0:02:12s\n",
      "epoch 26 | loss: 0.33671 | train_accuracy: 0.74662 | valid_accuracy: 0.74884 |  0:02:15s\n",
      "\n",
      "Early stopping occurred at epoch 26 with best_epoch = 6 and best_valid_accuracy = 0.80161\n",
      "Best weights from best epoch are automatically used!\n",
      "acc: 0.8010407101316193 1\n",
      "auc: 0.8968060587787392 1\n",
      "Device used : cpu\n",
      "epoch 0  | loss: 0.63859 | train_accuracy: 0.57399 | valid_accuracy: 0.56877 |  0:00:03s\n",
      "epoch 1  | loss: 0.50142 | train_accuracy: 0.62983 | valid_accuracy: 0.63862 |  0:00:06s\n",
      "epoch 2  | loss: 0.46063 | train_accuracy: 0.71797 | valid_accuracy: 0.72089 |  0:00:10s\n",
      "epoch 3  | loss: 0.43832 | train_accuracy: 0.74931 | valid_accuracy: 0.75256 |  0:00:13s\n",
      "epoch 4  | loss: 0.41939 | train_accuracy: 0.76404 | valid_accuracy: 0.77088 |  0:00:17s\n",
      "epoch 5  | loss: 0.40804 | train_accuracy: 0.77512 | valid_accuracy: 0.77709 |  0:00:20s\n",
      "epoch 6  | loss: 0.3961  | train_accuracy: 0.74835 | valid_accuracy: 0.75287 |  0:00:23s\n",
      "epoch 7  | loss: 0.38947 | train_accuracy: 0.75756 | valid_accuracy: 0.76125 |  0:00:27s\n",
      "epoch 8  | loss: 0.37985 | train_accuracy: 0.72921 | valid_accuracy: 0.7299  |  0:00:30s\n",
      "epoch 9  | loss: 0.36758 | train_accuracy: 0.77562 | valid_accuracy: 0.77833 |  0:00:34s\n",
      "epoch 10 | loss: 0.36393 | train_accuracy: 0.70896 | valid_accuracy: 0.70506 |  0:00:38s\n",
      "epoch 11 | loss: 0.35529 | train_accuracy: 0.75292 | valid_accuracy: 0.75318 |  0:00:41s\n",
      "epoch 12 | loss: 0.34974 | train_accuracy: 0.69205 | valid_accuracy: 0.69047 |  0:00:45s\n",
      "epoch 13 | loss: 0.34833 | train_accuracy: 0.69692 | valid_accuracy: 0.69171 |  0:00:48s\n",
      "epoch 14 | loss: 0.34738 | train_accuracy: 0.72626 | valid_accuracy: 0.72369 |  0:00:52s\n",
      "epoch 15 | loss: 0.34968 | train_accuracy: 0.50641 | valid_accuracy: 0.50574 |  0:00:55s\n",
      "epoch 16 | loss: 0.345   | train_accuracy: 0.71272 | valid_accuracy: 0.70351 |  0:00:59s\n",
      "epoch 17 | loss: 0.34149 | train_accuracy: 0.67655 | valid_accuracy: 0.67184 |  0:01:02s\n",
      "epoch 18 | loss: 0.34452 | train_accuracy: 0.75111 | valid_accuracy: 0.7448  |  0:01:06s\n",
      "epoch 19 | loss: 0.34557 | train_accuracy: 0.67022 | valid_accuracy: 0.66377 |  0:01:09s\n",
      "epoch 20 | loss: 0.33709 | train_accuracy: 0.73094 | valid_accuracy: 0.72276 |  0:01:13s\n",
      "epoch 21 | loss: 0.33311 | train_accuracy: 0.69653 | valid_accuracy: 0.6883  |  0:01:16s\n",
      "epoch 22 | loss: 0.33463 | train_accuracy: 0.67659 | valid_accuracy: 0.67432 |  0:01:19s\n",
      "epoch 23 | loss: 0.33045 | train_accuracy: 0.83127 | valid_accuracy: 0.82428 |  0:01:23s\n",
      "epoch 24 | loss: 0.33126 | train_accuracy: 0.75188 | valid_accuracy: 0.74511 |  0:01:26s\n",
      "epoch 25 | loss: 0.33519 | train_accuracy: 0.7859  | valid_accuracy: 0.78485 |  0:01:30s\n",
      "epoch 26 | loss: 0.3238  | train_accuracy: 0.77144 | valid_accuracy: 0.76436 |  0:01:34s\n",
      "epoch 27 | loss: 0.33105 | train_accuracy: 0.75771 | valid_accuracy: 0.75629 |  0:01:37s\n",
      "epoch 28 | loss: 0.33038 | train_accuracy: 0.77136 | valid_accuracy: 0.76902 |  0:01:40s\n",
      "epoch 29 | loss: 0.32735 | train_accuracy: 0.7737  | valid_accuracy: 0.77709 |  0:01:44s\n",
      "epoch 30 | loss: 0.3261  | train_accuracy: 0.80972 | valid_accuracy: 0.80565 |  0:01:48s\n",
      "epoch 31 | loss: 0.32526 | train_accuracy: 0.84347 | valid_accuracy: 0.83701 |  0:01:51s\n",
      "epoch 32 | loss: 0.32274 | train_accuracy: 0.79334 | valid_accuracy: 0.78951 |  0:01:55s\n",
      "epoch 33 | loss: 0.32642 | train_accuracy: 0.82752 | valid_accuracy: 0.81993 |  0:01:58s\n",
      "epoch 34 | loss: 0.32447 | train_accuracy: 0.83526 | valid_accuracy: 0.82552 |  0:02:02s\n",
      "epoch 35 | loss: 0.31938 | train_accuracy: 0.8437  | valid_accuracy: 0.83825 |  0:02:08s\n",
      "epoch 36 | loss: 0.32262 | train_accuracy: 0.83254 | valid_accuracy: 0.8249  |  0:02:12s\n",
      "epoch 37 | loss: 0.31721 | train_accuracy: 0.81248 | valid_accuracy: 0.80441 |  0:02:17s\n",
      "epoch 38 | loss: 0.32308 | train_accuracy: 0.78732 | valid_accuracy: 0.78019 |  0:02:22s\n",
      "epoch 39 | loss: 0.32523 | train_accuracy: 0.60206 | valid_accuracy: 0.60354 |  0:02:27s\n",
      "epoch 40 | loss: 0.32196 | train_accuracy: 0.7823  | valid_accuracy: 0.78174 |  0:02:32s\n",
      "epoch 41 | loss: 0.32643 | train_accuracy: 0.72031 | valid_accuracy: 0.71313 |  0:02:37s\n",
      "epoch 42 | loss: 0.32129 | train_accuracy: 0.7154  | valid_accuracy: 0.70754 |  0:02:42s\n",
      "epoch 43 | loss: 0.32298 | train_accuracy: 0.79162 | valid_accuracy: 0.78361 |  0:02:47s\n",
      "epoch 44 | loss: 0.31751 | train_accuracy: 0.83626 | valid_accuracy: 0.82583 |  0:02:52s\n",
      "epoch 45 | loss: 0.31117 | train_accuracy: 0.74172 | valid_accuracy: 0.73424 |  0:02:56s\n",
      "epoch 46 | loss: 0.32396 | train_accuracy: 0.83028 | valid_accuracy: 0.8249  |  0:03:01s\n",
      "epoch 47 | loss: 0.31975 | train_accuracy: 0.84474 | valid_accuracy: 0.83018 |  0:03:06s\n",
      "epoch 48 | loss: 0.31874 | train_accuracy: 0.85314 | valid_accuracy: 0.8398  |  0:03:11s\n",
      "epoch 49 | loss: 0.31601 | train_accuracy: 0.81892 | valid_accuracy: 0.80658 |  0:03:16s\n",
      "epoch 50 | loss: 0.3226  | train_accuracy: 0.8236  | valid_accuracy: 0.8131  |  0:03:21s\n",
      "epoch 51 | loss: 0.31329 | train_accuracy: 0.8289  | valid_accuracy: 0.81714 |  0:03:26s\n",
      "epoch 52 | loss: 0.31642 | train_accuracy: 0.80247 | valid_accuracy: 0.79416 |  0:03:31s\n",
      "epoch 53 | loss: 0.31481 | train_accuracy: 0.85049 | valid_accuracy: 0.83545 |  0:03:36s\n",
      "epoch 54 | loss: 0.31335 | train_accuracy: 0.83791 | valid_accuracy: 0.82179 |  0:03:41s\n",
      "epoch 55 | loss: 0.31217 | train_accuracy: 0.85279 | valid_accuracy: 0.84042 |  0:03:46s\n",
      "epoch 56 | loss: 0.31501 | train_accuracy: 0.82126 | valid_accuracy: 0.80907 |  0:03:51s\n",
      "epoch 57 | loss: 0.31398 | train_accuracy: 0.86142 | valid_accuracy: 0.84446 |  0:03:56s\n",
      "epoch 58 | loss: 0.31135 | train_accuracy: 0.82042 | valid_accuracy: 0.80844 |  0:04:01s\n",
      "epoch 59 | loss: 0.31096 | train_accuracy: 0.82905 | valid_accuracy: 0.81372 |  0:04:06s\n",
      "epoch 60 | loss: 0.3134  | train_accuracy: 0.86334 | valid_accuracy: 0.8488  |  0:04:11s\n"
     ]
    },
    {
     "name": "stdout",
     "output_type": "stream",
     "text": [
      "epoch 61 | loss: 0.31746 | train_accuracy: 0.80761 | valid_accuracy: 0.79727 |  0:04:16s\n",
      "epoch 62 | loss: 0.32296 | train_accuracy: 0.84405 | valid_accuracy: 0.82707 |  0:04:21s\n",
      "epoch 63 | loss: 0.31955 | train_accuracy: 0.82414 | valid_accuracy: 0.81    |  0:04:26s\n",
      "epoch 64 | loss: 0.31297 | train_accuracy: 0.847   | valid_accuracy: 0.82707 |  0:04:31s\n",
      "epoch 65 | loss: 0.31305 | train_accuracy: 0.84428 | valid_accuracy: 0.82831 |  0:04:36s\n",
      "epoch 66 | loss: 0.31074 | train_accuracy: 0.83638 | valid_accuracy: 0.81993 |  0:04:40s\n",
      "epoch 67 | loss: 0.30939 | train_accuracy: 0.85801 | valid_accuracy: 0.84042 |  0:04:45s\n",
      "epoch 68 | loss: 0.31401 | train_accuracy: 0.83327 | valid_accuracy: 0.81776 |  0:04:50s\n",
      "epoch 69 | loss: 0.3076  | train_accuracy: 0.87109 | valid_accuracy: 0.85688 |  0:04:55s\n",
      "epoch 70 | loss: 0.31297 | train_accuracy: 0.82675 | valid_accuracy: 0.81093 |  0:05:00s\n",
      "epoch 71 | loss: 0.31385 | train_accuracy: 0.8345  | valid_accuracy: 0.81807 |  0:05:05s\n",
      "epoch 72 | loss: 0.31317 | train_accuracy: 0.82786 | valid_accuracy: 0.81434 |  0:05:10s\n",
      "epoch 73 | loss: 0.30391 | train_accuracy: 0.83388 | valid_accuracy: 0.81962 |  0:05:15s\n",
      "epoch 74 | loss: 0.30729 | train_accuracy: 0.80228 | valid_accuracy: 0.79354 |  0:05:20s\n",
      "epoch 75 | loss: 0.3114  | train_accuracy: 0.8386  | valid_accuracy: 0.81993 |  0:05:25s\n",
      "epoch 76 | loss: 0.31042 | train_accuracy: 0.79576 | valid_accuracy: 0.78268 |  0:05:30s\n",
      "epoch 77 | loss: 0.31193 | train_accuracy: 0.82326 | valid_accuracy: 0.80782 |  0:05:35s\n",
      "epoch 78 | loss: 0.30459 | train_accuracy: 0.84209 | valid_accuracy: 0.81714 |  0:05:40s\n",
      "epoch 79 | loss: 0.31254 | train_accuracy: 0.82291 | valid_accuracy: 0.8072  |  0:05:45s\n",
      "epoch 80 | loss: 0.30636 | train_accuracy: 0.81647 | valid_accuracy: 0.80099 |  0:05:50s\n",
      "epoch 81 | loss: 0.31289 | train_accuracy: 0.82054 | valid_accuracy: 0.80876 |  0:05:55s\n",
      "epoch 82 | loss: 0.30746 | train_accuracy: 0.82817 | valid_accuracy: 0.81279 |  0:06:00s\n",
      "epoch 83 | loss: 0.30191 | train_accuracy: 0.8373  | valid_accuracy: 0.81683 |  0:06:05s\n",
      "epoch 84 | loss: 0.30781 | train_accuracy: 0.84581 | valid_accuracy: 0.82552 |  0:06:09s\n",
      "epoch 85 | loss: 0.30257 | train_accuracy: 0.84094 | valid_accuracy: 0.82521 |  0:06:14s\n",
      "epoch 86 | loss: 0.30699 | train_accuracy: 0.834   | valid_accuracy: 0.81838 |  0:06:19s\n",
      "epoch 87 | loss: 0.30872 | train_accuracy: 0.83661 | valid_accuracy: 0.82459 |  0:06:24s\n",
      "epoch 88 | loss: 0.30456 | train_accuracy: 0.83227 | valid_accuracy: 0.81527 |  0:06:28s\n",
      "epoch 89 | loss: 0.31084 | train_accuracy: 0.83035 | valid_accuracy: 0.81217 |  0:06:33s\n",
      "\n",
      "Early stopping occurred at epoch 89 with best_epoch = 69 and best_valid_accuracy = 0.85688\n",
      "Best weights from best epoch are automatically used!\n",
      "acc: 0.8552188552188552 2\n",
      "auc: 0.919518558076072 2\n",
      "Device used : cpu\n",
      "epoch 0  | loss: 0.68895 | train_accuracy: 0.50836 | valid_accuracy: 0.50916 |  0:00:04s\n",
      "epoch 1  | loss: 0.55566 | train_accuracy: 0.7001  | valid_accuracy: 0.69388 |  0:00:09s\n",
      "epoch 2  | loss: 0.50844 | train_accuracy: 0.70486 | valid_accuracy: 0.70506 |  0:00:14s\n",
      "epoch 3  | loss: 0.4787  | train_accuracy: 0.78072 | valid_accuracy: 0.78392 |  0:00:18s\n",
      "epoch 4  | loss: 0.45336 | train_accuracy: 0.80481 | valid_accuracy: 0.8041  |  0:00:23s\n",
      "epoch 5  | loss: 0.43358 | train_accuracy: 0.79499 | valid_accuracy: 0.80255 |  0:00:28s\n",
      "epoch 6  | loss: 0.42363 | train_accuracy: 0.79257 | valid_accuracy: 0.79851 |  0:00:32s\n",
      "epoch 7  | loss: 0.41258 | train_accuracy: 0.78057 | valid_accuracy: 0.79044 |  0:00:37s\n",
      "epoch 8  | loss: 0.40527 | train_accuracy: 0.72426 | valid_accuracy: 0.73455 |  0:00:42s\n",
      "epoch 9  | loss: 0.39392 | train_accuracy: 0.69964 | valid_accuracy: 0.70568 |  0:00:47s\n",
      "epoch 10 | loss: 0.38798 | train_accuracy: 0.72442 | valid_accuracy: 0.72679 |  0:00:51s\n",
      "epoch 11 | loss: 0.37753 | train_accuracy: 0.77861 | valid_accuracy: 0.7805  |  0:00:56s\n",
      "epoch 12 | loss: 0.37272 | train_accuracy: 0.73654 | valid_accuracy: 0.73735 |  0:01:01s\n",
      "epoch 13 | loss: 0.37    | train_accuracy: 0.70305 | valid_accuracy: 0.70071 |  0:01:05s\n",
      "epoch 14 | loss: 0.36657 | train_accuracy: 0.69013 | valid_accuracy: 0.68519 |  0:01:10s\n",
      "epoch 15 | loss: 0.36109 | train_accuracy: 0.77067 | valid_accuracy: 0.76995 |  0:01:15s\n",
      "epoch 16 | loss: 0.36123 | train_accuracy: 0.74164 | valid_accuracy: 0.73393 |  0:01:19s\n",
      "epoch 17 | loss: 0.3529  | train_accuracy: 0.71763 | valid_accuracy: 0.71282 |  0:01:24s\n",
      "epoch 18 | loss: 0.35889 | train_accuracy: 0.74632 | valid_accuracy: 0.74232 |  0:01:29s\n",
      "epoch 19 | loss: 0.35735 | train_accuracy: 0.75491 | valid_accuracy: 0.74728 |  0:01:34s\n",
      "epoch 20 | loss: 0.34656 | train_accuracy: 0.74827 | valid_accuracy: 0.74138 |  0:01:38s\n",
      "epoch 21 | loss: 0.34477 | train_accuracy: 0.76335 | valid_accuracy: 0.75567 |  0:01:43s\n",
      "epoch 22 | loss: 0.34304 | train_accuracy: 0.7953  | valid_accuracy: 0.78702 |  0:01:48s\n",
      "epoch 23 | loss: 0.34236 | train_accuracy: 0.80048 | valid_accuracy: 0.7982  |  0:01:52s\n",
      "epoch 24 | loss: 0.34741 | train_accuracy: 0.76753 | valid_accuracy: 0.75567 |  0:01:57s\n",
      "\n",
      "Early stopping occurred at epoch 24 with best_epoch = 4 and best_valid_accuracy = 0.8041\n",
      "Best weights from best epoch are automatically used!\n",
      "acc: 0.8056320783593511 3\n",
      "auc: 0.8596321601774299 3\n",
      "Device used : cpu\n",
      "epoch 0  | loss: 0.63567 | train_accuracy: 0.7103  | valid_accuracy: 0.70848 |  0:00:04s\n",
      "epoch 1  | loss: 0.52588 | train_accuracy: 0.56378 | valid_accuracy: 0.55542 |  0:00:09s\n",
      "epoch 2  | loss: 0.47638 | train_accuracy: 0.66581 | valid_accuracy: 0.65694 |  0:00:13s\n",
      "epoch 3  | loss: 0.44944 | train_accuracy: 0.73197 | valid_accuracy: 0.73828 |  0:00:18s\n",
      "epoch 4  | loss: 0.42938 | train_accuracy: 0.70443 | valid_accuracy: 0.70692 |  0:00:23s\n",
      "epoch 5  | loss: 0.42218 | train_accuracy: 0.70202 | valid_accuracy: 0.70227 |  0:00:28s\n",
      "epoch 6  | loss: 0.4045  | train_accuracy: 0.73301 | valid_accuracy: 0.74728 |  0:00:32s\n",
      "epoch 7  | loss: 0.3978  | train_accuracy: 0.76273 | valid_accuracy: 0.77274 |  0:00:37s\n",
      "epoch 8  | loss: 0.38723 | train_accuracy: 0.73822 | valid_accuracy: 0.74418 |  0:00:41s\n",
      "epoch 9  | loss: 0.37453 | train_accuracy: 0.76945 | valid_accuracy: 0.77678 |  0:00:46s\n",
      "epoch 10 | loss: 0.37674 | train_accuracy: 0.77877 | valid_accuracy: 0.77895 |  0:00:51s\n",
      "epoch 11 | loss: 0.36439 | train_accuracy: 0.72146 | valid_accuracy: 0.72462 |  0:00:56s\n",
      "epoch 12 | loss: 0.36042 | train_accuracy: 0.73216 | valid_accuracy: 0.73735 |  0:01:00s\n",
      "epoch 13 | loss: 0.359   | train_accuracy: 0.73546 | valid_accuracy: 0.73021 |  0:01:05s\n",
      "epoch 14 | loss: 0.35615 | train_accuracy: 0.66581 | valid_accuracy: 0.66843 |  0:01:09s\n",
      "epoch 15 | loss: 0.35352 | train_accuracy: 0.77574 | valid_accuracy: 0.77585 |  0:01:14s\n",
      "epoch 16 | loss: 0.35189 | train_accuracy: 0.76481 | valid_accuracy: 0.76188 |  0:01:19s\n",
      "epoch 17 | loss: 0.34433 | train_accuracy: 0.7543  | valid_accuracy: 0.74977 |  0:01:24s\n",
      "epoch 18 | loss: 0.35293 | train_accuracy: 0.85168 | valid_accuracy: 0.84663 |  0:01:28s\n",
      "epoch 19 | loss: 0.34997 | train_accuracy: 0.7747  | valid_accuracy: 0.77119 |  0:01:33s\n",
      "epoch 20 | loss: 0.33887 | train_accuracy: 0.79031 | valid_accuracy: 0.78826 |  0:01:38s\n",
      "epoch 21 | loss: 0.33352 | train_accuracy: 0.79023 | valid_accuracy: 0.78733 |  0:01:42s\n",
      "epoch 22 | loss: 0.33428 | train_accuracy: 0.81083 | valid_accuracy: 0.80751 |  0:01:47s\n",
      "epoch 23 | loss: 0.33659 | train_accuracy: 0.79791 | valid_accuracy: 0.79727 |  0:01:52s\n",
      "epoch 24 | loss: 0.34077 | train_accuracy: 0.78019 | valid_accuracy: 0.7805  |  0:01:56s\n",
      "epoch 25 | loss: 0.33686 | train_accuracy: 0.80895 | valid_accuracy: 0.80099 |  0:02:01s\n",
      "epoch 26 | loss: 0.32682 | train_accuracy: 0.77689 | valid_accuracy: 0.76964 |  0:02:06s\n",
      "epoch 27 | loss: 0.33018 | train_accuracy: 0.80953 | valid_accuracy: 0.80907 |  0:02:11s\n",
      "epoch 28 | loss: 0.33412 | train_accuracy: 0.82475 | valid_accuracy: 0.81931 |  0:02:16s\n",
      "epoch 29 | loss: 0.33026 | train_accuracy: 0.8279  | valid_accuracy: 0.83142 |  0:02:21s\n",
      "epoch 30 | loss: 0.32818 | train_accuracy: 0.84409 | valid_accuracy: 0.84042 |  0:02:25s\n",
      "epoch 31 | loss: 0.32675 | train_accuracy: 0.87416 | valid_accuracy: 0.87178 |  0:02:30s\n",
      "epoch 32 | loss: 0.32681 | train_accuracy: 0.82989 | valid_accuracy: 0.82552 |  0:02:35s\n",
      "epoch 33 | loss: 0.33104 | train_accuracy: 0.83388 | valid_accuracy: 0.82769 |  0:02:40s\n"
     ]
    },
    {
     "name": "stdout",
     "output_type": "stream",
     "text": [
      "epoch 34 | loss: 0.32468 | train_accuracy: 0.82541 | valid_accuracy: 0.81993 |  0:02:44s\n",
      "epoch 35 | loss: 0.32397 | train_accuracy: 0.82341 | valid_accuracy: 0.81403 |  0:02:49s\n",
      "epoch 36 | loss: 0.3277  | train_accuracy: 0.82874 | valid_accuracy: 0.82273 |  0:02:54s\n",
      "epoch 37 | loss: 0.32137 | train_accuracy: 0.76987 | valid_accuracy: 0.76125 |  0:02:58s\n",
      "epoch 38 | loss: 0.32754 | train_accuracy: 0.80243 | valid_accuracy: 0.79323 |  0:03:03s\n",
      "epoch 39 | loss: 0.32179 | train_accuracy: 0.81263 | valid_accuracy: 0.80596 |  0:03:15s\n",
      "epoch 40 | loss: 0.32141 | train_accuracy: 0.84263 | valid_accuracy: 0.83732 |  0:03:25s\n",
      "epoch 41 | loss: 0.32567 | train_accuracy: 0.83557 | valid_accuracy: 0.82397 |  0:03:32s\n",
      "epoch 42 | loss: 0.32007 | train_accuracy: 0.83484 | valid_accuracy: 0.82459 |  0:03:38s\n",
      "epoch 43 | loss: 0.32309 | train_accuracy: 0.83818 | valid_accuracy: 0.83297 |  0:03:44s\n",
      "epoch 44 | loss: 0.31815 | train_accuracy: 0.82966 | valid_accuracy: 0.81931 |  0:03:49s\n",
      "epoch 45 | loss: 0.31254 | train_accuracy: 0.84957 | valid_accuracy: 0.84166 |  0:03:54s\n",
      "epoch 46 | loss: 0.32615 | train_accuracy: 0.86664 | valid_accuracy: 0.86153 |  0:04:00s\n",
      "epoch 47 | loss: 0.31806 | train_accuracy: 0.84692 | valid_accuracy: 0.83421 |  0:04:05s\n",
      "epoch 48 | loss: 0.31619 | train_accuracy: 0.83615 | valid_accuracy: 0.82831 |  0:04:10s\n",
      "epoch 49 | loss: 0.32023 | train_accuracy: 0.82667 | valid_accuracy: 0.82086 |  0:04:15s\n",
      "epoch 50 | loss: 0.32006 | train_accuracy: 0.84117 | valid_accuracy: 0.83359 |  0:04:19s\n",
      "epoch 51 | loss: 0.31586 | train_accuracy: 0.82798 | valid_accuracy: 0.81962 |  0:04:24s\n",
      "\n",
      "Early stopping occurred at epoch 51 with best_epoch = 31 and best_valid_accuracy = 0.87178\n",
      "Best weights from best epoch are automatically used!\n",
      "acc: 0.8741965105601469 4\n",
      "auc: 0.925464654568869 4\n",
      "BEAT AUC\n",
      "BEAT ACC\n",
      "Device used : cpu\n",
      "epoch 0  | loss: 0.66605 | train_accuracy: 0.66389 | valid_accuracy: 0.67805 |  0:00:05s\n",
      "epoch 1  | loss: 0.52843 | train_accuracy: 0.68691 | valid_accuracy: 0.69885 |  0:00:10s\n",
      "epoch 2  | loss: 0.47459 | train_accuracy: 0.67689 | valid_accuracy: 0.68674 |  0:00:15s\n",
      "epoch 3  | loss: 0.44904 | train_accuracy: 0.76239 | valid_accuracy: 0.76219 |  0:00:20s\n",
      "epoch 4  | loss: 0.42436 | train_accuracy: 0.67344 | valid_accuracy: 0.67929 |  0:00:25s\n",
      "epoch 5  | loss: 0.41483 | train_accuracy: 0.77892 | valid_accuracy: 0.77026 |  0:00:30s\n",
      "epoch 6  | loss: 0.40126 | train_accuracy: 0.80638 | valid_accuracy: 0.79882 |  0:00:35s\n",
      "epoch 7  | loss: 0.39879 | train_accuracy: 0.72369 | valid_accuracy: 0.72586 |  0:00:41s\n",
      "epoch 8  | loss: 0.39078 | train_accuracy: 0.67256 | valid_accuracy: 0.67619 |  0:00:46s\n",
      "epoch 9  | loss: 0.37805 | train_accuracy: 0.71015 | valid_accuracy: 0.71251 |  0:00:51s\n",
      "epoch 10 | loss: 0.38135 | train_accuracy: 0.73926 | valid_accuracy: 0.74573 |  0:00:56s\n",
      "epoch 11 | loss: 0.36966 | train_accuracy: 0.63022 | valid_accuracy: 0.63148 |  0:01:02s\n",
      "epoch 12 | loss: 0.36747 | train_accuracy: 0.58308 | valid_accuracy: 0.58212 |  0:01:07s\n",
      "epoch 13 | loss: 0.36208 | train_accuracy: 0.70923 | valid_accuracy: 0.71313 |  0:01:12s\n",
      "epoch 14 | loss: 0.35918 | train_accuracy: 0.6543  | valid_accuracy: 0.65446 |  0:01:18s\n",
      "epoch 15 | loss: 0.359   | train_accuracy: 0.75771 | valid_accuracy: 0.75815 |  0:01:22s\n",
      "epoch 16 | loss: 0.35344 | train_accuracy: 0.70915 | valid_accuracy: 0.70817 |  0:01:27s\n",
      "epoch 17 | loss: 0.34435 | train_accuracy: 0.68951 | valid_accuracy: 0.68084 |  0:01:32s\n",
      "epoch 18 | loss: 0.35303 | train_accuracy: 0.79994 | valid_accuracy: 0.80192 |  0:01:37s\n",
      "epoch 19 | loss: 0.35237 | train_accuracy: 0.72825 | valid_accuracy: 0.72648 |  0:01:41s\n",
      "epoch 20 | loss: 0.3446  | train_accuracy: 0.75993 | valid_accuracy: 0.75691 |  0:01:46s\n",
      "epoch 21 | loss: 0.33821 | train_accuracy: 0.72518 | valid_accuracy: 0.72276 |  0:01:51s\n",
      "epoch 22 | loss: 0.34209 | train_accuracy: 0.81386 | valid_accuracy: 0.8131  |  0:01:56s\n",
      "epoch 23 | loss: 0.33804 | train_accuracy: 0.79687 | valid_accuracy: 0.79603 |  0:02:01s\n",
      "epoch 24 | loss: 0.33961 | train_accuracy: 0.79154 | valid_accuracy: 0.79603 |  0:02:05s\n",
      "epoch 25 | loss: 0.33595 | train_accuracy: 0.75023 | valid_accuracy: 0.75567 |  0:02:10s\n",
      "epoch 26 | loss: 0.32998 | train_accuracy: 0.76354 | valid_accuracy: 0.76063 |  0:02:15s\n",
      "epoch 27 | loss: 0.33484 | train_accuracy: 0.80362 | valid_accuracy: 0.80099 |  0:02:20s\n",
      "epoch 28 | loss: 0.33771 | train_accuracy: 0.77493 | valid_accuracy: 0.77243 |  0:02:25s\n",
      "epoch 29 | loss: 0.33512 | train_accuracy: 0.82667 | valid_accuracy: 0.82428 |  0:02:30s\n",
      "epoch 30 | loss: 0.33494 | train_accuracy: 0.80611 | valid_accuracy: 0.80255 |  0:02:34s\n",
      "epoch 31 | loss: 0.33192 | train_accuracy: 0.78475 | valid_accuracy: 0.78454 |  0:02:39s\n",
      "epoch 32 | loss: 0.32913 | train_accuracy: 0.78276 | valid_accuracy: 0.78299 |  0:02:44s\n",
      "epoch 33 | loss: 0.33379 | train_accuracy: 0.79741 | valid_accuracy: 0.79603 |  0:02:48s\n",
      "epoch 34 | loss: 0.3301  | train_accuracy: 0.81762 | valid_accuracy: 0.81031 |  0:02:53s\n",
      "epoch 35 | loss: 0.32549 | train_accuracy: 0.82878 | valid_accuracy: 0.81652 |  0:02:59s\n",
      "epoch 36 | loss: 0.32764 | train_accuracy: 0.77267 | valid_accuracy: 0.77088 |  0:03:04s\n",
      "epoch 37 | loss: 0.32395 | train_accuracy: 0.82314 | valid_accuracy: 0.81745 |  0:03:09s\n",
      "epoch 38 | loss: 0.32932 | train_accuracy: 0.83783 | valid_accuracy: 0.8339  |  0:03:13s\n",
      "epoch 39 | loss: 0.33024 | train_accuracy: 0.8096  | valid_accuracy: 0.80068 |  0:03:19s\n",
      "epoch 40 | loss: 0.33126 | train_accuracy: 0.86265 | valid_accuracy: 0.85532 |  0:03:24s\n",
      "epoch 41 | loss: 0.33811 | train_accuracy: 0.83964 | valid_accuracy: 0.83359 |  0:03:28s\n",
      "epoch 42 | loss: 0.33063 | train_accuracy: 0.82272 | valid_accuracy: 0.8159  |  0:03:34s\n",
      "epoch 43 | loss: 0.33362 | train_accuracy: 0.86042 | valid_accuracy: 0.85315 |  0:03:39s\n",
      "epoch 44 | loss: 0.32521 | train_accuracy: 0.81969 | valid_accuracy: 0.81403 |  0:03:43s\n",
      "epoch 45 | loss: 0.33069 | train_accuracy: 0.86537 | valid_accuracy: 0.86091 |  0:03:48s\n",
      "epoch 46 | loss: 0.33982 | train_accuracy: 0.85855 | valid_accuracy: 0.85346 |  0:03:53s\n",
      "epoch 47 | loss: 0.33264 | train_accuracy: 0.86334 | valid_accuracy: 0.85284 |  0:03:58s\n",
      "epoch 48 | loss: 0.33171 | train_accuracy: 0.86196 | valid_accuracy: 0.85905 |  0:04:02s\n",
      "epoch 49 | loss: 0.33121 | train_accuracy: 0.83549 | valid_accuracy: 0.83142 |  0:04:07s\n",
      "epoch 50 | loss: 0.33301 | train_accuracy: 0.84577 | valid_accuracy: 0.84415 |  0:04:12s\n",
      "epoch 51 | loss: 0.32469 | train_accuracy: 0.86806 | valid_accuracy: 0.8606  |  0:04:17s\n",
      "epoch 52 | loss: 0.32474 | train_accuracy: 0.85927 | valid_accuracy: 0.85222 |  0:04:21s\n",
      "epoch 53 | loss: 0.3237  | train_accuracy: 0.83703 | valid_accuracy: 0.83173 |  0:04:26s\n",
      "epoch 54 | loss: 0.32328 | train_accuracy: 0.85943 | valid_accuracy: 0.84725 |  0:04:31s\n",
      "epoch 55 | loss: 0.3202  | train_accuracy: 0.84363 | valid_accuracy: 0.83328 |  0:04:35s\n",
      "epoch 56 | loss: 0.32352 | train_accuracy: 0.80884 | valid_accuracy: 0.80037 |  0:04:40s\n",
      "epoch 57 | loss: 0.32055 | train_accuracy: 0.84646 | valid_accuracy: 0.83825 |  0:04:45s\n",
      "epoch 58 | loss: 0.31761 | train_accuracy: 0.84205 | valid_accuracy: 0.83328 |  0:04:50s\n",
      "epoch 59 | loss: 0.31858 | train_accuracy: 0.81651 | valid_accuracy: 0.80534 |  0:04:54s\n",
      "epoch 60 | loss: 0.32171 | train_accuracy: 0.86296 | valid_accuracy: 0.84943 |  0:04:59s\n",
      "epoch 61 | loss: 0.32525 | train_accuracy: 0.77451 | valid_accuracy: 0.76343 |  0:05:04s\n",
      "epoch 62 | loss: 0.32595 | train_accuracy: 0.73976 | valid_accuracy: 0.73114 |  0:05:08s\n",
      "epoch 63 | loss: 0.32106 | train_accuracy: 0.81187 | valid_accuracy: 0.79913 |  0:05:13s\n",
      "epoch 64 | loss: 0.31808 | train_accuracy: 0.84692 | valid_accuracy: 0.83732 |  0:05:18s\n",
      "epoch 65 | loss: 0.3166  | train_accuracy: 0.82008 | valid_accuracy: 0.80844 |  0:05:23s\n",
      "\n",
      "Early stopping occurred at epoch 65 with best_epoch = 45 and best_valid_accuracy = 0.86091\n",
      "Best weights from best epoch are automatically used!\n",
      "acc: 0.8567493112947658 5\n",
      "auc: 0.9243746263088771 5\n",
      "BEAT AUC\n",
      "Device used : cpu\n",
      "epoch 0  | loss: 0.74888 | train_accuracy: 0.68265 | valid_accuracy: 0.69544 |  0:00:04s\n",
      "epoch 1  | loss: 0.5816  | train_accuracy: 0.65185 | valid_accuracy: 0.65601 |  0:00:09s\n",
      "epoch 2  | loss: 0.53632 | train_accuracy: 0.67743 | valid_accuracy: 0.6765  |  0:00:14s\n"
     ]
    },
    {
     "name": "stdout",
     "output_type": "stream",
     "text": [
      "epoch 3  | loss: 0.51327 | train_accuracy: 0.67943 | valid_accuracy: 0.67929 |  0:00:18s\n",
      "epoch 4  | loss: 0.48822 | train_accuracy: 0.68441 | valid_accuracy: 0.69482 |  0:00:23s\n",
      "epoch 5  | loss: 0.47753 | train_accuracy: 0.70731 | valid_accuracy: 0.71624 |  0:00:28s\n",
      "epoch 6  | loss: 0.46256 | train_accuracy: 0.71759 | valid_accuracy: 0.72679 |  0:00:33s\n",
      "epoch 7  | loss: 0.45473 | train_accuracy: 0.71586 | valid_accuracy: 0.72276 |  0:00:37s\n",
      "epoch 8  | loss: 0.44998 | train_accuracy: 0.72545 | valid_accuracy: 0.72679 |  0:00:42s\n",
      "epoch 9  | loss: 0.43045 | train_accuracy: 0.73972 | valid_accuracy: 0.74946 |  0:00:47s\n",
      "epoch 10 | loss: 0.42709 | train_accuracy: 0.72426 | valid_accuracy: 0.73083 |  0:00:52s\n",
      "epoch 11 | loss: 0.41294 | train_accuracy: 0.79752 | valid_accuracy: 0.79696 |  0:00:56s\n",
      "epoch 12 | loss: 0.4062  | train_accuracy: 0.73961 | valid_accuracy: 0.75287 |  0:01:01s\n",
      "epoch 13 | loss: 0.39831 | train_accuracy: 0.74225 | valid_accuracy: 0.7507  |  0:01:06s\n",
      "epoch 14 | loss: 0.3936  | train_accuracy: 0.73205 | valid_accuracy: 0.74263 |  0:01:10s\n",
      "epoch 15 | loss: 0.39047 | train_accuracy: 0.72534 | valid_accuracy: 0.73145 |  0:01:15s\n",
      "epoch 16 | loss: 0.38758 | train_accuracy: 0.73101 | valid_accuracy: 0.74076 |  0:01:20s\n",
      "epoch 17 | loss: 0.38095 | train_accuracy: 0.73255 | valid_accuracy: 0.7417  |  0:01:25s\n",
      "epoch 18 | loss: 0.38952 | train_accuracy: 0.72434 | valid_accuracy: 0.73207 |  0:01:29s\n",
      "epoch 19 | loss: 0.38344 | train_accuracy: 0.72196 | valid_accuracy: 0.733   |  0:01:34s\n",
      "epoch 20 | loss: 0.37427 | train_accuracy: 0.73286 | valid_accuracy: 0.74138 |  0:01:39s\n",
      "epoch 21 | loss: 0.37488 | train_accuracy: 0.72614 | valid_accuracy: 0.73083 |  0:01:44s\n",
      "epoch 22 | loss: 0.37247 | train_accuracy: 0.73784 | valid_accuracy: 0.74759 |  0:01:49s\n",
      "epoch 23 | loss: 0.36684 | train_accuracy: 0.7457  | valid_accuracy: 0.75536 |  0:01:54s\n",
      "epoch 24 | loss: 0.37218 | train_accuracy: 0.74417 | valid_accuracy: 0.74821 |  0:01:58s\n",
      "epoch 25 | loss: 0.36613 | train_accuracy: 0.72258 | valid_accuracy: 0.72741 |  0:02:03s\n",
      "epoch 26 | loss: 0.3591  | train_accuracy: 0.7472  | valid_accuracy: 0.75163 |  0:02:08s\n",
      "epoch 27 | loss: 0.35772 | train_accuracy: 0.751   | valid_accuracy: 0.75629 |  0:02:13s\n",
      "epoch 28 | loss: 0.36313 | train_accuracy: 0.75671 | valid_accuracy: 0.76188 |  0:02:18s\n",
      "epoch 29 | loss: 0.35462 | train_accuracy: 0.74221 | valid_accuracy: 0.74356 |  0:02:22s\n",
      "epoch 30 | loss: 0.35319 | train_accuracy: 0.73301 | valid_accuracy: 0.733   |  0:02:27s\n",
      "epoch 31 | loss: 0.35629 | train_accuracy: 0.74582 | valid_accuracy: 0.74853 |  0:02:32s\n",
      "\n",
      "Early stopping occurred at epoch 31 with best_epoch = 11 and best_valid_accuracy = 0.79696\n",
      "Best weights from best epoch are automatically used!\n",
      "acc: 0.8071625344352618 6\n",
      "auc: 0.9058788959695017 6\n",
      "Device used : cpu\n",
      "epoch 0  | loss: 0.71812 | train_accuracy: 0.67467 | valid_accuracy: 0.68271 |  0:00:04s\n",
      "epoch 1  | loss: 0.54189 | train_accuracy: 0.69266 | valid_accuracy: 0.69202 |  0:00:09s\n",
      "epoch 2  | loss: 0.49224 | train_accuracy: 0.71441 | valid_accuracy: 0.71748 |  0:00:14s\n",
      "epoch 3  | loss: 0.47187 | train_accuracy: 0.75541 | valid_accuracy: 0.7625  |  0:00:19s\n",
      "epoch 4  | loss: 0.45266 | train_accuracy: 0.76665 | valid_accuracy: 0.77554 |  0:00:23s\n",
      "epoch 5  | loss: 0.4374  | train_accuracy: 0.77873 | valid_accuracy: 0.78578 |  0:00:28s\n",
      "epoch 6  | loss: 0.42735 | train_accuracy: 0.77397 | valid_accuracy: 0.7774  |  0:00:33s\n",
      "epoch 7  | loss: 0.41718 | train_accuracy: 0.76734 | valid_accuracy: 0.77429 |  0:00:38s\n",
      "epoch 8  | loss: 0.40423 | train_accuracy: 0.79093 | valid_accuracy: 0.79478 |  0:00:42s\n",
      "epoch 9  | loss: 0.39382 | train_accuracy: 0.75805 | valid_accuracy: 0.7625  |  0:00:47s\n",
      "epoch 10 | loss: 0.38922 | train_accuracy: 0.66428 | valid_accuracy: 0.66625 |  0:00:53s\n",
      "epoch 11 | loss: 0.38029 | train_accuracy: 0.73707 | valid_accuracy: 0.73766 |  0:00:59s\n",
      "epoch 12 | loss: 0.37395 | train_accuracy: 0.68522 | valid_accuracy: 0.68302 |  0:01:03s\n",
      "epoch 13 | loss: 0.36933 | train_accuracy: 0.56969 | valid_accuracy: 0.5697  |  0:01:08s\n",
      "epoch 14 | loss: 0.36509 | train_accuracy: 0.68334 | valid_accuracy: 0.68084 |  0:01:13s\n",
      "epoch 15 | loss: 0.36504 | train_accuracy: 0.62696 | valid_accuracy: 0.62279 |  0:01:18s\n",
      "epoch 16 | loss: 0.36554 | train_accuracy: 0.69051 | valid_accuracy: 0.68115 |  0:01:23s\n",
      "epoch 17 | loss: 0.35406 | train_accuracy: 0.73585 | valid_accuracy: 0.7299  |  0:01:27s\n",
      "epoch 18 | loss: 0.36092 | train_accuracy: 0.62803 | valid_accuracy: 0.62496 |  0:01:32s\n",
      "epoch 19 | loss: 0.35736 | train_accuracy: 0.71552 | valid_accuracy: 0.70972 |  0:01:37s\n",
      "epoch 20 | loss: 0.34812 | train_accuracy: 0.73182 | valid_accuracy: 0.73114 |  0:01:42s\n",
      "epoch 21 | loss: 0.34251 | train_accuracy: 0.57441 | valid_accuracy: 0.57218 |  0:01:47s\n",
      "epoch 22 | loss: 0.3476  | train_accuracy: 0.77846 | valid_accuracy: 0.77585 |  0:01:52s\n",
      "epoch 23 | loss: 0.34329 | train_accuracy: 0.80385 | valid_accuracy: 0.7982  |  0:01:57s\n",
      "epoch 24 | loss: 0.34338 | train_accuracy: 0.76458 | valid_accuracy: 0.76001 |  0:02:01s\n",
      "epoch 25 | loss: 0.34102 | train_accuracy: 0.71905 | valid_accuracy: 0.71437 |  0:02:06s\n",
      "epoch 26 | loss: 0.32921 | train_accuracy: 0.78674 | valid_accuracy: 0.78174 |  0:02:11s\n",
      "epoch 27 | loss: 0.33638 | train_accuracy: 0.7892  | valid_accuracy: 0.78423 |  0:02:16s\n",
      "epoch 28 | loss: 0.34067 | train_accuracy: 0.80278 | valid_accuracy: 0.79696 |  0:02:20s\n",
      "epoch 29 | loss: 0.33565 | train_accuracy: 0.76945 | valid_accuracy: 0.76374 |  0:02:25s\n",
      "epoch 30 | loss: 0.33169 | train_accuracy: 0.81344 | valid_accuracy: 0.80969 |  0:02:30s\n",
      "epoch 31 | loss: 0.33357 | train_accuracy: 0.79902 | valid_accuracy: 0.79323 |  0:02:35s\n",
      "epoch 32 | loss: 0.33203 | train_accuracy: 0.75042 | valid_accuracy: 0.74697 |  0:02:39s\n",
      "epoch 33 | loss: 0.33418 | train_accuracy: 0.81582 | valid_accuracy: 0.81093 |  0:02:44s\n",
      "epoch 34 | loss: 0.32619 | train_accuracy: 0.8149  | valid_accuracy: 0.80969 |  0:02:49s\n",
      "epoch 35 | loss: 0.32606 | train_accuracy: 0.80911 | valid_accuracy: 0.80286 |  0:02:54s\n",
      "epoch 36 | loss: 0.32833 | train_accuracy: 0.82813 | valid_accuracy: 0.82148 |  0:02:59s\n",
      "epoch 37 | loss: 0.32356 | train_accuracy: 0.82966 | valid_accuracy: 0.82273 |  0:03:04s\n",
      "epoch 38 | loss: 0.32804 | train_accuracy: 0.84186 | valid_accuracy: 0.83545 |  0:03:09s\n",
      "epoch 39 | loss: 0.32524 | train_accuracy: 0.76795 | valid_accuracy: 0.76094 |  0:03:14s\n",
      "epoch 40 | loss: 0.32489 | train_accuracy: 0.79499 | valid_accuracy: 0.79168 |  0:03:19s\n",
      "epoch 41 | loss: 0.32581 | train_accuracy: 0.79062 | valid_accuracy: 0.78795 |  0:03:24s\n",
      "epoch 42 | loss: 0.32228 | train_accuracy: 0.82821 | valid_accuracy: 0.82645 |  0:03:28s\n",
      "epoch 43 | loss: 0.32585 | train_accuracy: 0.8093  | valid_accuracy: 0.80596 |  0:03:33s\n",
      "epoch 44 | loss: 0.32186 | train_accuracy: 0.8587  | valid_accuracy: 0.85005 |  0:03:38s\n",
      "epoch 45 | loss: 0.31614 | train_accuracy: 0.86526 | valid_accuracy: 0.85408 |  0:03:43s\n",
      "epoch 46 | loss: 0.32759 | train_accuracy: 0.84336 | valid_accuracy: 0.83825 |  0:03:49s\n",
      "epoch 47 | loss: 0.32264 | train_accuracy: 0.85064 | valid_accuracy: 0.83825 |  0:03:53s\n",
      "epoch 48 | loss: 0.3197  | train_accuracy: 0.84984 | valid_accuracy: 0.83514 |  0:03:58s\n",
      "epoch 49 | loss: 0.32262 | train_accuracy: 0.8279  | valid_accuracy: 0.83018 |  0:04:03s\n",
      "epoch 50 | loss: 0.32624 | train_accuracy: 0.835   | valid_accuracy: 0.83049 |  0:04:08s\n",
      "epoch 51 | loss: 0.32078 | train_accuracy: 0.85774 | valid_accuracy: 0.84943 |  0:04:12s\n",
      "epoch 52 | loss: 0.31528 | train_accuracy: 0.83289 | valid_accuracy: 0.828   |  0:04:17s\n",
      "epoch 53 | loss: 0.31837 | train_accuracy: 0.84969 | valid_accuracy: 0.84353 |  0:04:22s\n",
      "epoch 54 | loss: 0.32181 | train_accuracy: 0.85356 | valid_accuracy: 0.84384 |  0:04:27s\n",
      "epoch 55 | loss: 0.31486 | train_accuracy: 0.83492 | valid_accuracy: 0.82366 |  0:04:32s\n",
      "epoch 56 | loss: 0.32398 | train_accuracy: 0.82583 | valid_accuracy: 0.81993 |  0:04:36s\n",
      "epoch 57 | loss: 0.31837 | train_accuracy: 0.85682 | valid_accuracy: 0.84818 |  0:04:41s\n",
      "epoch 58 | loss: 0.31448 | train_accuracy: 0.8513  | valid_accuracy: 0.84166 |  0:04:46s\n",
      "epoch 59 | loss: 0.31388 | train_accuracy: 0.83235 | valid_accuracy: 0.83111 |  0:04:51s\n",
      "epoch 60 | loss: 0.3198  | train_accuracy: 0.83342 | valid_accuracy: 0.82273 |  0:04:56s\n"
     ]
    },
    {
     "name": "stdout",
     "output_type": "stream",
     "text": [
      "epoch 61 | loss: 0.32008 | train_accuracy: 0.80535 | valid_accuracy: 0.79727 |  0:05:01s\n",
      "epoch 62 | loss: 0.3237  | train_accuracy: 0.81543 | valid_accuracy: 0.7982  |  0:05:05s\n",
      "epoch 63 | loss: 0.32193 | train_accuracy: 0.85716 | valid_accuracy: 0.8457  |  0:05:10s\n",
      "epoch 64 | loss: 0.31494 | train_accuracy: 0.87216 | valid_accuracy: 0.8665  |  0:05:15s\n",
      "epoch 65 | loss: 0.31421 | train_accuracy: 0.86533 | valid_accuracy: 0.85005 |  0:05:20s\n",
      "epoch 66 | loss: 0.31339 | train_accuracy: 0.85517 | valid_accuracy: 0.84197 |  0:05:25s\n",
      "epoch 67 | loss: 0.31196 | train_accuracy: 0.84531 | valid_accuracy: 0.83452 |  0:05:30s\n",
      "epoch 68 | loss: 0.31255 | train_accuracy: 0.83258 | valid_accuracy: 0.828   |  0:05:34s\n",
      "epoch 69 | loss: 0.31028 | train_accuracy: 0.84669 | valid_accuracy: 0.83142 |  0:05:39s\n",
      "epoch 70 | loss: 0.31403 | train_accuracy: 0.85379 | valid_accuracy: 0.84104 |  0:05:44s\n",
      "epoch 71 | loss: 0.31249 | train_accuracy: 0.82882 | valid_accuracy: 0.81993 |  0:05:49s\n",
      "epoch 72 | loss: 0.3138  | train_accuracy: 0.83507 | valid_accuracy: 0.82055 |  0:05:53s\n",
      "epoch 73 | loss: 0.30798 | train_accuracy: 0.85233 | valid_accuracy: 0.83918 |  0:05:58s\n",
      "epoch 74 | loss: 0.30989 | train_accuracy: 0.8549  | valid_accuracy: 0.83887 |  0:06:03s\n",
      "epoch 75 | loss: 0.31339 | train_accuracy: 0.86253 | valid_accuracy: 0.84849 |  0:06:08s\n",
      "epoch 76 | loss: 0.31343 | train_accuracy: 0.83381 | valid_accuracy: 0.82242 |  0:06:13s\n",
      "epoch 77 | loss: 0.31394 | train_accuracy: 0.83461 | valid_accuracy: 0.82428 |  0:06:17s\n",
      "epoch 78 | loss: 0.31061 | train_accuracy: 0.85356 | valid_accuracy: 0.84446 |  0:06:22s\n",
      "epoch 79 | loss: 0.31452 | train_accuracy: 0.86031 | valid_accuracy: 0.85036 |  0:06:27s\n",
      "epoch 80 | loss: 0.31041 | train_accuracy: 0.85191 | valid_accuracy: 0.84694 |  0:06:32s\n",
      "epoch 81 | loss: 0.31578 | train_accuracy: 0.83645 | valid_accuracy: 0.82521 |  0:06:36s\n",
      "epoch 82 | loss: 0.30973 | train_accuracy: 0.8353  | valid_accuracy: 0.82242 |  0:06:41s\n",
      "epoch 83 | loss: 0.3074  | train_accuracy: 0.86004 | valid_accuracy: 0.84415 |  0:06:46s\n",
      "epoch 84 | loss: 0.30976 | train_accuracy: 0.84432 | valid_accuracy: 0.83204 |  0:06:51s\n",
      "\n",
      "Early stopping occurred at epoch 84 with best_epoch = 64 and best_valid_accuracy = 0.8665\n",
      "Best weights from best epoch are automatically used!\n",
      "acc: 0.8631772268135904 7\n",
      "auc: 0.9178906701144198 7\n",
      "Device used : cpu\n",
      "epoch 0  | loss: 0.69827 | train_accuracy: 0.52317 | valid_accuracy: 0.52468 |  0:00:04s\n",
      "epoch 1  | loss: 0.55843 | train_accuracy: 0.69297 | valid_accuracy: 0.69078 |  0:00:09s\n",
      "epoch 2  | loss: 0.52542 | train_accuracy: 0.68698 | valid_accuracy: 0.69326 |  0:00:14s\n",
      "epoch 3  | loss: 0.49955 | train_accuracy: 0.67383 | valid_accuracy: 0.68209 |  0:00:19s\n",
      "epoch 4  | loss: 0.47514 | train_accuracy: 0.72139 | valid_accuracy: 0.73083 |  0:00:24s\n",
      "epoch 5  | loss: 0.4646  | train_accuracy: 0.73531 | valid_accuracy: 0.74325 |  0:00:28s\n",
      "epoch 6  | loss: 0.45043 | train_accuracy: 0.73734 | valid_accuracy: 0.74666 |  0:00:33s\n",
      "epoch 7  | loss: 0.44322 | train_accuracy: 0.73884 | valid_accuracy: 0.74666 |  0:00:38s\n",
      "epoch 8  | loss: 0.43489 | train_accuracy: 0.74893 | valid_accuracy: 0.75536 |  0:00:42s\n",
      "epoch 9  | loss: 0.42053 | train_accuracy: 0.74306 | valid_accuracy: 0.75473 |  0:00:47s\n",
      "epoch 10 | loss: 0.41302 | train_accuracy: 0.74985 | valid_accuracy: 0.76188 |  0:00:52s\n",
      "epoch 11 | loss: 0.40336 | train_accuracy: 0.72603 | valid_accuracy: 0.73642 |  0:00:57s\n",
      "epoch 12 | loss: 0.3968  | train_accuracy: 0.7788  | valid_accuracy: 0.78143 |  0:01:02s\n",
      "epoch 13 | loss: 0.3927  | train_accuracy: 0.73573 | valid_accuracy: 0.73486 |  0:01:06s\n",
      "epoch 14 | loss: 0.3861  | train_accuracy: 0.75974 | valid_accuracy: 0.76374 |  0:01:11s\n",
      "epoch 15 | loss: 0.38253 | train_accuracy: 0.804   | valid_accuracy: 0.80534 |  0:01:16s\n",
      "epoch 16 | loss: 0.37476 | train_accuracy: 0.8078  | valid_accuracy: 0.81062 |  0:01:21s\n",
      "epoch 17 | loss: 0.36613 | train_accuracy: 0.80592 | valid_accuracy: 0.80782 |  0:01:25s\n",
      "epoch 18 | loss: 0.3733  | train_accuracy: 0.79453 | valid_accuracy: 0.79603 |  0:01:30s\n",
      "epoch 19 | loss: 0.3729  | train_accuracy: 0.82763 | valid_accuracy: 0.81962 |  0:01:35s\n",
      "epoch 20 | loss: 0.36196 | train_accuracy: 0.79288 | valid_accuracy: 0.7864  |  0:01:40s\n",
      "epoch 21 | loss: 0.35918 | train_accuracy: 0.77547 | valid_accuracy: 0.76808 |  0:01:44s\n",
      "epoch 22 | loss: 0.35586 | train_accuracy: 0.81724 | valid_accuracy: 0.81124 |  0:01:49s\n",
      "epoch 23 | loss: 0.35283 | train_accuracy: 0.79104 | valid_accuracy: 0.78795 |  0:01:54s\n",
      "epoch 24 | loss: 0.35591 | train_accuracy: 0.77681 | valid_accuracy: 0.77274 |  0:01:59s\n",
      "epoch 25 | loss: 0.35044 | train_accuracy: 0.77228 | valid_accuracy: 0.76219 |  0:02:03s\n",
      "epoch 26 | loss: 0.33804 | train_accuracy: 0.66144 | valid_accuracy: 0.65787 |  0:02:08s\n",
      "epoch 27 | loss: 0.34573 | train_accuracy: 0.65342 | valid_accuracy: 0.65383 |  0:02:13s\n",
      "epoch 28 | loss: 0.343   | train_accuracy: 0.71809 | valid_accuracy: 0.71748 |  0:02:18s\n",
      "epoch 29 | loss: 0.34004 | train_accuracy: 0.68756 | valid_accuracy: 0.68395 |  0:02:23s\n",
      "epoch 30 | loss: 0.33735 | train_accuracy: 0.71874 | valid_accuracy: 0.72058 |  0:02:27s\n",
      "epoch 31 | loss: 0.33294 | train_accuracy: 0.7678  | valid_accuracy: 0.76653 |  0:02:32s\n",
      "epoch 32 | loss: 0.33498 | train_accuracy: 0.7597  | valid_accuracy: 0.76156 |  0:02:37s\n",
      "epoch 33 | loss: 0.33869 | train_accuracy: 0.78951 | valid_accuracy: 0.78361 |  0:02:42s\n",
      "epoch 34 | loss: 0.33205 | train_accuracy: 0.74172 | valid_accuracy: 0.74325 |  0:02:46s\n",
      "epoch 35 | loss: 0.32847 | train_accuracy: 0.69289 | valid_accuracy: 0.68767 |  0:02:51s\n",
      "epoch 36 | loss: 0.33006 | train_accuracy: 0.78502 | valid_accuracy: 0.77305 |  0:02:56s\n",
      "epoch 37 | loss: 0.32462 | train_accuracy: 0.78705 | valid_accuracy: 0.78857 |  0:03:01s\n",
      "epoch 38 | loss: 0.32899 | train_accuracy: 0.79027 | valid_accuracy: 0.78423 |  0:03:06s\n",
      "epoch 39 | loss: 0.32691 | train_accuracy: 0.80845 | valid_accuracy: 0.80441 |  0:03:10s\n",
      "\n",
      "Early stopping occurred at epoch 39 with best_epoch = 19 and best_valid_accuracy = 0.81962\n",
      "Best weights from best epoch are automatically used!\n",
      "acc: 0.8273645546372819 8\n",
      "auc: 0.9154259695527971 8\n",
      "Device used : cpu\n",
      "epoch 0  | loss: 0.68511 | train_accuracy: 0.71678 | valid_accuracy: 0.72276 |  0:00:04s\n",
      "epoch 1  | loss: 0.57065 | train_accuracy: 0.73075 | valid_accuracy: 0.73331 |  0:00:09s\n",
      "epoch 2  | loss: 0.50367 | train_accuracy: 0.75694 | valid_accuracy: 0.77429 |  0:00:14s\n",
      "epoch 3  | loss: 0.47899 | train_accuracy: 0.736   | valid_accuracy: 0.7479  |  0:00:19s\n",
      "epoch 4  | loss: 0.45814 | train_accuracy: 0.71537 | valid_accuracy: 0.72772 |  0:00:24s\n",
      "epoch 5  | loss: 0.44806 | train_accuracy: 0.73922 | valid_accuracy: 0.75287 |  0:00:28s\n",
      "epoch 6  | loss: 0.42827 | train_accuracy: 0.74843 | valid_accuracy: 0.75163 |  0:00:33s\n",
      "epoch 7  | loss: 0.41923 | train_accuracy: 0.76734 | valid_accuracy: 0.77491 |  0:00:38s\n",
      "epoch 8  | loss: 0.40485 | train_accuracy: 0.74628 | valid_accuracy: 0.74853 |  0:00:43s\n",
      "epoch 9  | loss: 0.38747 | train_accuracy: 0.70229 | valid_accuracy: 0.71003 |  0:00:48s\n",
      "epoch 10 | loss: 0.3888  | train_accuracy: 0.7238  | valid_accuracy: 0.72214 |  0:00:52s\n",
      "epoch 11 | loss: 0.37143 | train_accuracy: 0.67732 | valid_accuracy: 0.67526 |  0:00:57s\n",
      "epoch 12 | loss: 0.3697  | train_accuracy: 0.77317 | valid_accuracy: 0.77491 |  0:01:02s\n",
      "epoch 13 | loss: 0.35958 | train_accuracy: 0.62918 | valid_accuracy: 0.62993 |  0:01:07s\n",
      "epoch 14 | loss: 0.35954 | train_accuracy: 0.67222 | valid_accuracy: 0.67339 |  0:01:11s\n",
      "epoch 15 | loss: 0.35876 | train_accuracy: 0.69266 | valid_accuracy: 0.69295 |  0:01:16s\n",
      "epoch 16 | loss: 0.35398 | train_accuracy: 0.72016 | valid_accuracy: 0.71562 |  0:01:21s\n",
      "epoch 17 | loss: 0.34499 | train_accuracy: 0.74244 | valid_accuracy: 0.73455 |  0:01:26s\n",
      "epoch 18 | loss: 0.35733 | train_accuracy: 0.72515 | valid_accuracy: 0.72307 |  0:01:31s\n",
      "epoch 19 | loss: 0.35216 | train_accuracy: 0.72752 | valid_accuracy: 0.7181  |  0:01:35s\n",
      "epoch 20 | loss: 0.3431  | train_accuracy: 0.71023 | valid_accuracy: 0.7091  |  0:01:40s\n",
      "epoch 21 | loss: 0.33884 | train_accuracy: 0.74835 | valid_accuracy: 0.7417  |  0:01:45s\n",
      "epoch 22 | loss: 0.33844 | train_accuracy: 0.76879 | valid_accuracy: 0.76808 |  0:01:50s\n",
      "epoch 23 | loss: 0.34184 | train_accuracy: 0.79695 | valid_accuracy: 0.7982  |  0:01:54s\n"
     ]
    },
    {
     "name": "stdout",
     "output_type": "stream",
     "text": [
      "epoch 24 | loss: 0.34284 | train_accuracy: 0.75299 | valid_accuracy: 0.7538  |  0:01:59s\n",
      "epoch 25 | loss: 0.3366  | train_accuracy: 0.81873 | valid_accuracy: 0.81341 |  0:02:04s\n",
      "epoch 26 | loss: 0.32942 | train_accuracy: 0.7729  | valid_accuracy: 0.76529 |  0:02:09s\n",
      "epoch 27 | loss: 0.33525 | train_accuracy: 0.76131 | valid_accuracy: 0.76063 |  0:02:14s\n",
      "epoch 28 | loss: 0.334   | train_accuracy: 0.7253  | valid_accuracy: 0.72245 |  0:02:18s\n",
      "epoch 29 | loss: 0.33382 | train_accuracy: 0.77911 | valid_accuracy: 0.77398 |  0:02:23s\n",
      "epoch 30 | loss: 0.33002 | train_accuracy: 0.77159 | valid_accuracy: 0.76808 |  0:02:28s\n",
      "epoch 31 | loss: 0.32853 | train_accuracy: 0.79465 | valid_accuracy: 0.78733 |  0:02:33s\n",
      "epoch 32 | loss: 0.32809 | train_accuracy: 0.75802 | valid_accuracy: 0.74946 |  0:02:37s\n",
      "epoch 33 | loss: 0.33163 | train_accuracy: 0.76814 | valid_accuracy: 0.76591 |  0:02:42s\n",
      "epoch 34 | loss: 0.32584 | train_accuracy: 0.80535 | valid_accuracy: 0.80068 |  0:02:47s\n",
      "epoch 35 | loss: 0.32465 | train_accuracy: 0.80163 | valid_accuracy: 0.79106 |  0:02:52s\n",
      "epoch 36 | loss: 0.32426 | train_accuracy: 0.81056 | valid_accuracy: 0.80441 |  0:02:57s\n",
      "epoch 37 | loss: 0.32105 | train_accuracy: 0.83055 | valid_accuracy: 0.82397 |  0:03:01s\n",
      "epoch 38 | loss: 0.32623 | train_accuracy: 0.83983 | valid_accuracy: 0.83359 |  0:03:06s\n",
      "epoch 39 | loss: 0.32591 | train_accuracy: 0.82433 | valid_accuracy: 0.81496 |  0:03:11s\n",
      "epoch 40 | loss: 0.32095 | train_accuracy: 0.83565 | valid_accuracy: 0.82769 |  0:03:16s\n",
      "epoch 41 | loss: 0.32477 | train_accuracy: 0.84175 | valid_accuracy: 0.83142 |  0:03:21s\n",
      "epoch 42 | loss: 0.32173 | train_accuracy: 0.79982 | valid_accuracy: 0.79913 |  0:03:25s\n",
      "epoch 43 | loss: 0.32686 | train_accuracy: 0.85789 | valid_accuracy: 0.85284 |  0:03:30s\n",
      "epoch 44 | loss: 0.32066 | train_accuracy: 0.85578 | valid_accuracy: 0.8457  |  0:03:35s\n",
      "epoch 45 | loss: 0.31724 | train_accuracy: 0.86675 | valid_accuracy: 0.86309 |  0:03:40s\n",
      "epoch 46 | loss: 0.32684 | train_accuracy: 0.82663 | valid_accuracy: 0.81745 |  0:03:44s\n",
      "epoch 47 | loss: 0.32193 | train_accuracy: 0.83599 | valid_accuracy: 0.82242 |  0:03:49s\n",
      "epoch 48 | loss: 0.31987 | train_accuracy: 0.81459 | valid_accuracy: 0.80224 |  0:03:54s\n",
      "epoch 49 | loss: 0.32702 | train_accuracy: 0.81075 | valid_accuracy: 0.80317 |  0:03:59s\n",
      "epoch 50 | loss: 0.3247  | train_accuracy: 0.82008 | valid_accuracy: 0.8072  |  0:04:04s\n",
      "epoch 51 | loss: 0.31952 | train_accuracy: 0.8251  | valid_accuracy: 0.82148 |  0:04:08s\n",
      "epoch 52 | loss: 0.32007 | train_accuracy: 0.84735 | valid_accuracy: 0.84011 |  0:04:13s\n",
      "epoch 53 | loss: 0.32011 | train_accuracy: 0.85805 | valid_accuracy: 0.85098 |  0:04:18s\n",
      "epoch 54 | loss: 0.31872 | train_accuracy: 0.86085 | valid_accuracy: 0.84974 |  0:04:23s\n",
      "epoch 55 | loss: 0.31533 | train_accuracy: 0.81981 | valid_accuracy: 0.80627 |  0:04:28s\n",
      "epoch 56 | loss: 0.32082 | train_accuracy: 0.82771 | valid_accuracy: 0.82179 |  0:04:32s\n",
      "epoch 57 | loss: 0.31653 | train_accuracy: 0.81681 | valid_accuracy: 0.80255 |  0:04:37s\n",
      "epoch 58 | loss: 0.3148  | train_accuracy: 0.80078 | valid_accuracy: 0.79137 |  0:04:42s\n",
      "epoch 59 | loss: 0.31502 | train_accuracy: 0.81114 | valid_accuracy: 0.80068 |  0:04:47s\n",
      "epoch 60 | loss: 0.32089 | train_accuracy: 0.84167 | valid_accuracy: 0.83328 |  0:04:52s\n",
      "epoch 61 | loss: 0.31966 | train_accuracy: 0.84251 | valid_accuracy: 0.83173 |  0:04:56s\n",
      "epoch 62 | loss: 0.32256 | train_accuracy: 0.82341 | valid_accuracy: 0.80813 |  0:05:01s\n",
      "epoch 63 | loss: 0.31894 | train_accuracy: 0.80374 | valid_accuracy: 0.79603 |  0:05:06s\n",
      "epoch 64 | loss: 0.31522 | train_accuracy: 0.85655 | valid_accuracy: 0.84446 |  0:05:11s\n",
      "epoch 65 | loss: 0.31233 | train_accuracy: 0.83534 | valid_accuracy: 0.82055 |  0:05:15s\n",
      "\n",
      "Early stopping occurred at epoch 65 with best_epoch = 45 and best_valid_accuracy = 0.86309\n",
      "Best weights from best epoch are automatically used!\n",
      "acc: 0.8582797673706765 9\n",
      "auc: 0.9201550466826449 9\n",
      "Device used : cpu\n",
      "epoch 0  | loss: 0.70331 | train_accuracy: 0.62841 | valid_accuracy: 0.63583 |  0:00:04s\n",
      "epoch 1  | loss: 0.58257 | train_accuracy: 0.57518 | valid_accuracy: 0.56815 |  0:00:09s\n",
      "epoch 2  | loss: 0.52513 | train_accuracy: 0.72396 | valid_accuracy: 0.73611 |  0:00:14s\n",
      "epoch 3  | loss: 0.49935 | train_accuracy: 0.67329 | valid_accuracy: 0.68674 |  0:00:19s\n",
      "epoch 4  | loss: 0.48052 | train_accuracy: 0.7205  | valid_accuracy: 0.72772 |  0:00:23s\n",
      "epoch 5  | loss: 0.46933 | train_accuracy: 0.72411 | valid_accuracy: 0.73518 |  0:00:28s\n",
      "epoch 6  | loss: 0.4515  | train_accuracy: 0.75384 | valid_accuracy: 0.75908 |  0:00:33s\n",
      "epoch 7  | loss: 0.44189 | train_accuracy: 0.75027 | valid_accuracy: 0.75194 |  0:00:38s\n",
      "epoch 8  | loss: 0.43376 | train_accuracy: 0.75721 | valid_accuracy: 0.75505 |  0:00:43s\n",
      "epoch 9  | loss: 0.41566 | train_accuracy: 0.78379 | valid_accuracy: 0.78764 |  0:00:48s\n",
      "epoch 10 | loss: 0.40977 | train_accuracy: 0.77965 | valid_accuracy: 0.77491 |  0:00:52s\n",
      "epoch 11 | loss: 0.3961  | train_accuracy: 0.818   | valid_accuracy: 0.82055 |  0:00:57s\n",
      "epoch 12 | loss: 0.3893  | train_accuracy: 0.79008 | valid_accuracy: 0.78609 |  0:01:02s\n",
      "epoch 13 | loss: 0.38197 | train_accuracy: 0.7696  | valid_accuracy: 0.77491 |  0:01:07s\n",
      "epoch 14 | loss: 0.37573 | train_accuracy: 0.76377 | valid_accuracy: 0.76436 |  0:01:11s\n",
      "epoch 15 | loss: 0.37177 | train_accuracy: 0.78778 | valid_accuracy: 0.78702 |  0:01:16s\n",
      "epoch 16 | loss: 0.36801 | train_accuracy: 0.77286 | valid_accuracy: 0.77709 |  0:01:21s\n",
      "epoch 17 | loss: 0.35864 | train_accuracy: 0.7291  | valid_accuracy: 0.73176 |  0:01:26s\n",
      "epoch 18 | loss: 0.36407 | train_accuracy: 0.75334 | valid_accuracy: 0.75629 |  0:01:31s\n",
      "epoch 19 | loss: 0.3617  | train_accuracy: 0.67571 | valid_accuracy: 0.66781 |  0:01:36s\n",
      "epoch 20 | loss: 0.35216 | train_accuracy: 0.69143 | valid_accuracy: 0.68892 |  0:01:40s\n",
      "epoch 21 | loss: 0.3484  | train_accuracy: 0.72952 | valid_accuracy: 0.7271  |  0:01:45s\n",
      "epoch 22 | loss: 0.34802 | train_accuracy: 0.72703 | valid_accuracy: 0.72462 |  0:01:50s\n",
      "epoch 23 | loss: 0.34503 | train_accuracy: 0.66136 | valid_accuracy: 0.65632 |  0:01:55s\n",
      "epoch 24 | loss: 0.34759 | train_accuracy: 0.73566 | valid_accuracy: 0.74107 |  0:02:00s\n",
      "epoch 25 | loss: 0.34364 | train_accuracy: 0.70681 | valid_accuracy: 0.70506 |  0:02:04s\n",
      "epoch 26 | loss: 0.33046 | train_accuracy: 0.71744 | valid_accuracy: 0.71934 |  0:02:09s\n",
      "epoch 27 | loss: 0.33755 | train_accuracy: 0.65235 | valid_accuracy: 0.64856 |  0:02:14s\n",
      "epoch 28 | loss: 0.34227 | train_accuracy: 0.69427 | valid_accuracy: 0.69078 |  0:02:19s\n",
      "epoch 29 | loss: 0.33508 | train_accuracy: 0.72219 | valid_accuracy: 0.72245 |  0:02:24s\n",
      "epoch 30 | loss: 0.33181 | train_accuracy: 0.75341 | valid_accuracy: 0.7479  |  0:02:29s\n",
      "epoch 31 | loss: 0.3299  | train_accuracy: 0.77554 | valid_accuracy: 0.77554 |  0:02:33s\n",
      "\n",
      "Early stopping occurred at epoch 31 with best_epoch = 11 and best_valid_accuracy = 0.82055\n",
      "Best weights from best epoch are automatically used!\n",
      "acc: 0.8218549127640037 10\n",
      "auc: 0.9026778003199052 10\n",
      "Device used : cpu\n",
      "epoch 0  | loss: 0.72009 | train_accuracy: 0.44358 | valid_accuracy: 0.44334 |  0:00:04s\n",
      "epoch 1  | loss: 0.59699 | train_accuracy: 0.61207 | valid_accuracy: 0.61223 |  0:00:09s\n",
      "epoch 2  | loss: 0.53395 | train_accuracy: 0.71732 | valid_accuracy: 0.71748 |  0:00:14s\n",
      "epoch 3  | loss: 0.4887  | train_accuracy: 0.7294  | valid_accuracy: 0.74014 |  0:00:19s\n",
      "epoch 4  | loss: 0.46069 | train_accuracy: 0.74912 | valid_accuracy: 0.75318 |  0:00:24s\n",
      "epoch 5  | loss: 0.44743 | train_accuracy: 0.78609 | valid_accuracy: 0.78609 |  0:00:28s\n",
      "epoch 6  | loss: 0.43289 | train_accuracy: 0.7757  | valid_accuracy: 0.78578 |  0:00:33s\n",
      "epoch 7  | loss: 0.42423 | train_accuracy: 0.78145 | valid_accuracy: 0.77988 |  0:00:38s\n",
      "epoch 8  | loss: 0.41355 | train_accuracy: 0.77927 | valid_accuracy: 0.78485 |  0:00:43s\n",
      "epoch 9  | loss: 0.40536 | train_accuracy: 0.79591 | valid_accuracy: 0.79354 |  0:00:48s\n",
      "epoch 10 | loss: 0.40674 | train_accuracy: 0.78717 | valid_accuracy: 0.7892  |  0:00:53s\n",
      "epoch 11 | loss: 0.39555 | train_accuracy: 0.79699 | valid_accuracy: 0.80534 |  0:00:59s\n",
      "epoch 12 | loss: 0.39441 | train_accuracy: 0.70593 | valid_accuracy: 0.71437 |  0:01:04s\n",
      "epoch 13 | loss: 0.38663 | train_accuracy: 0.71464 | valid_accuracy: 0.71717 |  0:01:10s\n"
     ]
    },
    {
     "name": "stdout",
     "output_type": "stream",
     "text": [
      "epoch 14 | loss: 0.38585 | train_accuracy: 0.62734 | valid_accuracy: 0.62651 |  0:01:15s\n",
      "epoch 15 | loss: 0.38779 | train_accuracy: 0.70382 | valid_accuracy: 0.7091  |  0:01:21s\n",
      "epoch 16 | loss: 0.3828  | train_accuracy: 0.61752 | valid_accuracy: 0.61813 |  0:01:26s\n",
      "epoch 17 | loss: 0.37132 | train_accuracy: 0.66301 | valid_accuracy: 0.66718 |  0:01:31s\n",
      "epoch 18 | loss: 0.37649 | train_accuracy: 0.67275 | valid_accuracy: 0.67184 |  0:01:36s\n",
      "epoch 19 | loss: 0.37527 | train_accuracy: 0.555   | valid_accuracy: 0.55262 |  0:01:41s\n",
      "epoch 20 | loss: 0.36579 | train_accuracy: 0.63098 | valid_accuracy: 0.63148 |  0:01:47s\n",
      "epoch 21 | loss: 0.361   | train_accuracy: 0.6255  | valid_accuracy: 0.62589 |  0:01:52s\n",
      "epoch 22 | loss: 0.35702 | train_accuracy: 0.62792 | valid_accuracy: 0.62713 |  0:01:57s\n",
      "epoch 23 | loss: 0.35577 | train_accuracy: 0.60858 | valid_accuracy: 0.60385 |  0:02:02s\n",
      "epoch 24 | loss: 0.35963 | train_accuracy: 0.68138 | valid_accuracy: 0.67774 |  0:02:07s\n",
      "epoch 25 | loss: 0.35534 | train_accuracy: 0.71061 | valid_accuracy: 0.70785 |  0:02:12s\n",
      "epoch 26 | loss: 0.3408  | train_accuracy: 0.78651 | valid_accuracy: 0.78143 |  0:02:17s\n",
      "epoch 27 | loss: 0.34445 | train_accuracy: 0.73282 | valid_accuracy: 0.72772 |  0:02:22s\n",
      "epoch 28 | loss: 0.34799 | train_accuracy: 0.67248 | valid_accuracy: 0.66439 |  0:02:26s\n",
      "epoch 29 | loss: 0.3426  | train_accuracy: 0.7533  | valid_accuracy: 0.75349 |  0:02:31s\n",
      "epoch 30 | loss: 0.33985 | train_accuracy: 0.79814 | valid_accuracy: 0.79882 |  0:02:36s\n",
      "epoch 31 | loss: 0.33695 | train_accuracy: 0.75088 | valid_accuracy: 0.74915 |  0:02:41s\n",
      "\n",
      "Early stopping occurred at epoch 31 with best_epoch = 11 and best_valid_accuracy = 0.80534\n",
      "Best weights from best epoch are automatically used!\n",
      "acc: 0.8050198959289868 11\n",
      "auc: 0.8977800830935748 11\n",
      "Device used : cpu\n",
      "epoch 0  | loss: 0.73198 | train_accuracy: 0.69469 | valid_accuracy: 0.69388 |  0:00:04s\n",
      "epoch 1  | loss: 0.55245 | train_accuracy: 0.61468 | valid_accuracy: 0.62061 |  0:00:09s\n",
      "epoch 2  | loss: 0.50234 | train_accuracy: 0.60444 | valid_accuracy: 0.61534 |  0:00:14s\n",
      "epoch 3  | loss: 0.4731  | train_accuracy: 0.63194 | valid_accuracy: 0.64359 |  0:00:19s\n",
      "epoch 4  | loss: 0.45378 | train_accuracy: 0.7098  | valid_accuracy: 0.71406 |  0:00:24s\n",
      "epoch 5  | loss: 0.44539 | train_accuracy: 0.72921 | valid_accuracy: 0.74666 |  0:00:29s\n",
      "epoch 6  | loss: 0.43244 | train_accuracy: 0.71571 | valid_accuracy: 0.72245 |  0:00:34s\n",
      "epoch 7  | loss: 0.42636 | train_accuracy: 0.75272 | valid_accuracy: 0.75442 |  0:00:39s\n",
      "epoch 8  | loss: 0.42362 | train_accuracy: 0.75169 | valid_accuracy: 0.76001 |  0:00:43s\n",
      "epoch 9  | loss: 0.40127 | train_accuracy: 0.79741 | valid_accuracy: 0.79758 |  0:00:48s\n",
      "epoch 10 | loss: 0.40508 | train_accuracy: 0.75675 | valid_accuracy: 0.75349 |  0:00:53s\n",
      "epoch 11 | loss: 0.38917 | train_accuracy: 0.74003 | valid_accuracy: 0.74449 |  0:00:58s\n",
      "epoch 12 | loss: 0.38598 | train_accuracy: 0.59692 | valid_accuracy: 0.59174 |  0:01:03s\n",
      "epoch 13 | loss: 0.37758 | train_accuracy: 0.41324 | valid_accuracy: 0.40391 |  0:01:08s\n",
      "epoch 14 | loss: 0.37481 | train_accuracy: 0.38263 | valid_accuracy: 0.37566 |  0:01:13s\n",
      "epoch 15 | loss: 0.37261 | train_accuracy: 0.40591 | valid_accuracy: 0.39367 |  0:01:17s\n",
      "epoch 16 | loss: 0.36933 | train_accuracy: 0.3513  | valid_accuracy: 0.34399 |  0:01:22s\n",
      "epoch 17 | loss: 0.36231 | train_accuracy: 0.36395 | valid_accuracy: 0.35672 |  0:01:27s\n",
      "epoch 18 | loss: 0.36963 | train_accuracy: 0.3427  | valid_accuracy: 0.3353  |  0:01:32s\n",
      "epoch 19 | loss: 0.36649 | train_accuracy: 0.3633  | valid_accuracy: 0.35424 |  0:01:37s\n",
      "epoch 20 | loss: 0.3597  | train_accuracy: 0.56896 | valid_accuracy: 0.55883 |  0:01:42s\n",
      "epoch 21 | loss: 0.35611 | train_accuracy: 0.64464 | valid_accuracy: 0.63365 |  0:01:47s\n",
      "epoch 22 | loss: 0.35165 | train_accuracy: 0.65384 | valid_accuracy: 0.64514 |  0:01:52s\n",
      "epoch 23 | loss: 0.35215 | train_accuracy: 0.62968 | valid_accuracy: 0.62155 |  0:01:56s\n",
      "epoch 24 | loss: 0.34987 | train_accuracy: 0.63823 | valid_accuracy: 0.63303 |  0:02:01s\n",
      "epoch 25 | loss: 0.34899 | train_accuracy: 0.74248 | valid_accuracy: 0.74728 |  0:02:06s\n",
      "epoch 26 | loss: 0.33524 | train_accuracy: 0.73642 | valid_accuracy: 0.73393 |  0:02:11s\n",
      "epoch 27 | loss: 0.33862 | train_accuracy: 0.77121 | valid_accuracy: 0.76125 |  0:02:16s\n",
      "epoch 28 | loss: 0.34344 | train_accuracy: 0.70044 | valid_accuracy: 0.68892 |  0:02:21s\n",
      "epoch 29 | loss: 0.33569 | train_accuracy: 0.72238 | valid_accuracy: 0.71996 |  0:02:26s\n",
      "\n",
      "Early stopping occurred at epoch 29 with best_epoch = 9 and best_valid_accuracy = 0.79758\n",
      "Best weights from best epoch are automatically used!\n",
      "acc: 0.8004285277012549 12\n",
      "auc: 0.9000112426730988 12\n",
      "Device used : cpu\n",
      "epoch 0  | loss: 0.71929 | train_accuracy: 0.33626 | valid_accuracy: 0.33996 |  0:00:04s\n",
      "epoch 1  | loss: 0.57949 | train_accuracy: 0.70463 | valid_accuracy: 0.70568 |  0:00:09s\n",
      "epoch 2  | loss: 0.52667 | train_accuracy: 0.58281 | valid_accuracy: 0.58677 |  0:00:14s\n",
      "epoch 3  | loss: 0.48704 | train_accuracy: 0.64985 | valid_accuracy: 0.6498  |  0:00:19s\n",
      "epoch 4  | loss: 0.45665 | train_accuracy: 0.68955 | valid_accuracy: 0.69823 |  0:00:24s\n",
      "epoch 5  | loss: 0.4412  | train_accuracy: 0.6413  | valid_accuracy: 0.64017 |  0:00:29s\n",
      "epoch 6  | loss: 0.42364 | train_accuracy: 0.69837 | valid_accuracy: 0.6945  |  0:00:34s\n",
      "epoch 7  | loss: 0.4153  | train_accuracy: 0.71356 | valid_accuracy: 0.71686 |  0:00:39s\n",
      "epoch 8  | loss: 0.40331 | train_accuracy: 0.6772  | valid_accuracy: 0.6855  |  0:00:44s\n",
      "epoch 9  | loss: 0.39309 | train_accuracy: 0.71467 | valid_accuracy: 0.72183 |  0:00:49s\n",
      "epoch 10 | loss: 0.39068 | train_accuracy: 0.71958 | valid_accuracy: 0.71965 |  0:00:54s\n",
      "epoch 11 | loss: 0.38175 | train_accuracy: 0.75012 | valid_accuracy: 0.75349 |  0:00:59s\n",
      "epoch 12 | loss: 0.38411 | train_accuracy: 0.73324 | valid_accuracy: 0.74232 |  0:01:03s\n",
      "epoch 13 | loss: 0.37567 | train_accuracy: 0.76243 | valid_accuracy: 0.76312 |  0:01:08s\n",
      "epoch 14 | loss: 0.3758  | train_accuracy: 0.7174  | valid_accuracy: 0.71655 |  0:01:14s\n",
      "epoch 15 | loss: 0.37388 | train_accuracy: 0.78187 | valid_accuracy: 0.78733 |  0:01:18s\n",
      "epoch 16 | loss: 0.37269 | train_accuracy: 0.73631 | valid_accuracy: 0.7417  |  0:01:23s\n",
      "epoch 17 | loss: 0.36233 | train_accuracy: 0.7905  | valid_accuracy: 0.7892  |  0:01:28s\n",
      "epoch 18 | loss: 0.37142 | train_accuracy: 0.74432 | valid_accuracy: 0.74759 |  0:01:33s\n",
      "epoch 19 | loss: 0.37166 | train_accuracy: 0.77497 | valid_accuracy: 0.77709 |  0:01:38s\n",
      "epoch 20 | loss: 0.36064 | train_accuracy: 0.79649 | valid_accuracy: 0.80099 |  0:01:43s\n",
      "epoch 21 | loss: 0.36221 | train_accuracy: 0.78832 | valid_accuracy: 0.78609 |  0:01:48s\n",
      "epoch 22 | loss: 0.35915 | train_accuracy: 0.80055 | valid_accuracy: 0.80348 |  0:01:53s\n",
      "epoch 23 | loss: 0.3575  | train_accuracy: 0.80976 | valid_accuracy: 0.80969 |  0:01:58s\n",
      "epoch 24 | loss: 0.36093 | train_accuracy: 0.77443 | valid_accuracy: 0.77988 |  0:02:03s\n",
      "epoch 25 | loss: 0.35844 | train_accuracy: 0.78813 | valid_accuracy: 0.78733 |  0:02:07s\n",
      "epoch 26 | loss: 0.34554 | train_accuracy: 0.80627 | valid_accuracy: 0.8013  |  0:02:12s\n",
      "epoch 27 | loss: 0.34849 | train_accuracy: 0.79162 | valid_accuracy: 0.79478 |  0:02:17s\n",
      "epoch 28 | loss: 0.35809 | train_accuracy: 0.80404 | valid_accuracy: 0.80565 |  0:02:22s\n",
      "epoch 29 | loss: 0.35527 | train_accuracy: 0.80454 | valid_accuracy: 0.80379 |  0:02:27s\n",
      "epoch 30 | loss: 0.35683 | train_accuracy: 0.82778 | valid_accuracy: 0.82707 |  0:02:32s\n",
      "epoch 31 | loss: 0.3508  | train_accuracy: 0.83373 | valid_accuracy: 0.82956 |  0:02:37s\n",
      "epoch 32 | loss: 0.34702 | train_accuracy: 0.80381 | valid_accuracy: 0.80192 |  0:02:41s\n",
      "epoch 33 | loss: 0.35054 | train_accuracy: 0.83174 | valid_accuracy: 0.83049 |  0:02:46s\n",
      "epoch 34 | loss: 0.34469 | train_accuracy: 0.8246  | valid_accuracy: 0.81652 |  0:02:51s\n",
      "epoch 35 | loss: 0.33922 | train_accuracy: 0.84412 | valid_accuracy: 0.8367  |  0:02:56s\n",
      "epoch 36 | loss: 0.34152 | train_accuracy: 0.83411 | valid_accuracy: 0.82894 |  0:03:01s\n",
      "epoch 37 | loss: 0.33513 | train_accuracy: 0.85015 | valid_accuracy: 0.84601 |  0:03:06s\n",
      "epoch 38 | loss: 0.34111 | train_accuracy: 0.85007 | valid_accuracy: 0.84601 |  0:03:11s\n",
      "epoch 39 | loss: 0.3409  | train_accuracy: 0.8483  | valid_accuracy: 0.84229 |  0:03:16s\n"
     ]
    },
    {
     "name": "stdout",
     "output_type": "stream",
     "text": [
      "epoch 40 | loss: 0.33528 | train_accuracy: 0.80795 | valid_accuracy: 0.79944 |  0:03:21s\n",
      "epoch 41 | loss: 0.34168 | train_accuracy: 0.81854 | valid_accuracy: 0.81496 |  0:03:26s\n",
      "epoch 42 | loss: 0.3342  | train_accuracy: 0.79484 | valid_accuracy: 0.79292 |  0:03:31s\n",
      "epoch 43 | loss: 0.33876 | train_accuracy: 0.81858 | valid_accuracy: 0.81931 |  0:03:36s\n",
      "epoch 44 | loss: 0.33294 | train_accuracy: 0.82775 | valid_accuracy: 0.82242 |  0:03:41s\n",
      "epoch 45 | loss: 0.32906 | train_accuracy: 0.83641 | valid_accuracy: 0.83142 |  0:03:46s\n",
      "epoch 46 | loss: 0.33936 | train_accuracy: 0.83446 | valid_accuracy: 0.82614 |  0:03:51s\n",
      "epoch 47 | loss: 0.33103 | train_accuracy: 0.81678 | valid_accuracy: 0.81093 |  0:03:56s\n",
      "epoch 48 | loss: 0.33015 | train_accuracy: 0.83595 | valid_accuracy: 0.82583 |  0:04:01s\n",
      "epoch 49 | loss: 0.33323 | train_accuracy: 0.80397 | valid_accuracy: 0.80037 |  0:04:06s\n",
      "epoch 50 | loss: 0.33404 | train_accuracy: 0.8152  | valid_accuracy: 0.81403 |  0:04:11s\n",
      "epoch 51 | loss: 0.32352 | train_accuracy: 0.84508 | valid_accuracy: 0.83639 |  0:04:16s\n",
      "epoch 52 | loss: 0.32533 | train_accuracy: 0.83852 | valid_accuracy: 0.83235 |  0:04:20s\n",
      "epoch 53 | loss: 0.32753 | train_accuracy: 0.83553 | valid_accuracy: 0.82769 |  0:04:25s\n",
      "epoch 54 | loss: 0.32799 | train_accuracy: 0.84811 | valid_accuracy: 0.83763 |  0:04:30s\n",
      "epoch 55 | loss: 0.32249 | train_accuracy: 0.81969 | valid_accuracy: 0.81527 |  0:04:35s\n",
      "epoch 56 | loss: 0.32721 | train_accuracy: 0.81846 | valid_accuracy: 0.80938 |  0:04:40s\n",
      "epoch 57 | loss: 0.32634 | train_accuracy: 0.85578 | valid_accuracy: 0.84974 |  0:04:45s\n",
      "epoch 58 | loss: 0.32559 | train_accuracy: 0.83116 | valid_accuracy: 0.82086 |  0:04:50s\n",
      "epoch 59 | loss: 0.32039 | train_accuracy: 0.82932 | valid_accuracy: 0.81993 |  0:04:54s\n",
      "epoch 60 | loss: 0.32755 | train_accuracy: 0.85494 | valid_accuracy: 0.84322 |  0:04:59s\n",
      "epoch 61 | loss: 0.32903 | train_accuracy: 0.84412 | valid_accuracy: 0.83297 |  0:05:04s\n",
      "epoch 62 | loss: 0.32844 | train_accuracy: 0.84658 | valid_accuracy: 0.83887 |  0:05:09s\n",
      "epoch 63 | loss: 0.32717 | train_accuracy: 0.82763 | valid_accuracy: 0.82179 |  0:05:14s\n",
      "epoch 64 | loss: 0.3225  | train_accuracy: 0.84493 | valid_accuracy: 0.83545 |  0:05:19s\n",
      "epoch 65 | loss: 0.31972 | train_accuracy: 0.84152 | valid_accuracy: 0.828   |  0:05:24s\n",
      "epoch 66 | loss: 0.31871 | train_accuracy: 0.82111 | valid_accuracy: 0.80876 |  0:05:29s\n",
      "epoch 67 | loss: 0.3249  | train_accuracy: 0.83243 | valid_accuracy: 0.82304 |  0:05:33s\n",
      "epoch 68 | loss: 0.32911 | train_accuracy: 0.79499 | valid_accuracy: 0.79013 |  0:05:38s\n",
      "epoch 69 | loss: 0.3223  | train_accuracy: 0.81904 | valid_accuracy: 0.8072  |  0:05:43s\n",
      "epoch 70 | loss: 0.32471 | train_accuracy: 0.81912 | valid_accuracy: 0.80876 |  0:05:48s\n",
      "epoch 71 | loss: 0.32235 | train_accuracy: 0.81908 | valid_accuracy: 0.80782 |  0:05:53s\n",
      "epoch 72 | loss: 0.31937 | train_accuracy: 0.82142 | valid_accuracy: 0.80689 |  0:05:58s\n",
      "epoch 73 | loss: 0.31676 | train_accuracy: 0.83925 | valid_accuracy: 0.8249  |  0:06:03s\n",
      "epoch 74 | loss: 0.32132 | train_accuracy: 0.84347 | valid_accuracy: 0.82645 |  0:06:08s\n",
      "epoch 75 | loss: 0.32642 | train_accuracy: 0.84393 | valid_accuracy: 0.828   |  0:06:13s\n",
      "epoch 76 | loss: 0.32443 | train_accuracy: 0.83519 | valid_accuracy: 0.82459 |  0:06:17s\n",
      "epoch 77 | loss: 0.32313 | train_accuracy: 0.8516  | valid_accuracy: 0.84197 |  0:06:22s\n",
      "\n",
      "Early stopping occurred at epoch 77 with best_epoch = 57 and best_valid_accuracy = 0.84974\n",
      "Best weights from best epoch are automatically used!\n",
      "acc: 0.8484848484848485 13\n",
      "auc: 0.9278797851627376 13\n",
      "BEAT AUC\n",
      "Device used : cpu\n",
      "epoch 0  | loss: 0.70464 | train_accuracy: 0.41658 | valid_accuracy: 0.42099 |  0:00:04s\n",
      "epoch 1  | loss: 0.56385 | train_accuracy: 0.6749  | valid_accuracy: 0.68892 |  0:00:09s\n",
      "epoch 2  | loss: 0.53572 | train_accuracy: 0.57238 | valid_accuracy: 0.57405 |  0:00:14s\n",
      "epoch 3  | loss: 0.51394 | train_accuracy: 0.61579 | valid_accuracy: 0.61596 |  0:00:19s\n",
      "epoch 4  | loss: 0.49341 | train_accuracy: 0.66247 | valid_accuracy: 0.66874 |  0:00:24s\n",
      "epoch 5  | loss: 0.48176 | train_accuracy: 0.64805 | valid_accuracy: 0.65321 |  0:00:29s\n",
      "epoch 6  | loss: 0.46116 | train_accuracy: 0.79081 | valid_accuracy: 0.78889 |  0:00:34s\n",
      "epoch 7  | loss: 0.4541  | train_accuracy: 0.75587 | valid_accuracy: 0.76622 |  0:00:39s\n",
      "epoch 8  | loss: 0.44363 | train_accuracy: 0.79442 | valid_accuracy: 0.80317 |  0:00:44s\n",
      "epoch 9  | loss: 0.4292  | train_accuracy: 0.81601 | valid_accuracy: 0.82614 |  0:00:48s\n",
      "epoch 10 | loss: 0.42975 | train_accuracy: 0.75648 | valid_accuracy: 0.76032 |  0:00:53s\n",
      "epoch 11 | loss: 0.40929 | train_accuracy: 0.76757 | valid_accuracy: 0.76933 |  0:00:58s\n",
      "epoch 12 | loss: 0.4019  | train_accuracy: 0.7128  | valid_accuracy: 0.71065 |  0:01:03s\n",
      "epoch 13 | loss: 0.39193 | train_accuracy: 0.72449 | valid_accuracy: 0.72089 |  0:01:08s\n",
      "epoch 14 | loss: 0.38795 | train_accuracy: 0.75967 | valid_accuracy: 0.76032 |  0:01:13s\n",
      "epoch 15 | loss: 0.38494 | train_accuracy: 0.74079 | valid_accuracy: 0.74356 |  0:01:18s\n",
      "epoch 16 | loss: 0.37601 | train_accuracy: 0.73715 | valid_accuracy: 0.73797 |  0:01:23s\n",
      "epoch 17 | loss: 0.36725 | train_accuracy: 0.76987 | valid_accuracy: 0.76808 |  0:01:28s\n",
      "epoch 18 | loss: 0.3729  | train_accuracy: 0.75606 | valid_accuracy: 0.75318 |  0:01:33s\n",
      "epoch 19 | loss: 0.36938 | train_accuracy: 0.73489 | valid_accuracy: 0.73052 |  0:01:38s\n",
      "epoch 20 | loss: 0.35419 | train_accuracy: 0.70075 | valid_accuracy: 0.69792 |  0:01:43s\n",
      "epoch 21 | loss: 0.34988 | train_accuracy: 0.65952 | valid_accuracy: 0.66129 |  0:01:47s\n",
      "epoch 22 | loss: 0.34779 | train_accuracy: 0.58883 | valid_accuracy: 0.58895 |  0:01:52s\n",
      "epoch 23 | loss: 0.34559 | train_accuracy: 0.68771 | valid_accuracy: 0.68736 |  0:01:57s\n",
      "epoch 24 | loss: 0.35008 | train_accuracy: 0.70221 | valid_accuracy: 0.7063  |  0:02:02s\n",
      "epoch 25 | loss: 0.34738 | train_accuracy: 0.71632 | valid_accuracy: 0.71344 |  0:02:07s\n",
      "epoch 26 | loss: 0.33227 | train_accuracy: 0.69623 | valid_accuracy: 0.69202 |  0:02:12s\n",
      "epoch 27 | loss: 0.33727 | train_accuracy: 0.7602  | valid_accuracy: 0.76063 |  0:02:17s\n",
      "epoch 28 | loss: 0.33854 | train_accuracy: 0.74716 | valid_accuracy: 0.74201 |  0:02:22s\n",
      "epoch 29 | loss: 0.33342 | train_accuracy: 0.79269 | valid_accuracy: 0.78982 |  0:02:27s\n",
      "\n",
      "Early stopping occurred at epoch 29 with best_epoch = 9 and best_valid_accuracy = 0.82614\n",
      "Best weights from best epoch are automatically used!\n",
      "acc: 0.8197122742577289 14\n",
      "auc: 0.8728147054164133 14\n",
      "Device used : cpu\n",
      "epoch 0  | loss: 0.69553 | train_accuracy: 0.57345 | valid_accuracy: 0.57591 |  0:00:04s\n",
      "epoch 1  | loss: 0.58155 | train_accuracy: 0.65914 | valid_accuracy: 0.68147 |  0:00:09s\n",
      "epoch 2  | loss: 0.5385  | train_accuracy: 0.62742 | valid_accuracy: 0.62807 |  0:00:14s\n",
      "epoch 3  | loss: 0.50982 | train_accuracy: 0.64034 | valid_accuracy: 0.64266 |  0:00:19s\n",
      "epoch 4  | loss: 0.481   | train_accuracy: 0.61775 | valid_accuracy: 0.61099 |  0:00:24s\n",
      "epoch 5  | loss: 0.47033 | train_accuracy: 0.71552 | valid_accuracy: 0.71375 |  0:00:29s\n",
      "epoch 6  | loss: 0.45038 | train_accuracy: 0.71682 | valid_accuracy: 0.71344 |  0:00:34s\n",
      "epoch 7  | loss: 0.44153 | train_accuracy: 0.73535 | valid_accuracy: 0.74232 |  0:00:39s\n",
      "epoch 8  | loss: 0.42995 | train_accuracy: 0.75514 | valid_accuracy: 0.75411 |  0:00:44s\n",
      "epoch 9  | loss: 0.4169  | train_accuracy: 0.78525 | valid_accuracy: 0.78795 |  0:00:48s\n",
      "epoch 10 | loss: 0.40987 | train_accuracy: 0.74467 | valid_accuracy: 0.74884 |  0:00:53s\n",
      "epoch 11 | loss: 0.39636 | train_accuracy: 0.73562 | valid_accuracy: 0.73455 |  0:00:58s\n",
      "epoch 12 | loss: 0.39297 | train_accuracy: 0.74616 | valid_accuracy: 0.74356 |  0:01:03s\n",
      "epoch 13 | loss: 0.38141 | train_accuracy: 0.72246 | valid_accuracy: 0.70941 |  0:01:08s\n",
      "epoch 14 | loss: 0.37736 | train_accuracy: 0.68441 | valid_accuracy: 0.67991 |  0:01:13s\n",
      "epoch 15 | loss: 0.37246 | train_accuracy: 0.57575 | valid_accuracy: 0.56628 |  0:01:18s\n",
      "epoch 16 | loss: 0.37437 | train_accuracy: 0.61365 | valid_accuracy: 0.61006 |  0:01:23s\n",
      "epoch 17 | loss: 0.36393 | train_accuracy: 0.73021 | valid_accuracy: 0.72524 |  0:01:28s\n",
      "epoch 18 | loss: 0.371   | train_accuracy: 0.72353 | valid_accuracy: 0.71034 |  0:01:33s\n",
      "epoch 19 | loss: 0.36854 | train_accuracy: 0.73842 | valid_accuracy: 0.73145 |  0:01:38s\n"
     ]
    },
    {
     "name": "stdout",
     "output_type": "stream",
     "text": [
      "epoch 20 | loss: 0.35866 | train_accuracy: 0.74244 | valid_accuracy: 0.74076 |  0:01:43s\n",
      "epoch 21 | loss: 0.35736 | train_accuracy: 0.75372 | valid_accuracy: 0.7479  |  0:01:48s\n",
      "epoch 22 | loss: 0.35212 | train_accuracy: 0.77067 | valid_accuracy: 0.76001 |  0:01:53s\n",
      "epoch 23 | loss: 0.35509 | train_accuracy: 0.77106 | valid_accuracy: 0.7656  |  0:01:57s\n",
      "epoch 24 | loss: 0.35408 | train_accuracy: 0.76319 | valid_accuracy: 0.75939 |  0:02:02s\n",
      "epoch 25 | loss: 0.35138 | train_accuracy: 0.75084 | valid_accuracy: 0.73455 |  0:02:07s\n",
      "epoch 26 | loss: 0.33959 | train_accuracy: 0.79898 | valid_accuracy: 0.79882 |  0:02:12s\n",
      "epoch 27 | loss: 0.34441 | train_accuracy: 0.7793  | valid_accuracy: 0.76871 |  0:02:17s\n",
      "epoch 28 | loss: 0.34751 | train_accuracy: 0.79817 | valid_accuracy: 0.78889 |  0:02:22s\n",
      "epoch 29 | loss: 0.34249 | train_accuracy: 0.78463 | valid_accuracy: 0.77802 |  0:02:27s\n",
      "epoch 30 | loss: 0.34076 | train_accuracy: 0.80094 | valid_accuracy: 0.79199 |  0:02:32s\n",
      "epoch 31 | loss: 0.33924 | train_accuracy: 0.79499 | valid_accuracy: 0.78795 |  0:02:37s\n",
      "epoch 32 | loss: 0.33869 | train_accuracy: 0.80408 | valid_accuracy: 0.79758 |  0:02:42s\n",
      "epoch 33 | loss: 0.34188 | train_accuracy: 0.82031 | valid_accuracy: 0.81931 |  0:02:47s\n",
      "epoch 34 | loss: 0.33869 | train_accuracy: 0.81793 | valid_accuracy: 0.81652 |  0:02:52s\n",
      "epoch 35 | loss: 0.3338  | train_accuracy: 0.80803 | valid_accuracy: 0.79913 |  0:02:57s\n",
      "epoch 36 | loss: 0.3354  | train_accuracy: 0.80888 | valid_accuracy: 0.80255 |  0:03:02s\n",
      "epoch 37 | loss: 0.33041 | train_accuracy: 0.79472 | valid_accuracy: 0.78299 |  0:03:07s\n",
      "epoch 38 | loss: 0.33823 | train_accuracy: 0.81624 | valid_accuracy: 0.81683 |  0:03:11s\n",
      "epoch 39 | loss: 0.33513 | train_accuracy: 0.81823 | valid_accuracy: 0.82086 |  0:03:16s\n",
      "epoch 40 | loss: 0.33288 | train_accuracy: 0.81336 | valid_accuracy: 0.80969 |  0:03:21s\n",
      "epoch 41 | loss: 0.33527 | train_accuracy: 0.79867 | valid_accuracy: 0.78423 |  0:03:26s\n",
      "epoch 42 | loss: 0.32822 | train_accuracy: 0.83434 | valid_accuracy: 0.83794 |  0:03:31s\n",
      "epoch 43 | loss: 0.33337 | train_accuracy: 0.84712 | valid_accuracy: 0.84601 |  0:03:36s\n",
      "epoch 44 | loss: 0.32968 | train_accuracy: 0.82149 | valid_accuracy: 0.82552 |  0:03:41s\n",
      "epoch 45 | loss: 0.32608 | train_accuracy: 0.83338 | valid_accuracy: 0.83452 |  0:03:46s\n",
      "epoch 46 | loss: 0.33267 | train_accuracy: 0.83116 | valid_accuracy: 0.82862 |  0:03:51s\n",
      "epoch 47 | loss: 0.3251  | train_accuracy: 0.83442 | valid_accuracy: 0.82956 |  0:03:56s\n",
      "epoch 48 | loss: 0.32541 | train_accuracy: 0.79798 | valid_accuracy: 0.78671 |  0:04:00s\n",
      "epoch 49 | loss: 0.33361 | train_accuracy: 0.81977 | valid_accuracy: 0.81962 |  0:04:05s\n",
      "epoch 50 | loss: 0.333   | train_accuracy: 0.81574 | valid_accuracy: 0.81155 |  0:04:10s\n",
      "epoch 51 | loss: 0.32592 | train_accuracy: 0.83511 | valid_accuracy: 0.8339  |  0:04:15s\n",
      "epoch 52 | loss: 0.32323 | train_accuracy: 0.82633 | valid_accuracy: 0.8221  |  0:04:20s\n",
      "epoch 53 | loss: 0.32437 | train_accuracy: 0.83918 | valid_accuracy: 0.83483 |  0:04:25s\n",
      "epoch 54 | loss: 0.32352 | train_accuracy: 0.84317 | valid_accuracy: 0.83701 |  0:04:30s\n",
      "epoch 55 | loss: 0.32298 | train_accuracy: 0.82683 | valid_accuracy: 0.82242 |  0:04:35s\n",
      "epoch 56 | loss: 0.32844 | train_accuracy: 0.82571 | valid_accuracy: 0.82024 |  0:04:40s\n",
      "epoch 57 | loss: 0.32567 | train_accuracy: 0.81263 | valid_accuracy: 0.80068 |  0:04:45s\n",
      "epoch 58 | loss: 0.32135 | train_accuracy: 0.80861 | valid_accuracy: 0.80286 |  0:04:50s\n",
      "epoch 59 | loss: 0.31711 | train_accuracy: 0.79453 | valid_accuracy: 0.78299 |  0:04:55s\n",
      "epoch 60 | loss: 0.32579 | train_accuracy: 0.83676 | valid_accuracy: 0.83514 |  0:05:00s\n",
      "epoch 61 | loss: 0.32546 | train_accuracy: 0.80385 | valid_accuracy: 0.79323 |  0:05:04s\n",
      "epoch 62 | loss: 0.32453 | train_accuracy: 0.82138 | valid_accuracy: 0.81403 |  0:05:09s\n",
      "epoch 63 | loss: 0.32497 | train_accuracy: 0.82257 | valid_accuracy: 0.8159  |  0:05:14s\n",
      "\n",
      "Early stopping occurred at epoch 63 with best_epoch = 43 and best_valid_accuracy = 0.84601\n",
      "Best weights from best epoch are automatically used!\n",
      "acc: 0.8408325681052954 15\n",
      "auc: 0.9246393401572952 15\n",
      "BEAT AUC\n",
      "Device used : cpu\n",
      "epoch 0  | loss: 0.75944 | train_accuracy: 0.69945 | valid_accuracy: 0.70382 |  0:00:04s\n",
      "epoch 1  | loss: 0.63406 | train_accuracy: 0.67996 | valid_accuracy: 0.67588 |  0:00:09s\n",
      "epoch 2  | loss: 0.56992 | train_accuracy: 0.56712 | valid_accuracy: 0.55945 |  0:00:14s\n",
      "epoch 3  | loss: 0.54019 | train_accuracy: 0.6754  | valid_accuracy: 0.68178 |  0:00:19s\n",
      "epoch 4  | loss: 0.51429 | train_accuracy: 0.68917 | valid_accuracy: 0.69606 |  0:00:24s\n",
      "epoch 5  | loss: 0.49958 | train_accuracy: 0.75384 | valid_accuracy: 0.75908 |  0:00:29s\n",
      "epoch 6  | loss: 0.47273 | train_accuracy: 0.72653 | valid_accuracy: 0.71934 |  0:00:34s\n",
      "epoch 7  | loss: 0.46027 | train_accuracy: 0.73186 | valid_accuracy: 0.73238 |  0:00:39s\n",
      "epoch 8  | loss: 0.44432 | train_accuracy: 0.70236 | valid_accuracy: 0.71096 |  0:00:44s\n",
      "epoch 9  | loss: 0.4232  | train_accuracy: 0.68545 | valid_accuracy: 0.69047 |  0:00:49s\n",
      "epoch 10 | loss: 0.41835 | train_accuracy: 0.7044  | valid_accuracy: 0.71003 |  0:00:54s\n",
      "epoch 11 | loss: 0.41071 | train_accuracy: 0.66443 | valid_accuracy: 0.66501 |  0:00:59s\n",
      "epoch 12 | loss: 0.40063 | train_accuracy: 0.67087 | valid_accuracy: 0.6796  |  0:01:04s\n",
      "epoch 13 | loss: 0.39238 | train_accuracy: 0.59999 | valid_accuracy: 0.60416 |  0:01:09s\n",
      "epoch 14 | loss: 0.38807 | train_accuracy: 0.63674 | valid_accuracy: 0.6349  |  0:01:14s\n",
      "epoch 15 | loss: 0.38142 | train_accuracy: 0.58872 | valid_accuracy: 0.58181 |  0:01:19s\n",
      "epoch 16 | loss: 0.38042 | train_accuracy: 0.64959 | valid_accuracy: 0.65042 |  0:01:23s\n",
      "epoch 17 | loss: 0.36316 | train_accuracy: 0.49102 | valid_accuracy: 0.48774 |  0:01:28s\n",
      "epoch 18 | loss: 0.37186 | train_accuracy: 0.61971 | valid_accuracy: 0.61751 |  0:01:33s\n",
      "epoch 19 | loss: 0.37186 | train_accuracy: 0.66408 | valid_accuracy: 0.66408 |  0:01:38s\n",
      "epoch 20 | loss: 0.35813 | train_accuracy: 0.67452 | valid_accuracy: 0.66967 |  0:01:43s\n",
      "epoch 21 | loss: 0.35355 | train_accuracy: 0.75456 | valid_accuracy: 0.74915 |  0:01:48s\n",
      "epoch 22 | loss: 0.35379 | train_accuracy: 0.75441 | valid_accuracy: 0.74884 |  0:01:53s\n",
      "epoch 23 | loss: 0.35385 | train_accuracy: 0.6744  | valid_accuracy: 0.67029 |  0:01:59s\n",
      "epoch 24 | loss: 0.35755 | train_accuracy: 0.70808 | valid_accuracy: 0.70941 |  0:02:04s\n",
      "epoch 25 | loss: 0.35398 | train_accuracy: 0.68131 | valid_accuracy: 0.68115 |  0:02:09s\n",
      "\n",
      "Early stopping occurred at epoch 25 with best_epoch = 5 and best_valid_accuracy = 0.75908\n",
      "Best weights from best epoch are automatically used!\n",
      "acc: 0.7517600244872972 16\n",
      "auc: 0.8364436358804801 16\n"
     ]
    }
   ],
   "source": [
    "from pytorch_tabnet.tab_model import TabNetClassifier\n",
    "import pytorch_tabnet.tab_model\n",
    "import pytorch_tabnet\n",
    "import pytorch_tabnet.tab_network\n",
    "import torch\n",
    "from sklearn.preprocessing import LabelEncoder\n",
    "from sklearn.metrics import roc_auc_score, accuracy_score\n",
    "\n",
    "import pandas as pd\n",
    "import numpy as np\n",
    "np.random.seed(0)\n",
    "\n",
    "\n",
    "import os\n",
    "import wget\n",
    "from pathlib import Path\n",
    "\n",
    "from matplotlib import pyplot as plt\n",
    "%matplotlib inline\n",
    "import importlib\n",
    "\n",
    "url = \"https://archive.ics.uci.edu/ml/machine-learning-databases/adult/adult.data\"\n",
    "dataset_name = 'census-income'\n",
    "out = Path(os.getcwd()+'/data/'+dataset_name+'.csv')\n",
    "\n",
    "out.parent.mkdir(parents=True, exist_ok=True)\n",
    "if out.exists():\n",
    "    print(\"File already exists.\")\n",
    "else:\n",
    "    print(\"Downloading file...\")\n",
    "    wget.download(url, out.as_posix())\n",
    "    \n",
    "train = pd.read_csv(out)\n",
    "target = ' <=50K'\n",
    "if \"Set\" not in train.columns:\n",
    "    train[\"Set\"] = np.random.choice([\"train\", \"valid\", \"test\"], p =[.8, .1, .1], size=(train.shape[0],))\n",
    "\n",
    "train_indices = train[train.Set==\"train\"].index\n",
    "valid_indices = train[train.Set==\"valid\"].index\n",
    "test_indices = train[train.Set==\"test\"].index\n",
    "\n",
    "nunique = train.nunique()\n",
    "types = train.dtypes\n",
    "\n",
    "categorical_columns = []\n",
    "categorical_dims =  {}\n",
    "for col in train.columns:\n",
    "    if types[col] == 'object' or nunique[col] < 200:\n",
    "        print(col, train[col].nunique())\n",
    "        l_enc = LabelEncoder()\n",
    "        train[col] = train[col].fillna(\"VV_likely\")\n",
    "        train[col] = l_enc.fit_transform(train[col].values)\n",
    "        categorical_columns.append(col)\n",
    "        categorical_dims[col] = len(l_enc.classes_)\n",
    "    else:\n",
    "        train.fillna(train.loc[train_indices, col].mean(), inplace=True)\n",
    "        \n",
    "        \n",
    "# check that pipeline accepts strings\n",
    "train.loc[train[target]==0, target] = \"wealthy\"\n",
    "train.loc[train[target]==1, target] = \"not_wealthy\"\n",
    "\n",
    "unused_feat = ['Set']\n",
    "\n",
    "features = [ col for col in train.columns if col not in unused_feat+[target]] \n",
    "\n",
    "cat_idxs = [ i for i, f in enumerate(features) if f in categorical_columns]\n",
    "\n",
    "cat_dims = [ categorical_dims[f] for i, f in enumerate(features) if f in categorical_columns]\n",
    "\n",
    "con_idxs = [i for i, f in enumerate(features) if f not in categorical_columns]\n",
    "\n",
    "'''\n",
    "X_train = train[features].values[train_indices]\n",
    "y_train = train[target].values[train_indices]\n",
    "\n",
    "X_valid = train[features].values[valid_indices]\n",
    "y_valid = train[target].values[valid_indices]\n",
    "\n",
    "X_test = train[features].values[test_indices]\n",
    "y_test = train[target].values[test_indices]\n",
    "'''\n",
    "base_auc = 0.9231660389507519\n",
    "base_acc = 0.8677685950413223\n",
    "beat_auc = 0\n",
    "beat_acc = 0\n",
    "#### Customized train, valid, test\n",
    "X_train = np.array(pd.read_csv('X_train.csv'))\n",
    "y_train = np.array(pd.read_csv('y_train.csv')).ravel()\n",
    "\n",
    "X_valid = np.array(pd.read_csv('X_valid.csv'))\n",
    "y_valid = np.array(pd.read_csv('y_valid.csv')).ravel()\n",
    "\n",
    "X_test = np.array(pd.read_csv('X_test.csv'))\n",
    "y_test = np.array(pd.read_csv('y_test.csv')).ravel()\n",
    "\n",
    "max_epochs = 7700 if not os.getenv(\"CI\", False) else 2\n",
    "auc = []\n",
    "acc = []\n",
    "for con_dim in range(1, 17):\n",
    "    clf = TabNetClassifier(\n",
    "                           n_d = 8, \n",
    "                           n_a = 8,\n",
    "                           cat_idxs=cat_idxs,\n",
    "                           cat_dims=cat_dims,\n",
    "                           cat_emb_dim=1,\n",
    "                           con_idxs=con_idxs,\n",
    "                           con_emb_dim=con_dim,\n",
    "                           n_steps=3,\n",
    "                           gamma=1.0,\n",
    "                           lambda_sparse = 0.01,\n",
    "                           momentum=0.98,\n",
    "                           n_shared=2,\n",
    "                           n_independent=2,\n",
    "                           optimizer_fn=torch.optim.Adam,\n",
    "                           optimizer_params=dict(lr=2e-2),\n",
    "                           scheduler_params={\"step_size\":2500, # how to use learning rate scheduler\n",
    "                                             \"gamma\":0.4},\n",
    "                           scheduler_fn=torch.optim.lr_scheduler.StepLR,\n",
    "                           mask_type='entmax' # \"sparsemax\"\n",
    "                          )\n",
    "\n",
    "    clf.fit(\n",
    "                            X_train=X_train, y_train=y_train,\n",
    "                            eval_set=[(X_train, y_train), (X_valid, y_valid)],\n",
    "                            eval_name=['train', 'valid'],\n",
    "                            eval_metric=['accuracy'],\n",
    "                            max_epochs=max_epochs , patience=20,\n",
    "                            batch_size=2048, virtual_batch_size=128,\n",
    "                            num_workers=0,\n",
    "                            weights=1,\n",
    "                            drop_last=False\n",
    "                        )\n",
    "\n",
    "    preds_class = clf.predict(X_test)\n",
    "    preds = clf.predict_proba(X_test)\n",
    "    test_acc = accuracy_score(y_test, preds_class)\n",
    "    test_auc = roc_auc_score(y_score=preds[:,1], y_true=y_test)\n",
    "    print(\"acc:\", test_acc, con_dim)\n",
    "    print(\"auc:\", test_auc, con_dim)\n",
    "    if test_auc>base_auc:\n",
    "        print(\"BEAT AUC\")\n",
    "        beat_auc = 1\n",
    "    if test_acc>base_acc:\n",
    "        print(\"BEAT ACC\")\n",
    "        beat_acc = 1\n",
    "    auc.append(test_auc)\n",
    "    acc.append(test_acc)"
   ]
  },
  {
   "cell_type": "code",
   "execution_count": 20,
   "metadata": {},
   "outputs": [
    {
     "name": "stdout",
     "output_type": "stream",
     "text": [
      "Beat_auc? True\n",
      "Beat_acc? True\n"
     ]
    }
   ],
   "source": [
    "print(\"Beat_auc?\", bool(beat_auc))\n",
    "print(\"Beat_acc?\", bool(beat_acc))"
   ]
  },
  {
   "cell_type": "code",
   "execution_count": 21,
   "metadata": {},
   "outputs": [
    {
     "data": {
      "text/plain": [
       "[0.9235986263497595,\n",
       " 0.9205567167306307,\n",
       " 0.9270342850426455,\n",
       " 0.9203615030431872,\n",
       " 0.9180554774814367,\n",
       " 0.9218848852480799,\n",
       " 0.921284168783185,\n",
       " 0.925248744142312,\n",
       " 0.9215813330744111,\n",
       " 0.9216339692257376,\n",
       " 0.9279968111690847,\n",
       " 0.9223826290480011,\n",
       " 0.9144102962444363,\n",
       " 0.9234619256654897,\n",
       " 0.9239430609710604,\n",
       " 0.9155851555832648]"
      ]
     },
     "execution_count": 21,
     "metadata": {},
     "output_type": "execute_result"
    }
   ],
   "source": [
    "(auc)"
   ]
  },
  {
   "cell_type": "code",
   "execution_count": 22,
   "metadata": {},
   "outputs": [
    {
     "data": {
      "text/plain": [
       "[<matplotlib.lines.Line2D at 0x19b772683a0>]"
      ]
     },
     "execution_count": 22,
     "metadata": {},
     "output_type": "execute_result"
    },
    {
     "data": {
      "image/png": "[encoded data removed]",
      "text/plain": [
       "<Figure size 432x288 with 1 Axes>"
      ]
     },
     "metadata": {
      "needs_background": "light"
     },
     "output_type": "display_data"
    }
   ],
   "source": [
    "base_auc_plot = [base_auc]*16\n",
    "plt.plot(auc)\n",
    "plt.plot(base_auc_plot)"
   ]
  },
  {
   "cell_type": "code",
   "execution_count": 2,
   "metadata": {},
   "outputs": [
    {
     "name": "stdout",
     "output_type": "stream",
     "text": [
      "AUC SCORE SUMMARY\n",
      "[0.8968060587787392, 0.919518558076072, 0.8596321601774299, 0.925464654568869, 0.9243746263088771, 0.9058788959695017, 0.9178906701144198, 0.9154259695527971, 0.9201550466826449, 0.9026778003199052, 0.8977800830935748, 0.9000112426730988, 0.9278797851627376, 0.8728147054164133, 0.9246393401572952, 0.8364436358804801]\n",
      "Different in percentage\n",
      "[-2.63599802 -0.36474809 -6.35338788  0.22986156  0.12085874 -1.7287143\n",
      " -0.52753688 -0.77400694 -0.30109923 -2.04882386 -2.53859559 -2.31547963\n",
      "  0.47137462 -5.03513335  0.14733012 -8.67224031]\n"
     ]
    },
    {
     "data": {
      "text/plain": [
       "[<matplotlib.lines.Line2D at 0x1bdac830760>]"
      ]
     },
     "execution_count": 2,
     "metadata": {},
     "output_type": "execute_result"
    },
    {
     "data": {
      "image/png": "[encoded data removed]",
      "text/plain": [
       "<Figure size 432x288 with 1 Axes>"
      ]
     },
     "metadata": {
      "needs_background": "light"
     },
     "output_type": "display_data"
    }
   ],
   "source": [
    "print(\"AUC SCORE SUMMARY\")\n",
    "print(auc)\n",
    "print(\"Different in percentage\")\n",
    "print((np.array(auc) - base_auc)*100)\n",
    "base_auc_plot = [base_auc]*16\n",
    "plt.plot(auc)\n",
    "plt.plot(base_auc_plot)"
   ]
  },
  {
   "cell_type": "code",
   "execution_count": 3,
   "metadata": {},
   "outputs": [
    {
     "name": "stdout",
     "output_type": "stream",
     "text": [
      "ACCURACY SCORE SUMMARY\n",
      "[0.8010407101316193, 0.8552188552188552, 0.8056320783593511, 0.8741965105601469, 0.8567493112947658, 0.8071625344352618, 0.8631772268135904, 0.8273645546372819, 0.8582797673706765, 0.8218549127640037, 0.8050198959289868, 0.8004285277012549, 0.8484848484848485, 0.8197122742577289, 0.8408325681052954, 0.7517600244872972]\n",
      "DIFFERENT IN PERCENTAGE\n",
      "[ -6.67278849  -1.25497398  -6.21365167   0.64279155  -1.10192837\n",
      "  -6.06060606  -0.45913682  -4.04040404  -0.94888277  -4.59136823\n",
      "  -6.27486991  -6.73400673  -1.92837466  -4.80563208  -2.69360269\n",
      " -11.60085706]\n"
     ]
    },
    {
     "data": {
      "text/plain": [
       "[<matplotlib.lines.Line2D at 0x1bdacd73430>]"
      ]
     },
     "execution_count": 3,
     "metadata": {},
     "output_type": "execute_result"
    },
    {
     "data": {
      "image/png": "[encoded data removed]",
      "text/plain": [
       "<Figure size 432x288 with 1 Axes>"
      ]
     },
     "metadata": {
      "needs_background": "light"
     },
     "output_type": "display_data"
    }
   ],
   "source": [
    "print(\"ACCURACY SCORE SUMMARY\")\n",
    "print(acc)\n",
    "print(\"DIFFERENT IN PERCENTAGE\")\n",
    "print((np.array(acc) - base_acc)*100)\n",
    "base_acc_plot = [base_acc]*len(acc)\n",
    "plt.plot(acc)\n",
    "plt.plot(base_acc_plot)"
   ]
  },
  {
   "cell_type": "code",
   "execution_count": 10,
   "metadata": {},
   "outputs": [
    {
     "data": {
      "text/plain": [
       "array([-0.07200421,  0.14835218,  0.11510964,  0.2606256 ,  0.00388383,\n",
       "       -0.04711702, -0.09203661, -0.01883148,  0.51120946, -0.1403801 ,\n",
       "        0.15969706,  0.61712055,  0.07200421,  0.38868987,  0.07857095,\n",
       "       -0.15177609])"
      ]
     },
     "execution_count": 10,
     "metadata": {},
     "output_type": "execute_result"
    }
   ],
   "source": [
    "(np.array(auc) - base_auc)*100"
   ]
  },
  {
   "cell_type": "code",
   "execution_count": 11,
   "metadata": {},
   "outputs": [
    {
     "data": {
      "text/plain": [
       "array([-1.74471993, -6.45852464, -5.75451485, -5.35659627, -7.37679829,\n",
       "       -4.46893174, -4.4077135 , -6.33608815, -7.04009795, -5.84634221,\n",
       "       -3.30578512, -4.53014998, -5.87695133, -2.81603918, -1.71411081,\n",
       "       -5.63207836])"
      ]
     },
     "execution_count": 11,
     "metadata": {},
     "output_type": "execute_result"
    }
   ],
   "source": [
    "(np.array(acc) - base_acc)*100"
   ]
  },
  {
   "cell_type": "code",
   "execution_count": 18,
   "metadata": {},
   "outputs": [
    {
     "data": {
      "text/plain": [
       "[<matplotlib.lines.Line2D at 0x19b75f6bc10>]"
      ]
     },
     "execution_count": 18,
     "metadata": {},
     "output_type": "execute_result"
    },
    {
     "data": {
      "image/png": "[encoded data removed]",
      "text/plain": [
       "<Figure size 432x288 with 1 Axes>"
      ]
     },
     "metadata": {
      "needs_background": "light"
     },
     "output_type": "display_data"
    }
   ],
   "source": [
    "base_acc_plot = [base_acc]*16\n",
    "plt.plot(acc)\n",
    "plt.plot(base_acc_plot)"
   ]
  },
  {
   "cell_type": "markdown",
   "metadata": {},
   "source": [
    "Beat acc with emb = 5 <br>\n",
    "beat auc with emb = 10"
   ]
  },
  {
   "cell_type": "code",
   "execution_count": null,
   "metadata": {},
   "outputs": [],
   "source": [
    "preds = clf.predict_proba(X_test)\n",
    "test_auc = roc_auc_score(y_score=preds[:,1], y_true=y_test)\n",
    "test_auc"
   ]
  },
  {
   "cell_type": "code",
   "execution_count": 3,
   "metadata": {},
   "outputs": [
    {
     "data": {
      "text/plain": [
       "[<matplotlib.lines.Line2D at 0x22326f2e940>]"
      ]
     },
     "execution_count": 3,
     "metadata": {},
     "output_type": "execute_result"
    },
    {
     "data": {
      "image/png": "[encoded data removed]",
      "text/plain": [
       "<Figure size 432x288 with 1 Axes>"
      ]
     },
     "metadata": {
      "needs_background": "light"
     },
     "output_type": "display_data"
    }
   ],
   "source": [
    "# plot losses\n",
    "plt.plot(clf.history['loss'])"
   ]
  },
  {
   "cell_type": "code",
   "execution_count": 3,
   "metadata": {},
   "outputs": [
    {
     "data": {
      "text/plain": [
       "[<matplotlib.lines.Line2D at 0x15f18c644c0>]"
      ]
     },
     "execution_count": 3,
     "metadata": {},
     "output_type": "execute_result"
    },
    {
     "data": {
      "image/png": "[encoded data removed]",
      "text/plain": [
       "<Figure size 432x288 with 1 Axes>"
      ]
     },
     "metadata": {
      "needs_background": "light"
     },
     "output_type": "display_data"
    }
   ],
   "source": [
    "# plot auc\n",
    "plt.plot(clf.history['train_auc'])\n",
    "plt.plot(clf.history['valid_auc'])"
   ]
  },
  {
   "cell_type": "code",
   "execution_count": 4,
   "metadata": {},
   "outputs": [
    {
     "name": "stdout",
     "output_type": "stream",
     "text": [
      "BEST VALID SCORE FOR census-income : 0.928799966758082\n",
      "FINAL TEST SCORE FOR census-income : 0.9251232861311407\n"
     ]
    }
   ],
   "source": [
    "preds = clf.predict_proba(X_test)\n",
    "test_auc = roc_auc_score(y_score=preds[:,1], y_true=y_test)\n",
    "\n",
    "\n",
    "preds_valid = clf.predict_proba(X_valid)\n",
    "valid_auc = roc_auc_score(y_score=preds_valid[:,1], y_true=y_valid)\n",
    "\n",
    "print(f\"BEST VALID SCORE FOR {dataset_name} : {clf.best_cost}\")\n",
    "print(f\"FINAL TEST SCORE FOR {dataset_name} : {test_auc}\")"
   ]
  },
  {
   "cell_type": "code",
   "execution_count": null,
   "metadata": {},
   "outputs": [],
   "source": []
  },
  {
   "cell_type": "code",
   "execution_count": null,
   "metadata": {},
   "outputs": [],
   "source": []
  },
  {
   "cell_type": "code",
   "execution_count": 9,
   "metadata": {},
   "outputs": [
    {
     "data": {
      "text/plain": [
       "[<matplotlib.lines.Line2D at 0x1e9b66c0190>]"
      ]
     },
     "execution_count": 9,
     "metadata": {},
     "output_type": "execute_result"
    },
    {
     "data": {
      "image/png": "[encoded data removed]",
      "text/plain": [
       "<Figure size 432x288 with 1 Axes>"
      ]
     },
     "metadata": {
      "needs_background": "light"
     },
     "output_type": "display_data"
    }
   ],
   "source": [
    "# plot losses\n",
    "plt.plot(clf.history['loss'])"
   ]
  },
  {
   "cell_type": "code",
   "execution_count": 5,
   "metadata": {},
   "outputs": [
    {
     "data": {
      "text/plain": [
       "[<matplotlib.lines.Line2D at 0x1bdac95a340>]"
      ]
     },
     "execution_count": 5,
     "metadata": {},
     "output_type": "execute_result"
    },
    {
     "data": {
      "image/png": "[encoded data removed]",
      "text/plain": [
       "<Figure size 432x288 with 1 Axes>"
      ]
     },
     "metadata": {
      "needs_background": "light"
     },
     "output_type": "display_data"
    }
   ],
   "source": [
    "# plot auc\n",
    "plt.plot(clf.history['train_accuracy'])\n",
    "plt.plot(clf.history['valid_accuracy'])"
   ]
  },
  {
   "cell_type": "code",
   "execution_count": 11,
   "metadata": {},
   "outputs": [
    {
     "name": "stdout",
     "output_type": "stream",
     "text": [
      "BEST VALID SCORE FOR census-income : 0.928799966758082\n",
      "FINAL TEST AUC SCORE FOR census-income : 0.9251232861311407\n",
      "FINAL TEST ACC SCORE FOR census-income : 0.7894092439546985\n"
     ]
    }
   ],
   "source": [
    "from sklearn.metrics import accuracy_score, classification_report, confusion_matrix\n",
    "preds = clf.predict_proba(X_test)\n",
    "preds_class = clf.predict(X_test)\n",
    "test_auc = roc_auc_score(y_score=preds[:,1], y_true=y_test)\n",
    "test_acc = accuracy_score(preds_class, y_test)\n",
    "\n",
    "preds_valid = clf.predict_proba(X_valid)\n",
    "valid_auc = roc_auc_score(y_score=preds_valid[:,1], y_true=y_valid)\n",
    "\n",
    "print(f\"BEST VALID SCORE FOR {dataset_name} : {clf.best_cost}\")\n",
    "print(f\"FINAL TEST AUC SCORE FOR {dataset_name} : {test_auc}\")\n",
    "print(f\"FINAL TEST ACC SCORE FOR {dataset_name} : {test_acc}\")\n"
   ]
  },
  {
   "cell_type": "code",
   "execution_count": 14,
   "metadata": {},
   "outputs": [
    {
     "name": "stdout",
     "output_type": "stream",
     "text": [
      "Confusion matrix\n",
      "[[ 715  613]\n",
      " [  75 1864]]\n",
      "Classification report\n",
      "              precision    recall  f1-score   support\n",
      "\n",
      " not_wealthy       0.91      0.54      0.68      1328\n",
      "     wealthy       0.75      0.96      0.84      1939\n",
      "\n",
      "    accuracy                           0.79      3267\n",
      "   macro avg       0.83      0.75      0.76      3267\n",
      "weighted avg       0.81      0.79      0.78      3267\n",
      "\n",
      "Test set accuracy:\t 0.7894092439546985\n"
     ]
    },
    {
     "ename": "ValueError",
     "evalue": "could not convert string to float: 'not_wealthy'",
     "output_type": "error",
     "traceback": [
      "\u001b[1;31m---------------------------------------------------------------------------\u001b[0m",
      "\u001b[1;31mValueError\u001b[0m                                Traceback (most recent call last)",
      "\u001b[1;32m<ipython-input-14-6febf4035f20>\u001b[0m in \u001b[0;36m<module>\u001b[1;34m\u001b[0m\n\u001b[0;32m      4\u001b[0m \u001b[0mprint\u001b[0m\u001b[1;33m(\u001b[0m\u001b[0mclassification_report\u001b[0m\u001b[1;33m(\u001b[0m\u001b[0mpreds_class\u001b[0m\u001b[1;33m,\u001b[0m\u001b[0my_test\u001b[0m\u001b[1;33m)\u001b[0m\u001b[1;33m)\u001b[0m\u001b[1;33m\u001b[0m\u001b[1;33m\u001b[0m\u001b[0m\n\u001b[0;32m      5\u001b[0m \u001b[0mprint\u001b[0m\u001b[1;33m(\u001b[0m\u001b[1;34m\"Test set accuracy:\\t\"\u001b[0m\u001b[1;33m,\u001b[0m \u001b[0maccuracy_score\u001b[0m\u001b[1;33m(\u001b[0m\u001b[0mpreds_class\u001b[0m\u001b[1;33m,\u001b[0m\u001b[0my_test\u001b[0m\u001b[1;33m)\u001b[0m\u001b[1;33m)\u001b[0m\u001b[1;33m\u001b[0m\u001b[1;33m\u001b[0m\u001b[0m\n\u001b[1;32m----> 6\u001b[1;33m \u001b[0mprint\u001b[0m\u001b[1;33m(\u001b[0m\u001b[1;34mf\"FINAL TEST AUC SCORE FOR {dataset_name} : {roc_auc_score(preds_class,y_test)}\"\u001b[0m\u001b[1;33m)\u001b[0m\u001b[1;33m\u001b[0m\u001b[1;33m\u001b[0m\u001b[0m\n\u001b[0m",
      "\u001b[1;32m~\\anaconda3\\lib\\site-packages\\sklearn\\utils\\validation.py\u001b[0m in \u001b[0;36minner_f\u001b[1;34m(*args, **kwargs)\u001b[0m\n\u001b[0;32m     70\u001b[0m                           FutureWarning)\n\u001b[0;32m     71\u001b[0m         \u001b[0mkwargs\u001b[0m\u001b[1;33m.\u001b[0m\u001b[0mupdate\u001b[0m\u001b[1;33m(\u001b[0m\u001b[1;33m{\u001b[0m\u001b[0mk\u001b[0m\u001b[1;33m:\u001b[0m \u001b[0marg\u001b[0m \u001b[1;32mfor\u001b[0m \u001b[0mk\u001b[0m\u001b[1;33m,\u001b[0m \u001b[0marg\u001b[0m \u001b[1;32min\u001b[0m \u001b[0mzip\u001b[0m\u001b[1;33m(\u001b[0m\u001b[0msig\u001b[0m\u001b[1;33m.\u001b[0m\u001b[0mparameters\u001b[0m\u001b[1;33m,\u001b[0m \u001b[0margs\u001b[0m\u001b[1;33m)\u001b[0m\u001b[1;33m}\u001b[0m\u001b[1;33m)\u001b[0m\u001b[1;33m\u001b[0m\u001b[1;33m\u001b[0m\u001b[0m\n\u001b[1;32m---> 72\u001b[1;33m         \u001b[1;32mreturn\u001b[0m \u001b[0mf\u001b[0m\u001b[1;33m(\u001b[0m\u001b[1;33m**\u001b[0m\u001b[0mkwargs\u001b[0m\u001b[1;33m)\u001b[0m\u001b[1;33m\u001b[0m\u001b[1;33m\u001b[0m\u001b[0m\n\u001b[0m\u001b[0;32m     73\u001b[0m     \u001b[1;32mreturn\u001b[0m \u001b[0minner_f\u001b[0m\u001b[1;33m\u001b[0m\u001b[1;33m\u001b[0m\u001b[0m\n\u001b[0;32m     74\u001b[0m \u001b[1;33m\u001b[0m\u001b[0m\n",
      "\u001b[1;32m~\\anaconda3\\lib\\site-packages\\sklearn\\metrics\\_ranking.py\u001b[0m in \u001b[0;36mroc_auc_score\u001b[1;34m(y_true, y_score, average, sample_weight, max_fpr, multi_class, labels)\u001b[0m\n\u001b[0;32m    370\u001b[0m     \u001b[0my_type\u001b[0m \u001b[1;33m=\u001b[0m \u001b[0mtype_of_target\u001b[0m\u001b[1;33m(\u001b[0m\u001b[0my_true\u001b[0m\u001b[1;33m)\u001b[0m\u001b[1;33m\u001b[0m\u001b[1;33m\u001b[0m\u001b[0m\n\u001b[0;32m    371\u001b[0m     \u001b[0my_true\u001b[0m \u001b[1;33m=\u001b[0m \u001b[0mcheck_array\u001b[0m\u001b[1;33m(\u001b[0m\u001b[0my_true\u001b[0m\u001b[1;33m,\u001b[0m \u001b[0mensure_2d\u001b[0m\u001b[1;33m=\u001b[0m\u001b[1;32mFalse\u001b[0m\u001b[1;33m,\u001b[0m \u001b[0mdtype\u001b[0m\u001b[1;33m=\u001b[0m\u001b[1;32mNone\u001b[0m\u001b[1;33m)\u001b[0m\u001b[1;33m\u001b[0m\u001b[1;33m\u001b[0m\u001b[0m\n\u001b[1;32m--> 372\u001b[1;33m     \u001b[0my_score\u001b[0m \u001b[1;33m=\u001b[0m \u001b[0mcheck_array\u001b[0m\u001b[1;33m(\u001b[0m\u001b[0my_score\u001b[0m\u001b[1;33m,\u001b[0m \u001b[0mensure_2d\u001b[0m\u001b[1;33m=\u001b[0m\u001b[1;32mFalse\u001b[0m\u001b[1;33m)\u001b[0m\u001b[1;33m\u001b[0m\u001b[1;33m\u001b[0m\u001b[0m\n\u001b[0m\u001b[0;32m    373\u001b[0m \u001b[1;33m\u001b[0m\u001b[0m\n\u001b[0;32m    374\u001b[0m     if y_type == \"multiclass\" or (y_type == \"binary\" and\n",
      "\u001b[1;32m~\\anaconda3\\lib\\site-packages\\sklearn\\utils\\validation.py\u001b[0m in \u001b[0;36minner_f\u001b[1;34m(*args, **kwargs)\u001b[0m\n\u001b[0;32m     70\u001b[0m                           FutureWarning)\n\u001b[0;32m     71\u001b[0m         \u001b[0mkwargs\u001b[0m\u001b[1;33m.\u001b[0m\u001b[0mupdate\u001b[0m\u001b[1;33m(\u001b[0m\u001b[1;33m{\u001b[0m\u001b[0mk\u001b[0m\u001b[1;33m:\u001b[0m \u001b[0marg\u001b[0m \u001b[1;32mfor\u001b[0m \u001b[0mk\u001b[0m\u001b[1;33m,\u001b[0m \u001b[0marg\u001b[0m \u001b[1;32min\u001b[0m \u001b[0mzip\u001b[0m\u001b[1;33m(\u001b[0m\u001b[0msig\u001b[0m\u001b[1;33m.\u001b[0m\u001b[0mparameters\u001b[0m\u001b[1;33m,\u001b[0m \u001b[0margs\u001b[0m\u001b[1;33m)\u001b[0m\u001b[1;33m}\u001b[0m\u001b[1;33m)\u001b[0m\u001b[1;33m\u001b[0m\u001b[1;33m\u001b[0m\u001b[0m\n\u001b[1;32m---> 72\u001b[1;33m         \u001b[1;32mreturn\u001b[0m \u001b[0mf\u001b[0m\u001b[1;33m(\u001b[0m\u001b[1;33m**\u001b[0m\u001b[0mkwargs\u001b[0m\u001b[1;33m)\u001b[0m\u001b[1;33m\u001b[0m\u001b[1;33m\u001b[0m\u001b[0m\n\u001b[0m\u001b[0;32m     73\u001b[0m     \u001b[1;32mreturn\u001b[0m \u001b[0minner_f\u001b[0m\u001b[1;33m\u001b[0m\u001b[1;33m\u001b[0m\u001b[0m\n\u001b[0;32m     74\u001b[0m \u001b[1;33m\u001b[0m\u001b[0m\n",
      "\u001b[1;32m~\\anaconda3\\lib\\site-packages\\sklearn\\utils\\validation.py\u001b[0m in \u001b[0;36mcheck_array\u001b[1;34m(array, accept_sparse, accept_large_sparse, dtype, order, copy, force_all_finite, ensure_2d, allow_nd, ensure_min_samples, ensure_min_features, estimator)\u001b[0m\n\u001b[0;32m    596\u001b[0m                     \u001b[0marray\u001b[0m \u001b[1;33m=\u001b[0m \u001b[0marray\u001b[0m\u001b[1;33m.\u001b[0m\u001b[0mastype\u001b[0m\u001b[1;33m(\u001b[0m\u001b[0mdtype\u001b[0m\u001b[1;33m,\u001b[0m \u001b[0mcasting\u001b[0m\u001b[1;33m=\u001b[0m\u001b[1;34m\"unsafe\"\u001b[0m\u001b[1;33m,\u001b[0m \u001b[0mcopy\u001b[0m\u001b[1;33m=\u001b[0m\u001b[1;32mFalse\u001b[0m\u001b[1;33m)\u001b[0m\u001b[1;33m\u001b[0m\u001b[1;33m\u001b[0m\u001b[0m\n\u001b[0;32m    597\u001b[0m                 \u001b[1;32melse\u001b[0m\u001b[1;33m:\u001b[0m\u001b[1;33m\u001b[0m\u001b[1;33m\u001b[0m\u001b[0m\n\u001b[1;32m--> 598\u001b[1;33m                     \u001b[0marray\u001b[0m \u001b[1;33m=\u001b[0m \u001b[0mnp\u001b[0m\u001b[1;33m.\u001b[0m\u001b[0masarray\u001b[0m\u001b[1;33m(\u001b[0m\u001b[0marray\u001b[0m\u001b[1;33m,\u001b[0m \u001b[0morder\u001b[0m\u001b[1;33m=\u001b[0m\u001b[0morder\u001b[0m\u001b[1;33m,\u001b[0m \u001b[0mdtype\u001b[0m\u001b[1;33m=\u001b[0m\u001b[0mdtype\u001b[0m\u001b[1;33m)\u001b[0m\u001b[1;33m\u001b[0m\u001b[1;33m\u001b[0m\u001b[0m\n\u001b[0m\u001b[0;32m    599\u001b[0m             \u001b[1;32mexcept\u001b[0m \u001b[0mComplexWarning\u001b[0m\u001b[1;33m:\u001b[0m\u001b[1;33m\u001b[0m\u001b[1;33m\u001b[0m\u001b[0m\n\u001b[0;32m    600\u001b[0m                 raise ValueError(\"Complex data not supported\\n\"\n",
      "\u001b[1;32m~\\anaconda3\\lib\\site-packages\\numpy\\core\\_asarray.py\u001b[0m in \u001b[0;36masarray\u001b[1;34m(a, dtype, order)\u001b[0m\n\u001b[0;32m     81\u001b[0m \u001b[1;33m\u001b[0m\u001b[0m\n\u001b[0;32m     82\u001b[0m     \"\"\"\n\u001b[1;32m---> 83\u001b[1;33m     \u001b[1;32mreturn\u001b[0m \u001b[0marray\u001b[0m\u001b[1;33m(\u001b[0m\u001b[0ma\u001b[0m\u001b[1;33m,\u001b[0m \u001b[0mdtype\u001b[0m\u001b[1;33m,\u001b[0m \u001b[0mcopy\u001b[0m\u001b[1;33m=\u001b[0m\u001b[1;32mFalse\u001b[0m\u001b[1;33m,\u001b[0m \u001b[0morder\u001b[0m\u001b[1;33m=\u001b[0m\u001b[0morder\u001b[0m\u001b[1;33m)\u001b[0m\u001b[1;33m\u001b[0m\u001b[1;33m\u001b[0m\u001b[0m\n\u001b[0m\u001b[0;32m     84\u001b[0m \u001b[1;33m\u001b[0m\u001b[0m\n\u001b[0;32m     85\u001b[0m \u001b[1;33m\u001b[0m\u001b[0m\n",
      "\u001b[1;31mValueError\u001b[0m: could not convert string to float: 'not_wealthy'"
     ]
    }
   ],
   "source": [
    "print(\"Confusion matrix\")\n",
    "print(confusion_matrix(preds_class, y_test))\n",
    "print(\"Classification report\")\n",
    "print(classification_report(preds_class, y_test))\n",
    "print(\"Test set accuracy:\\t\", accuracy_score(preds_class, y_test))\n",
    "print(f\"FINAL TEST AUC SCORE FOR {dataset_name} : {roc_auc_score(preds_class, y_test)}\")\n"
   ]
  },
  {
   "cell_type": "code",
   "execution_count": null,
   "metadata": {},
   "outputs": [],
   "source": [
    "preds_test"
   ]
  },
  {
   "cell_type": "code",
   "execution_count": 5,
   "metadata": {},
   "outputs": [
    {
     "data": {
      "text/plain": [
       "0.5"
      ]
     },
     "execution_count": 5,
     "metadata": {},
     "output_type": "execute_result"
    }
   ],
   "source": [
    "clf.history['train_auc'][-1]"
   ]
  },
  {
   "cell_type": "code",
   "execution_count": 50,
   "metadata": {},
   "outputs": [
    {
     "data": {
      "text/plain": [
       "25.4609375"
      ]
     },
     "execution_count": 50,
     "metadata": {},
     "output_type": "execute_result"
    }
   ],
   "source": [
    "len(X_train)/1024\n"
   ]
  },
  {
   "cell_type": "code",
   "execution_count": null,
   "metadata": {},
   "outputs": [],
   "source": [
    "#importlib.reload(pytorch_tabnet.tab_model)"
   ]
  },
  {
   "cell_type": "markdown",
   "metadata": {},
   "source": [
    "# Download census-income dataset"
   ]
  },
  {
   "cell_type": "code",
   "execution_count": null,
   "metadata": {},
   "outputs": [],
   "source": []
  },
  {
   "cell_type": "code",
   "execution_count": null,
   "metadata": {},
   "outputs": [],
   "source": []
  },
  {
   "cell_type": "markdown",
   "metadata": {},
   "source": [
    "# Load data and split"
   ]
  },
  {
   "cell_type": "code",
   "execution_count": null,
   "metadata": {},
   "outputs": [],
   "source": []
  },
  {
   "cell_type": "markdown",
   "metadata": {},
   "source": [
    "# Simple preprocessing\n",
    "\n",
    "Label encode categorical features and fill empty cells."
   ]
  },
  {
   "cell_type": "code",
   "execution_count": null,
   "metadata": {},
   "outputs": [],
   "source": []
  },
  {
   "cell_type": "code",
   "execution_count": null,
   "metadata": {},
   "outputs": [],
   "source": []
  },
  {
   "cell_type": "markdown",
   "metadata": {},
   "source": [
    "# Define categorical features for categorical embeddings"
   ]
  },
  {
   "cell_type": "code",
   "execution_count": null,
   "metadata": {},
   "outputs": [],
   "source": []
  },
  {
   "cell_type": "code",
   "execution_count": null,
   "metadata": {},
   "outputs": [],
   "source": [
    "print(\"cat_idxs\")\n",
    "print(cat_idxs)\n",
    "print(\"cat_dims\")\n",
    "print(cat_dims)\n",
    "print(\"con_idxs\")\n",
    "print(con_idxs)"
   ]
  },
  {
   "cell_type": "markdown",
   "metadata": {},
   "source": [
    "# Network parameters"
   ]
  },
  {
   "cell_type": "code",
   "execution_count": null,
   "metadata": {},
   "outputs": [],
   "source": []
  },
  {
   "cell_type": "markdown",
   "metadata": {},
   "source": [
    "# Training"
   ]
  },
  {
   "cell_type": "code",
   "execution_count": null,
   "metadata": {},
   "outputs": [],
   "source": []
  },
  {
   "cell_type": "code",
   "execution_count": null,
   "metadata": {},
   "outputs": [],
   "source": []
  },
  {
   "cell_type": "code",
   "execution_count": null,
   "metadata": {},
   "outputs": [],
   "source": []
  },
  {
   "cell_type": "code",
   "execution_count": null,
   "metadata": {
    "scrolled": true
   },
   "outputs": [],
   "source": []
  },
  {
   "cell_type": "code",
   "execution_count": null,
   "metadata": {},
   "outputs": [],
   "source": [
    "input_dim = 5\n",
    "cat_idxs = [0,1,4]\n",
    "con_idxs = [2,3]\n",
    "cat_dims = [10, 11, 14]\n",
    "cat_emb_dim = [20, 21, 24]\n",
    "con_emb_dim = [22, 23]\n",
    "\n",
    "embedding_dim_info = []\n",
    "for idx in range(input_dim):\n",
    "    if idx in cat_idxs:\n",
    "        embedding_dim_info.append((cat_dims[cat_idxs.index(idx)], cat_emb_dim[cat_idxs.index(idx)]))\n",
    "    if idx in con_idxs:\n",
    "        embedding_dim_info.append((1, con_emb_dim[con_idxs.index(idx)]))\n",
    "embedding_dim_info"
   ]
  },
  {
   "cell_type": "code",
   "execution_count": 4,
   "metadata": {},
   "outputs": [
    {
     "data": {
      "text/plain": [
       "[<matplotlib.lines.Line2D at 0x2448101f850>]"
      ]
     },
     "execution_count": 4,
     "metadata": {},
     "output_type": "execute_result"
    },
    {
     "data": {
      "image/png": "[encoded data removed]",
      "text/plain": [
       "<Figure size 432x288 with 1 Axes>"
      ]
     },
     "metadata": {
      "needs_background": "light"
     },
     "output_type": "display_data"
    }
   ],
   "source": [
    "# plot learning rates\n",
    "plt.plot(clf.history['lr'])"
   ]
  },
  {
   "cell_type": "markdown",
   "metadata": {},
   "source": [
    "## Predictions"
   ]
  },
  {
   "cell_type": "code",
   "execution_count": 5,
   "metadata": {},
   "outputs": [],
   "source": [
    "# check that best weights are used\n",
    "assert np.isclose(valid_auc, np.max(clf.history['valid_auc']), atol=1e-6)"
   ]
  },
  {
   "cell_type": "code",
   "execution_count": 6,
   "metadata": {},
   "outputs": [
    {
     "data": {
      "text/plain": [
       "array(['not_wealthy', 'wealthy', 'wealthy', ..., 'not_wealthy', 'wealthy',\n",
       "       'wealthy'], dtype='<U11')"
      ]
     },
     "execution_count": 6,
     "metadata": {},
     "output_type": "execute_result"
    }
   ],
   "source": [
    "clf.predict(X_test)"
   ]
  },
  {
   "cell_type": "markdown",
   "metadata": {},
   "source": [
    "# Save and load Model"
   ]
  },
  {
   "cell_type": "code",
   "execution_count": 8,
   "metadata": {},
   "outputs": [
    {
     "name": "stdout",
     "output_type": "stream",
     "text": [
      "Successfully saved model at ./tabnet_model_test_1.zip\n"
     ]
    }
   ],
   "source": [
    "# save tabnet model\n",
    "saving_path_name = \"./tabnet_model_test_1\"\n",
    "saved_filepath = clf.save_model(saving_path_name)"
   ]
  },
  {
   "cell_type": "code",
   "execution_count": null,
   "metadata": {},
   "outputs": [],
   "source": [
    "# define new model with basic parameters and load state dict weights\n",
    "loaded_clf = TabNetClassifier()\n",
    "loaded_clf.load_model(saved_filepath)"
   ]
  },
  {
   "cell_type": "code",
   "execution_count": null,
   "metadata": {},
   "outputs": [],
   "source": [
    "loaded_preds = loaded_clf.predict_proba(X_test)\n",
    "loaded_test_auc = roc_auc_score(y_score=loaded_preds[:,1], y_true=y_test)\n",
    "\n",
    "print(f\"FINAL TEST SCORE FOR {dataset_name} : {loaded_test_auc}\")"
   ]
  },
  {
   "cell_type": "code",
   "execution_count": null,
   "metadata": {},
   "outputs": [],
   "source": [
    "assert(test_auc == loaded_test_auc)"
   ]
  },
  {
   "cell_type": "code",
   "execution_count": null,
   "metadata": {},
   "outputs": [],
   "source": [
    "loaded_clf.predict(X_test)"
   ]
  },
  {
   "cell_type": "markdown",
   "metadata": {},
   "source": [
    "# Global explainability : feat importance summing to 1"
   ]
  },
  {
   "cell_type": "code",
   "execution_count": null,
   "metadata": {},
   "outputs": [],
   "source": [
    "clf.feature_importances_"
   ]
  },
  {
   "cell_type": "markdown",
   "metadata": {},
   "source": [
    "# Local explainability and masks"
   ]
  },
  {
   "cell_type": "code",
   "execution_count": null,
   "metadata": {},
   "outputs": [],
   "source": [
    "explain_matrix, masks = clf.explain(X_test)"
   ]
  },
  {
   "cell_type": "code",
   "execution_count": null,
   "metadata": {},
   "outputs": [],
   "source": [
    "fig, axs = plt.subplots(1, 3, figsize=(20,20))\n",
    "\n",
    "for i in range(3):\n",
    "    axs[i].imshow(masks[i][:50])\n",
    "    axs[i].set_title(f\"mask {i}\")\n"
   ]
  },
  {
   "cell_type": "markdown",
   "metadata": {},
   "source": [
    "# XGB"
   ]
  },
  {
   "cell_type": "code",
   "execution_count": 15,
   "metadata": {
    "scrolled": true
   },
   "outputs": [
    {
     "name": "stdout",
     "output_type": "stream",
     "text": [
      "[0]\tvalidation_0-logloss:0.63523\n"
     ]
    },
    {
     "name": "stderr",
     "output_type": "stream",
     "text": [
      "C:\\Users\\root\\anaconda3\\lib\\site-packages\\xgboost\\sklearn.py:1146: UserWarning: The use of label encoder in XGBClassifier is deprecated and will be removed in a future release. To remove this warning, do the following: 1) Pass option use_label_encoder=False when constructing XGBClassifier object; and 2) Encode your labels (y) as integers starting with 0, i.e. 0, 1, 2, ..., [num_class - 1].\n",
      "  warnings.warn(label_encoder_deprecation_msg, UserWarning)\n"
     ]
    },
    {
     "name": "stdout",
     "output_type": "stream",
     "text": [
      "[10]\tvalidation_0-logloss:0.37927\n",
      "[20]\tvalidation_0-logloss:0.31122\n",
      "[30]\tvalidation_0-logloss:0.28684\n",
      "[40]\tvalidation_0-logloss:0.27723\n",
      "[50]\tvalidation_0-logloss:0.27253\n",
      "[60]\tvalidation_0-logloss:0.26951\n",
      "[70]\tvalidation_0-logloss:0.26908\n",
      "[80]\tvalidation_0-logloss:0.26752\n",
      "[90]\tvalidation_0-logloss:0.26729\n",
      "[100]\tvalidation_0-logloss:0.26748\n",
      "[110]\tvalidation_0-logloss:0.26783\n",
      "[120]\tvalidation_0-logloss:0.26779\n",
      "[130]\tvalidation_0-logloss:0.26815\n",
      "[140]\tvalidation_0-logloss:0.26878\n",
      "[142]\tvalidation_0-logloss:0.26913\n"
     ]
    },
    {
     "data": {
      "text/plain": [
       "XGBClassifier(base_score=0.5, booster='gbtree', colsample_bylevel=1,\n",
       "              colsample_bynode=1, colsample_bytree=1, gamma=0, gpu_id=-1,\n",
       "              importance_type='gain', interaction_constraints='',\n",
       "              learning_rate=0.1, max_delta_step=0, max_depth=8,\n",
       "              min_child_weight=1, missing=nan, monotone_constraints='()',\n",
       "              n_estimators=1000, n_jobs=-1, nthread=8, num_parallel_tree=1,\n",
       "              random_state=0, reg_alpha=0, reg_lambda=1, scale_pos_weight=1,\n",
       "              seed=0, silent=None, subsample=0.7, tree_method='exact',\n",
       "              validate_parameters=1, verbosity=0)"
      ]
     },
     "execution_count": 15,
     "metadata": {},
     "output_type": "execute_result"
    }
   ],
   "source": [
    "from xgboost import XGBClassifier\n",
    "\n",
    "clf_xgb = XGBClassifier(max_depth=8,\n",
    "    learning_rate=0.1,\n",
    "    n_estimators=1000,\n",
    "    verbosity=0,\n",
    "    silent=None,\n",
    "    objective='binary:logistic',\n",
    "    booster='gbtree',\n",
    "    n_jobs=-1,\n",
    "    nthread=None,\n",
    "    gamma=0,\n",
    "    min_child_weight=1,\n",
    "    max_delta_step=0,\n",
    "    subsample=0.7,\n",
    "    colsample_bytree=1,\n",
    "    colsample_bylevel=1,\n",
    "    colsample_bynode=1,\n",
    "    reg_alpha=0,\n",
    "    reg_lambda=1,\n",
    "    scale_pos_weight=1,\n",
    "    base_score=0.5,\n",
    "    random_state=0,\n",
    "    seed=None,)\n",
    "\n",
    "clf_xgb.fit(X_train, y_train,\n",
    "        eval_set=[(X_valid, y_valid)],\n",
    "        early_stopping_rounds=40,\n",
    "        verbose=10)"
   ]
  },
  {
   "cell_type": "code",
   "execution_count": 16,
   "metadata": {},
   "outputs": [
    {
     "name": "stdout",
     "output_type": "stream",
     "text": [
      "0.9336413537984218\n",
      "0.9244487257452103\n"
     ]
    },
    {
     "name": "stderr",
     "output_type": "stream",
     "text": [
      "C:\\Users\\root\\anaconda3\\lib\\site-packages\\xgboost\\data.py:112: UserWarning: Use subset (sliced data) of np.ndarray is not recommended because it will generate extra copies and increase memory consumption\n",
      "  warnings.warn(\n",
      "C:\\Users\\root\\anaconda3\\lib\\site-packages\\xgboost\\data.py:112: UserWarning: Use subset (sliced data) of np.ndarray is not recommended because it will generate extra copies and increase memory consumption\n",
      "  warnings.warn(\n"
     ]
    }
   ],
   "source": [
    "preds = np.array(clf_xgb.predict_proba(X_valid))\n",
    "valid_auc = roc_auc_score(y_score=preds[:,1], y_true=y_valid)\n",
    "print(valid_auc)\n",
    "\n",
    "preds = np.array(clf_xgb.predict_proba(X_test))\n",
    "test_auc = roc_auc_score(y_score=preds[:,1], y_true=y_test)\n",
    "print(test_auc)"
   ]
  },
  {
   "cell_type": "code",
   "execution_count": 17,
   "metadata": {},
   "outputs": [
    {
     "name": "stdout",
     "output_type": "stream",
     "text": [
      "0.8760330578512396\n"
     ]
    },
    {
     "name": "stderr",
     "output_type": "stream",
     "text": [
      "C:\\Users\\root\\anaconda3\\lib\\site-packages\\xgboost\\data.py:112: UserWarning: Use subset (sliced data) of np.ndarray is not recommended because it will generate extra copies and increase memory consumption\n",
      "  warnings.warn(\n"
     ]
    }
   ],
   "source": [
    "preds = np.array(clf_xgb.predict(X_test))\n",
    "test_acc = accuracy_score(y_test, preds)\n",
    "print(test_acc)"
   ]
  },
  {
   "cell_type": "code",
   "execution_count": null,
   "metadata": {},
   "outputs": [],
   "source": []
  }
 ],
 "metadata": {
  "kernelspec": {
   "display_name": "Python 3",
   "language": "python",
   "name": "python3"
  },
  "language_info": {
   "codemirror_mode": {
    "name": "ipython",
    "version": 3
   },
   "file_extension": ".py",
   "mimetype": "text/x-python",
   "name": "python",
   "nbconvert_exporter": "python",
   "pygments_lexer": "ipython3",
   "version": "3.8.5"
  },
  "toc": {
   "base_numbering": 1,
   "nav_menu": {},
   "number_sections": true,
   "sideBar": true,
   "skip_h1_title": false,
   "title_cell": "Table of Contents",
   "title_sidebar": "Contents",
   "toc_cell": false,
   "toc_position": {},
   "toc_section_display": true,
   "toc_window_display": false
  }
 },
 "nbformat": 4,
 "nbformat_minor": 2
}
